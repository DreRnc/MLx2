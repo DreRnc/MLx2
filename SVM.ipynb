{
 "cells": [
  {
   "attachments": {},
   "cell_type": "markdown",
   "metadata": {},
   "source": [
    "# Support Vector Machine Experiments"
   ]
  },
  {
   "cell_type": "code",
   "execution_count": 1,
   "metadata": {},
   "outputs": [],
   "source": [
    "from src.svr2 import MultiOutputSVR\n",
    "from src.GridSearch2 import GridSearch\n",
    "from data.load_data import load_monk, load_MLCup\n",
    "import numpy as np\n",
    "import os\n",
    "import matplotlib.pyplot as plt\n",
    "from sklearn.model_selection import train_test_split\n"
   ]
  },
  {
   "cell_type": "code",
   "execution_count": 2,
   "metadata": {},
   "outputs": [],
   "source": [
    "path = os.getcwd()\n",
    "file_train = '/data/ML-CUP22-TR.csv'\n",
    "file_test = '/data/ML-CUP22-TS.csv'\n",
    "\n",
    "labels_train = ['x1','x2','x3','x4','x5','x6','x7','x8','x9','y1','y2']\n",
    "labels_test = ['x1','x2','x3','x4','x5','x6','x7','x8','x9']\n",
    "\n",
    "X, y = load_MLCup(path + file_train, labels_train)\n",
    "X_train, X_test, y_train, y_test = train_test_split(X, y, test_size = 0.1, random_state = 42)\n",
    "\n",
    "X_blind_test = load_MLCup(path + file_test, labels_test)"
   ]
  },
  {
   "cell_type": "code",
   "execution_count": 3,
   "metadata": {},
   "outputs": [
    {
     "name": "stdout",
     "output_type": "stream",
     "text": [
      "Grid search of 324 combinations.\n",
      "Parallelisation activated\n"
     ]
    }
   ],
   "source": [
    "svr_rbf = MultiOutputSVR(n_outputs = 2, kernel = 'rbf')\n",
    "\n",
    "params_grid = {\n",
    "    \"C\" : [50, 75, 100, 500],\n",
    "    \"epsilon\" : [0.001, 0.01, 0.1],\n",
    "    \"gamma\" : [0.5, 0.75, 1],\n",
    "    \"max_iter\" : [10, 50, 100],\n",
    "    \"tolerance\" : [0.0001, 0.001, 0.01]\n",
    "}\n",
    "\n",
    "grid_svr_rbf = GridSearch(svr_rbf)\n",
    "grid_svr_rbf.fit(X_train, y_train, params_grid, n_folds = 5, parallel = True, verbose = False)\n",
    "print('*' * 30)\n",
    "grid_svr_rbf.print_grid_results(n_results = 10)"
   ]
  },
  {
   "cell_type": "code",
   "execution_count": null,
   "metadata": {},
   "outputs": [],
   "source": [
    "svr_poly = MultiOutputSVR(n_outputs = 2, kernel = 'polynomial')\n",
    "\n",
    "params_grid = {\n",
    "    \"C\" : [50, 75, 100, 500],\n",
    "    \"epsilon\" : [0.001, 0.01, 0.1],\n",
    "    \"max_iter\" : [10, 50, 100],\n",
    "    \"tolerance\" : [0.0001, 0.001, 0.01],\n",
    "    \"degree\" : [2, 3, 5, 6, 9],\n",
    "    \"offset\" : [0.5, 1, 2, 5]\n",
    "}\n",
    "\n",
    "grid_svr_poly = GridSearch(svr_rbf)\n",
    "grid_svr_poly.fit(X_train, y_train, params_grid, n_folds = 5, parallel = True, verbose = False)\n",
    "print('*' * 30)\n",
    "grid_svr_poly.print_grid_results(n_results = 10)"
   ]
  },
  {
   "cell_type": "code",
   "execution_count": null,
   "metadata": {},
   "outputs": [],
   "source": [
    "if grid_svr_poly.best_score < grid_svr_rbf.best_score:\n",
    "    best_kernel = grid_svr_rbf\n",
    "else:\n",
    "    best_kernel = grid_svr_poly\n",
    "\n",
    "best_model = best_kernel.best_model\n",
    "best_params = best_kernel.get_best_parameters()\n",
    "\n",
    "print(f\"Best kernel : {best_model.kernel}\")\n",
    "print(f\"Best parameters : {best_params}\")\n",
    "print(f\"Best mean validation error : {best_model.best_score}\")"
   ]
  },
  {
   "cell_type": "code",
   "execution_count": null,
   "metadata": {},
   "outputs": [],
   "source": [
    "# Get the best model\n",
    "best_model.fit(X_train, y_train, **best_params)\n",
    "y_pred = best_model.predict(X_test)\n",
    "\n",
    "# Print the resulting errors\n",
    "print(f\"Train MEE : {best_model.evaluate_model(X_train, y_train, 'mee')}\")\n",
    "print(f\"Test MEE : {best_model.evaluate_model(X_test, y_test, 'mee')}\")"
   ]
  },
  {
   "cell_type": "code",
   "execution_count": null,
   "metadata": {},
   "outputs": [],
   "source": [
    "fig, (ax1, ax2) = plt.subplots(1,2, figsize = (12,4))\n",
    "\n",
    "\n",
    "#scatterplot of y_test and y_pred\n",
    "ax1.scatter(y_test[:,1], y_test[:,0], label = 'Groud Truth')\n",
    "ax1.scatter(y_pred[:,1], y_pred[:,0], color = 'red', label = 'Predicted')\n",
    "ax1.legend()\n",
    "ax1.set_ybound(0,27)\n",
    "ax1.set_xbound(-37,-12)\n",
    "ax1.set_title('Test predictions and ground truth')\n",
    "\n",
    "y_cup = best_model.predict(X_blind_test)\n",
    "ax2.scatter(y_cup[:,1], y_cup[:,0], c = 'k', label = 'Blind test predictions')\n",
    "ax2.legend()\n",
    "ax2.set_ybound(0,27)\n",
    "ax2.set_xbound(-37,-12)\n",
    "ax2.set_title('Blind test predctions')"
   ]
  }
 ],
 "metadata": {
  "kernelspec": {
   "display_name": "MLenv",
   "language": "python",
   "name": "python3"
  },
  "language_info": {
   "codemirror_mode": {
    "name": "ipython",
    "version": 3
   },
   "file_extension": ".py",
   "mimetype": "text/x-python",
   "name": "python",
   "nbconvert_exporter": "python",
   "pygments_lexer": "ipython3",
   "version": "3.10.8"
  },
  "orig_nbformat": 4,
  "vscode": {
   "interpreter": {
    "hash": "55fdccf223e9fce2cb36e15cd74934d115df4d4399b903c8679eddb75ff6c337"
   }
  }
 },
 "nbformat": 4,
 "nbformat_minor": 2
}
