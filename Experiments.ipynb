{
 "cells": [
  {
   "attachments": {},
   "cell_type": "markdown",
   "metadata": {},
   "source": [
    "# Experiments"
   ]
  },
  {
   "cell_type": "code",
   "execution_count": 1,
   "metadata": {},
   "outputs": [],
   "source": [
    "import numpy as np\n",
    "import pandas as pd\n",
    "import joblib\n",
    "import matplotlib.pyplot as plt\n",
    "import os\n",
    "from data.load_data import load_monk, load_MLCup\n",
    "from src.MetricFunctions import get_metric_instance\n",
    "from src.MLP import MLP\n",
    "from src.GridSearch import GridSearch, RandomGridsearch\n",
    "from sklearn.model_selection import train_test_split\n",
    "from sklearn.preprocessing import StandardScaler\n",
    "from src.EarlyStopping import EarlyStopping"
   ]
  },
  {
   "attachments": {},
   "cell_type": "markdown",
   "metadata": {},
   "source": [
    "## Task 1: Regression"
   ]
  },
  {
   "attachments": {},
   "cell_type": "markdown",
   "metadata": {},
   "source": [
    "Preparation: Loading MLCup Dataset"
   ]
  },
  {
   "cell_type": "code",
   "execution_count": 2,
   "metadata": {},
   "outputs": [
    {
     "name": "stdout",
     "output_type": "stream",
     "text": [
      "(1492, 9)\n",
      "(1492, 2)\n",
      "(529, 9)\n"
     ]
    }
   ],
   "source": [
    "path = os.getcwd()\n",
    "file_train = '/data/ML-CUP22-TR.csv'\n",
    "file_test = '/data/ML-CUP22-TS.csv'\n",
    "\n",
    "labels_train = ['x1','x2','x3','x4','x5','x6','x7','x8','x9','y1','y2']\n",
    "labels_test = ['x1','x2','x3','x4','x5','x6','x7','x8','x9']\n",
    "\n",
    "X_train, y_train = load_MLCup(path + file_train, labels_train)\n",
    "X_test = load_MLCup(path + file_test, labels_test)\n",
    "\n",
    "print(X_train.shape)\n",
    "print(y_train.shape)\n",
    "print(X_test.shape)\n",
    "\n"
   ]
  },
  {
   "cell_type": "code",
   "execution_count": null,
   "metadata": {},
   "outputs": [],
   "source": []
  },
  {
   "attachments": {},
   "cell_type": "markdown",
   "metadata": {},
   "source": [
    "## Task 2: Classification"
   ]
  },
  {
   "attachments": {},
   "cell_type": "markdown",
   "metadata": {},
   "source": [
    "### Preparation: Loading Monk Datasets"
   ]
  },
  {
   "cell_type": "code",
   "execution_count": 14,
   "metadata": {},
   "outputs": [],
   "source": [
    "path = os.getcwd()\n",
    "file_train = '/data/monks-1.train'\n",
    "\n",
    "# Set T[i][j]: Set i, j = 0: variables, j = 1: targets\n",
    "TR_sets = [] \n",
    "TS_sets = [] \n",
    "for i in range(0,3):\n",
    "    TR_sets.append(load_monk(path + f'/data/monks-{i + 1}.train'))\n",
    "    TS_sets.append(load_monk(path + f'/data/monks-{i + 1}.test'))\n"
   ]
  },
  {
   "attachments": {},
   "cell_type": "markdown",
   "metadata": {},
   "source": [
    "### Experiment 2.1: One hidden layer with sigmoid activation, sigmoid output"
   ]
  },
  {
   "cell_type": "code",
   "execution_count": 4,
   "metadata": {},
   "outputs": [
    {
     "ename": "NameError",
     "evalue": "name 'X' is not defined",
     "output_type": "error",
     "traceback": [
      "\u001b[0;31m---------------------------------------------------------------------------\u001b[0m",
      "\u001b[0;31mNameError\u001b[0m                                 Traceback (most recent call last)",
      "Cell \u001b[0;32mIn[4], line 3\u001b[0m\n\u001b[1;32m      1\u001b[0m mlp \u001b[39m=\u001b[39m MLP([\u001b[39m4\u001b[39m], \u001b[39m6\u001b[39m, \u001b[39m1\u001b[39m, task \u001b[39m=\u001b[39m \u001b[39m\"\u001b[39m\u001b[39mclassification\u001b[39m\u001b[39m\"\u001b[39m)\n\u001b[0;32m----> 3\u001b[0m learning_curve \u001b[39m=\u001b[39m mlp\u001b[39m.\u001b[39mfit(X, y_true, n_epochs \u001b[39m=\u001b[39m \u001b[39m20000\u001b[39m, batch_size \u001b[39m=\u001b[39m \u001b[39m20\u001b[39m, error \u001b[39m=\u001b[39m \u001b[39m\"\u001b[39m\u001b[39mNLL\u001b[39m\u001b[39m\"\u001b[39m)\n\u001b[1;32m      5\u001b[0m fig, ax \u001b[39m=\u001b[39m plt\u001b[39m.\u001b[39msubplots(figsize\u001b[39m=\u001b[39m(\u001b[39m5\u001b[39m, \u001b[39m5\u001b[39m), layout\u001b[39m=\u001b[39m\u001b[39m'\u001b[39m\u001b[39mconstrained\u001b[39m\u001b[39m'\u001b[39m)\n\u001b[1;32m      6\u001b[0m ax\u001b[39m.\u001b[39mplot(\u001b[39mrange\u001b[39m(\u001b[39m20000\u001b[39m), learning_curve, linewidth \u001b[39m=\u001b[39m \u001b[39m1\u001b[39m)\n",
      "\u001b[0;31mNameError\u001b[0m: name 'X' is not defined"
     ]
    }
   ],
   "source": [
    "mlp = MLP([4], 6, 1, task = \"classification\")\n",
    "\n",
    "learning_curve = mlp.fit(X, y_true, n_epochs = 20000, batch_size = 20, error = \"NLL\")\n",
    "\n",
    "fig, ax = plt.subplots(figsize=(5, 5), layout='constrained')\n",
    "ax.plot(range(20000), learning_curve, linewidth = 1)\n",
    "ax.set_xlabel('Epoch')  \n",
    "ax.set_ylabel(\"Accuracy\")  \n",
    "ax.legend()"
   ]
  }
 ],
 "metadata": {
  "kernelspec": {
   "display_name": "mlx2env",
   "language": "python",
   "name": "python3"
  },
  "language_info": {
   "codemirror_mode": {
    "name": "ipython",
    "version": 3
   },
   "file_extension": ".py",
   "mimetype": "text/x-python",
   "name": "python",
   "nbconvert_exporter": "python",
   "pygments_lexer": "ipython3",
   "version": "3.10.8"
  },
  "orig_nbformat": 4,
  "vscode": {
   "interpreter": {
    "hash": "ed0be3fc2c904159af230147fb8c5b6a9503599b122f9148b8936b9beff70f89"
   }
  }
 },
 "nbformat": 4,
 "nbformat_minor": 2
}
