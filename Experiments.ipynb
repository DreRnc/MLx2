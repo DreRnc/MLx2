{
 "cells": [
  {
   "cell_type": "markdown",
   "metadata": {},
   "source": [
    "# Experiments"
   ]
  },
  {
   "cell_type": "code",
   "execution_count": null,
   "metadata": {},
   "outputs": [],
   "source": [
    "import numpy as np\n",
    "import pandas as pd\n",
    "import joblib\n",
    "import matplotlib.pyplot as plt\n",
    "import os\n",
    "from data.load_data import load_monk, load_MLCup\n",
    "from src.MetricFunctions import get_metric_instance\n",
    "from src.MLP import MLP\n",
    "from src.GridSearch import GridSearch, RandomGridsearch\n",
    "from sklearn.model_selection import train_test_split\n",
    "from sklearn.preprocessing import StandardScaler\n",
    "from src.EarlyStopping import EarlyStopping\n",
    "from src.BestModelSearch import BestModelSearch"
   ]
  },
  {
   "cell_type": "markdown",
   "metadata": {},
   "source": [
    "## Task 1: Regression"
   ]
  },
  {
   "cell_type": "markdown",
   "metadata": {},
   "source": [
    "Preparation: Loading MLCup Dataset"
   ]
  },
  {
   "cell_type": "code",
   "execution_count": null,
   "metadata": {},
   "outputs": [],
   "source": [
    "path = os.getcwd()\n",
    "file_train = '/data/ML-CUP22-TR.csv'\n",
    "file_test = '/data/ML-CUP22-TS.csv'\n",
    "\n",
    "labels_train = ['x1','x2','x3','x4','x5','x6','x7','x8','x9','y1','y2']\n",
    "labels_test = ['x1','x2','x3','x4','x5','x6','x7','x8','x9']\n",
    "\n",
    "X_train, y_train = load_MLCup(path + file_train, labels_train)\n",
    "X_test = load_MLCup(path + file_test, labels_test)\n",
    "\n",
    "print(X_train.shape)\n",
    "print(y_train.shape)\n",
    "print(X_test.shape)\n",
    "\n"
   ]
  },
  {
   "cell_type": "code",
   "execution_count": null,
   "metadata": {},
   "outputs": [],
   "source": [
    "fig, ax = plt.subplots()\n",
    "for step in [0.02,0.03,0.04,0.05]:\n",
    "    mlp = MLP([60,40,20], 9, 2, task = \"regression\", activation_function = 'sigm')\n",
    "    mlp.fit(X_train, y_train, n_epochs = 500, batch_size = 256, momentum = 0.8, Nesterov = False, step = step, patience = 1000)\n",
    "    ax.plot(mlp.validation_curve, label = str(step))\n",
    "    print(mlp.validation_curve[499])\n",
    "ax.legend()"
   ]
  },
  {
   "cell_type": "code",
   "execution_count": null,
   "metadata": {},
   "outputs": [],
   "source": [
    "for alpha_l2 in [0,0.05]:\n",
    "    mlp = MLP([60,20], 9, 2, task = \"regression\", activation_function = 'sigm')\n",
    "    mlp.fit(X_train, y_train, n_epochs = 500, batch_size = 256, step = 0.02, \n",
    "            momentum = 0.8, Nesterov = True, patience = 1000, regularization = \"l2\", alpha_l2=alpha_l2)\n",
    "    fig, ax = plt.subplots()\n",
    "    ax.plot(mlp.learning_curve, label = \"training MSE\")\n",
    "    ax.plot(mlp.validation_curve, label = \"validation MSE\")\n",
    "    ax.legend()\n",
    "    print(mlp.validation_curve[499])\n",
    "    "
   ]
  },
  {
   "cell_type": "markdown",
   "metadata": {},
   "source": [
    "## Task 2: Classification"
   ]
  },
  {
   "cell_type": "markdown",
   "metadata": {},
   "source": [
    "### Preparation: Loading Monk Datasets"
   ]
  },
  {
   "cell_type": "code",
   "execution_count": null,
   "metadata": {},
   "outputs": [],
   "source": [
    "path = os.getcwd()\n",
    "file_train = '/data/monks-1.train'\n",
    "\n",
    "labels = ['class','x1','x2','x3','x4','x5','x6']\n",
    "\n",
    "TR_sets = [[]] \n",
    "TS_sets = [[]] \n",
    "for i in range(1,4):\n",
    "    TR_sets.append(load_monk(path + f'/data/monks-{i}.train', labels))\n",
    "    TS_sets.append(load_monk(path + f'/data/monks-{i}.test', labels))\n"
   ]
  },
  {
   "attachments": {},
   "cell_type": "markdown",
   "metadata": {},
   "source": [
    "### Experiment 2.1 - Tanh"
   ]
  },
  {
   "cell_type": "code",
   "execution_count": null,
   "metadata": {},
   "outputs": [],
   "source": [
    "curves = []\n",
    "params = {\n",
    "    \"n_epochs\" : 1500, \n",
    "    \"error\" : \"mse\", \n",
    "    \"verbose\" : False,\n",
    "    \"step\" : 1, \n",
    "    \"momentum\" : 0.5, \n",
    "    \"weights_scale\" : 0.01,\n",
    "    \"weights_initialization\" : 'xavier',\n",
    "    \"early_stopping\" : False,\n",
    "    \"eval_metric\" : 'mse'\n",
    "    }\n",
    "\n",
    "\n",
    "\n",
    "def name(i):\n",
    "    if i in (0,1,2):\n",
    "        return i + 1\n",
    "    else:\n",
    "        return i\n",
    "\n",
    "# Record Statistics for 10 runs\n",
    "\n",
    "for k in range(0,10):\n",
    "    \n",
    "    for i in range(0,4):\n",
    "\n",
    "        print(\"**************************************\")\n",
    "        print(f\"Monk Dataset {name(i)}, Random Run {k + 1}\")\n",
    "        input_size = TR_sets[name(i)][0][0].shape[0]\n",
    "        n_samples = TR_sets[name(i)][0].shape[0]\n",
    "        params[\"batch_size\"] = n_samples\n",
    "        \n",
    "        mlp = MLP([4], input_size = input_size, output_size = 1, task = \"classification\", activation_function = 'tanh')\n",
    "\n",
    "        # Curves with MSE/Accuracy\n",
    "        if i < 3:\n",
    "            # All without regularization\n",
    "            params[\"regularization\"] = 'no'\n",
    "            mlp.fit(X = TR_sets[name(i)][0], y_true = TR_sets[name(i)][1], X_test = TS_sets[name(i)][0], y_test =  TS_sets[name(i)][1], **params)\n",
    "        else:\n",
    "            # Monk 3 with regularization\n",
    "            params[\"regularization\"] = 'l2'\n",
    "            params[\"alpha_l2\"] = 0.00075\n",
    "            mlp.fit(X = TR_sets[name(i)][0], y_true = TR_sets[name(i)][1], X_test = TS_sets[name(i)][0], y_test =  TS_sets[name(i)][1], **params)\n",
    "        \n",
    "        if k == 1:\n",
    "            curves.append([[mlp.learning_curve, mlp.learning_accuracy_curve], [mlp.validation_curve, mlp.test_accuracy_curve]])\n",
    "        \n",
    "        # print()\n",
    "        print(f\"Accuracy on test set {i}, Random Run {k + 1}: {mlp.evaluate_model(TS_sets[name(i)][0], TS_sets[name(i)][1], metric = 'accuracy')}\")\n",
    "        print()\n",
    "    \n",
    "\n",
    "\n",
    "\n",
    "\n",
    "\n",
    "# Plot the learning curves\n",
    "figure, axis = plt.subplots(4, 2, figsize = (20, 32))\n",
    "\n",
    "for j in range(0,4):\n",
    "\n",
    "    # Plot MSE training and validation curves\n",
    "    axis[j, 0].plot(range(0, len(curves[j][0][0]), 1), curves[j][0][0],\\\n",
    "        linewidth = 1, label = 'Training MSE')\n",
    "    axis[j, 0].plot(range(0, len(curves[j][1][0]), 1), curves[j][1][0],\\\n",
    "        linewidth = 1, label = 'Test MSE')\n",
    "    axis[j, 0].set_title(f\"MONK's-{name(j)} results (MSE) - Random Run 1\")\n",
    "    axis[j, 0].set_xlabel('Epoch') \n",
    "    axis[j, 0].set_ylabel('MSE')  \n",
    "    axis[j, 0].legend()\n",
    "\n",
    "\n",
    "    # Plot Accuracy training and validation curves\n",
    "    axis[j, 1].plot(range(0, len(curves[j][0][1]), 1), curves[j][0][1],\\\n",
    "        linewidth = 1, label = 'Training Accuracy')\n",
    "    axis[j, 1].plot(range(0, len(curves[j][1][1]), 1), curves[j][1][1],\\\n",
    "        linewidth = 1, label = 'Test Accuracy')\n",
    "    axis[j, 1].set_title(f\"MONK's-{name(j)} results (Accuracy) - Random Run 1\")\n",
    "    axis[j, 1].set_xlabel('Epoch') \n",
    "    axis[j, 1].set_ylabel('Accuracy')  \n",
    "    axis[j, 1].legend()\n",
    "\n",
    "plt.show()\n"
   ]
  }
 ],
 "metadata": {
  "kernelspec": {
   "display_name": "Python 3 (ipykernel)",
   "language": "python",
   "name": "python3"
  },
  "language_info": {
   "codemirror_mode": {
    "name": "ipython",
    "version": 3
   },
   "file_extension": ".py",
   "mimetype": "text/x-python",
   "name": "python",
   "nbconvert_exporter": "python",
   "pygments_lexer": "ipython3",
   "version": "3.9.13"
  },
  "vscode": {
   "interpreter": {
    "hash": "9a84d6694d99063d2bb0286ebc4a83b7a5fbbe8812bdd85c9b7227af9c494503"
   }
  }
 },
 "nbformat": 4,
 "nbformat_minor": 2
}
