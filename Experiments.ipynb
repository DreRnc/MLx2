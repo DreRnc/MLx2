{
 "cells": [
  {
   "attachments": {},
   "cell_type": "markdown",
   "metadata": {},
   "source": [
    "# Experiments"
   ]
  },
  {
   "cell_type": "code",
   "execution_count": null,
   "metadata": {},
   "outputs": [],
   "source": [
    "import numpy as np\n",
    "import pandas as pd\n",
    "import joblib\n",
    "import matplotlib.pyplot as plt\n",
    "import os\n",
    "from data.load_data import load_monk, load_MLCup\n",
    "from src.MetricFunctions import get_metric_instance\n",
    "from src.MLP import MLP\n",
    "from src.GridSearch import GridSearch, RandomGridsearch\n",
    "from sklearn.model_selection import train_test_split\n",
    "from sklearn.preprocessing import StandardScaler\n",
    "from src.EarlyStopping import EarlyStopping\n",
    "from src.BestModelSearch import BestModelSearch"
   ]
  },
  {
   "attachments": {},
   "cell_type": "markdown",
   "metadata": {},
   "source": [
    "## Task 1: Regression"
   ]
  },
  {
   "attachments": {},
   "cell_type": "markdown",
   "metadata": {},
   "source": [
    "Preparation: Loading MLCup Dataset"
   ]
  },
  {
   "cell_type": "code",
   "execution_count": null,
   "metadata": {},
   "outputs": [],
   "source": [
    "path = os.getcwd()\n",
    "file_train = '/data/ML-CUP22-TR.csv'\n",
    "file_test = '/data/ML-CUP22-TS.csv'\n",
    "\n",
    "labels_train = ['x1','x2','x3','x4','x5','x6','x7','x8','x9','y1','y2']\n",
    "labels_test = ['x1','x2','x3','x4','x5','x6','x7','x8','x9']\n",
    "\n",
    "X_train, y_train = load_MLCup(path + file_train, labels_train)\n",
    "X_test = load_MLCup(path + file_test, labels_test)\n",
    "\n",
    "print(X_train.shape)\n",
    "print(y_train.shape)\n",
    "print(X_test.shape)\n"
   ]
  },
  {
   "attachments": {},
   "cell_type": "markdown",
   "metadata": {},
   "source": [
    "## Task 2: Classification"
   ]
  },
  {
   "attachments": {},
   "cell_type": "markdown",
   "metadata": {},
   "source": [
    "### Preparation: Loading Monk Datasets"
   ]
  },
  {
   "cell_type": "code",
   "execution_count": null,
   "metadata": {},
   "outputs": [],
   "source": [
    "path = os.getcwd()\n",
    "file_train = '/data/monks-1.train'\n",
    "\n",
    "labels = ['class','x1','x2','x3','x4','x5','x6']\n",
    "\n",
    "TR_sets = [[]] \n",
    "TS_sets = [[]] \n",
    "for i in range(0,3):\n",
    "    TR_sets.append(load_monk(path + f'/data/monks-{i + 1}.train', labels))\n",
    "    TS_sets.append(load_monk(path + f'/data/monks-{i + 1}.test', labels))\n"
   ]
  },
  {
   "cell_type": "markdown",
   "metadata": {},
   "source": [
    "### Experiment 2.1 - Sigmoid Activation"
   ]
  },
  {
   "cell_type": "code",
   "execution_count": null,
   "metadata": {},
   "outputs": [],
   "source": [
    "learning_curves = []\n",
    "params = []\n",
    "\n",
    "for i in range(1,4):\n",
    "\n",
    "    print(\"**************************************\")\n",
    "    print(f\"Monk Dataset {i}\")\n",
    "    input_size = TR_sets[i][0][0].shape[0]\n",
    "    n_samples = TR_sets[i][0].shape[0]\n",
    "    \n",
    "    mlp = MLP([4], input_size = input_size, output_size = 1, task = \"classification\", activation_function = 'tanh')\n",
    "\n",
    "    mlp.fit(TR_sets[i][0], TR_sets[i][1], n_epochs = 1500, batch_size = n_samples,\\\n",
    "        error = \"mse\", verbose = False, alpha_l2 = 0, step = 0.3, momentum = 0.5, weights_scale = 0.1,\\\n",
    "        eval_metric = 'mse', weights_initialization = 'xavier')\n",
    "        \n",
    "    learning_curves.append(mlp.learning_curve)\n",
    "    \n",
    "    print()\n",
    "    print(f\"Accuracy on test set {i}: {mlp.evaluate_model(TS_sets[i][0], TS_sets[i][1], metric = 'accuracy')}\")\n",
    "    print()\n",
    "\n",
    "fig, ax = plt.subplots()\n",
    "\n",
    "j = 1\n",
    "for learning_curve in learning_curves:\n",
    "    ax.plot(range(0, len(learning_curve), 1), learning_curve, linewidth = 1, label =f'Monk Dataset {j}')\n",
    "    j += 1\n",
    "\n",
    "\n",
    "ax.set_xlabel('Epoch')  \n",
    "ax.set_ylabel('MSE')  \n",
    "ax.set_title(\"Learning curves on monk datasets\")  \n",
    "ax.legend()"
   ]
  },
  {
   "cell_type": "code",
   "execution_count": null,
   "metadata": {},
   "outputs": [],
   "source": [
    "\"\"\"\n",
    "fig, ax = plt.subplots()\n",
    "learning_curves = []\n",
    "\n",
    "for i in range(1,4):\n",
    "    \n",
    "    n_samples = TR_sets[i][0].shape[0]\n",
    "    \n",
    "    grid_parameters = {'n_epochs': [500, 1000],\n",
    "        'batch_size': [n_samples], \n",
    "        'step': [1e-4, 1e-3, 1e-2, 1e-1],\n",
    "        'momentum' : [0.5, 0.75],\n",
    "        'error' : [\"mse\"],\n",
    "        'verbose' : [False],\n",
    "        'Nesterov' : [True, False],\n",
    "        'regularization' : ['l2'],\n",
    "        'alpha_l1' : [0],\n",
    "        'alpha_l2' : [1e-1, 1e-2, 1e-3, 1e-7],\n",
    "        }\n",
    "\n",
    "    print(\"**************************************\")\n",
    "    print(f\"Monk Dataset {i}\")\n",
    "\n",
    "    input_size = TR_sets[i][0][0].shape[0]\n",
    "    mlp = MLP([4], input_size = input_size, output_size = 1, task = \"classification\", activation_function = 'tanh')\n",
    "\n",
    "    model_search = BestModelSearch(mlp)\n",
    "    model_search.fit(X_train = TR_sets[i][0], y_train = TR_sets[i][1], X_test = TS_sets[i][0], y_test = TS_sets[i][1], parameters_grid = grid_parameters, verbose = False, parallel = False)\n",
    "\n",
    "    best_model = model_search.best_model\n",
    "    learning_curves.append(best_model.learning_curve)\n",
    "\n",
    "    print()\n",
    "    print(f\"Accuracy on test set {i}: {best_model.evaluate_model(TS_sets[i][0], TS_sets[i][1])}\")\n",
    "    print(\"Reached with parameters: \", model_search.get_best_parameters())\n",
    "    print()\n",
    "\n",
    "j = 1\n",
    "for learning_curve in learning_curves:\n",
    "    ax.plot(range(0, len(learning_curve), 1), learning_curve, linewidth = 1, label =f'Monk Dataset {j}')\n",
    "    j += 1\n",
    "\n",
    "\n",
    "ax.set_xlabel('Epoch')\n",
    "ax.set_ylabel('Accuracy')\n",
    "ax.set_title(\"Learning curves on monk datasets\")\n",
    "\n",
    "\"\"\""
   ]
  }
 ],
 "metadata": {
  "kernelspec": {
   "display_name": "mlx2env",
   "language": "python",
   "name": "python3"
  },
  "language_info": {
   "codemirror_mode": {
    "name": "ipython",
    "version": 3
   },
   "file_extension": ".py",
   "mimetype": "text/x-python",
   "name": "python",
   "nbconvert_exporter": "python",
   "pygments_lexer": "ipython3",
   "version": "3.10.8"
  },
  "orig_nbformat": 4,
  "vscode": {
   "interpreter": {
    "hash": "ed0be3fc2c904159af230147fb8c5b6a9503599b122f9148b8936b9beff70f89"
   }
  }
 },
 "nbformat": 4,
 "nbformat_minor": 2
}
