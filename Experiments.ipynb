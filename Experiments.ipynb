{
 "cells": [
  {
   "attachments": {},
   "cell_type": "markdown",
   "metadata": {},
   "source": [
    "# Experiments"
   ]
  },
  {
   "cell_type": "code",
   "execution_count": null,
   "metadata": {},
   "outputs": [],
   "source": [
    "import numpy as np\n",
    "import pandas as pd\n",
    "import joblib\n",
    "import matplotlib.pyplot as plt\n",
    "import os\n",
    "from data.load_data import load_monk, load_MLCup\n",
    "from src.MetricFunctions import get_metric_instance\n",
    "from src.MLP import MLP\n",
    "from src.GridSearch import GridSearch, RandomGridsearch\n",
    "from sklearn.model_selection import train_test_split\n",
    "from sklearn.preprocessing import StandardScaler\n",
    "from src.EarlyStopping import EarlyStopping"
   ]
  },
  {
   "attachments": {},
   "cell_type": "markdown",
   "metadata": {},
   "source": [
    "## Task 1: Regression"
   ]
  },
  {
   "attachments": {},
   "cell_type": "markdown",
   "metadata": {},
   "source": [
    "Preparation: Loading MLCup Dataset"
   ]
  },
  {
   "cell_type": "code",
   "execution_count": null,
   "metadata": {},
   "outputs": [],
   "source": [
    "path = os.getcwd()\n",
    "file_train = '/data/ML-CUP22-TR.csv'\n",
    "file_test = '/data/ML-CUP22-TS.csv'\n",
    "\n",
    "labels_train = ['x1','x2','x3','x4','x5','x6','x7','x8','x9','y1','y2']\n",
    "labels_test = ['x1','x2','x3','x4','x5','x6','x7','x8','x9']\n",
    "\n",
    "X_train, y_train = load_MLCup(path + file_train, labels_train)\n",
    "X_test = load_MLCup(path + file_test, labels_test)\n",
    "\n",
    "print(X_train.shape)\n",
    "print(y_train.shape)\n",
    "print(X_test.shape)\n",
    "\n"
   ]
  },
  {
   "attachments": {},
   "cell_type": "markdown",
   "metadata": {},
   "source": [
    "## Task 2: Classification"
   ]
  },
  {
   "attachments": {},
   "cell_type": "markdown",
   "metadata": {},
   "source": [
    "### Preparation: Loading Monk Datasets"
   ]
  },
  {
   "cell_type": "code",
   "execution_count": null,
   "metadata": {},
   "outputs": [],
   "source": [
    "path = os.getcwd()\n",
    "file_train = '/data/monks-1.train'\n",
    "\n",
    "# Set T[i][j]: Set i, j = 0: variables, j = 1: targets\n",
    "TR_sets = [[]] \n",
    "TS_sets = [[]] \n",
    "for i in range(0,3):\n",
    "    TR_sets.append(load_monk(path + f'/data/monks-{i + 1}.train'))\n",
    "    TS_sets.append(load_monk(path + f'/data/monks-{i + 1}.test'))\n",
    "\n",
    "print (TR_sets[1][0].shape[0])"
   ]
  },
  {
   "cell_type": "markdown",
   "metadata": {},
   "source": [
    "### Experiment 2.1 - Sigmoid Activation"
   ]
  },
  {
   "cell_type": "code",
   "execution_count": null,
   "metadata": {},
   "outputs": [],
   "source": [
    "\n",
    "for i in range(1,4):\n",
    "\n",
    "    print(\"**************************************\")\n",
    "    print(f\"Monk Dataset {i}\")\n",
    "    input_size = TR_sets[i][0][0].shape[0]\n",
    "    n_samples = TR_sets[i][0].shape[0]\n",
    "    \n",
    "    mlp = MLP([10], input_size = input_size, output_size = 1, task = \"classification\", activation_function = 'sigmoid')\n",
    "\n",
    "    learning_curve = mlp.fit(TR_sets[i][0], TR_sets[i][1], n_epochs = 5000, batch_size = n_samples,\\\n",
    "        error = \"NLL\", verbose = False, alpha_l2 = 1e-6, step = 1)\n",
    "    print()\n",
    "    print(f\"Accuracy on test set {i}: {mlp.evaluate_model(TS_sets[i][0], TS_sets[i][1])}\")\n",
    "    print()\n",
    "\n"
   ]
  },
  {
   "cell_type": "code",
   "execution_count": null,
   "metadata": {},
   "outputs": [],
   "source": [
    "\n",
    "grid_parameters = {'n_epochs': [2000, 5000],\n",
    "    'batch_size': [5, 10], \n",
    "    'step': [0.01, 0.1, 1],\n",
    "    'momentum' : [0.5],\n",
    "    'error' : [\"NLL\"],\n",
    "    'verbose' : [False],\n",
    "    'regularization' : ['l2'],\n",
    "    'alpha_l1' : [0],\n",
    "    'alpha_l2' : [e-10]\n",
    "    }\n",
    "\n",
    "\n",
    "for i in range(1,4):\n",
    "\n",
    "    print(\"**************************************\")\n",
    "    print(f\"Monk Dataset {i}\")\n",
    "    input_size = TR_sets[i][0][0].shape[0]\n",
    "    mlp = MLP([10], input_size = input_size, output_size = 1, task = \"classification\", activation_function = 'sigmoid')\n",
    "\n",
    "    grid = GridSearch(mlp)\n",
    "    grid.fit(X = TR_sets[i][0], y = TR_sets[i][1], parameters_grid = grid_parameters, verbose = True, test_size = 0.1)\n",
    "\n",
    "    #fig, ax = plt.subplots(figsize=(5, 5), layout='constrained')\n",
    "    #ax.plot(range(n_epochs), learning_curve, line width = 1)\n",
    "    #ax.set_xlabel('Epoch')  \n",
    "    #ax.set_ylabel(\"Accuracy\")  \n",
    "\n",
    "    best_model = grid.best_model\n",
    "\n",
    "    print(\"\\n\", \"\\n\")\n",
    "    print(f\"Accuracy on test set {i}: {best_model.evaluate_model(TS_sets[i][0], TS_sets[i][1])}\")\n",
    "    print(\"\\n\", \"\\n\")"
   ]
  }
 ],
 "metadata": {
  "kernelspec": {
   "display_name": "mlx2env",
   "language": "python",
   "name": "python3"
  },
  "language_info": {
   "codemirror_mode": {
    "name": "ipython",
    "version": 3
   },
   "file_extension": ".py",
   "mimetype": "text/x-python",
   "name": "python",
   "nbconvert_exporter": "python",
   "pygments_lexer": "ipython3",
   "version": "3.10.8 (v3.10.8:aaaf517424, Oct 11 2022, 10:14:40) [Clang 13.0.0 (clang-1300.0.29.30)]"
  },
  "orig_nbformat": 4,
  "vscode": {
   "interpreter": {
    "hash": "ed0be3fc2c904159af230147fb8c5b6a9503599b122f9148b8936b9beff70f89"
   }
  }
 },
 "nbformat": 4,
 "nbformat_minor": 2
}
