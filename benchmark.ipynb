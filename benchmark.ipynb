{
 "cells": [
  {
   "cell_type": "code",
   "execution_count": 11,
   "metadata": {},
   "outputs": [],
   "source": [
    "import numpy as np\n",
    "import pandas as pd\n",
    "from sklearn.model_selection import train_test_split\n",
    "from tensorflow.keras.models import Sequential\n",
    "from tensorflow.keras.layers import Dense\n",
    "import numpy as np\n",
    "import pandas as pd\n",
    "import joblib\n",
    "import matplotlib.pyplot as plt\n",
    "import os\n",
    "from tensorflow.keras.callbacks import EarlyStopping\n"
   ]
  },
  {
   "cell_type": "code",
   "execution_count": 3,
   "metadata": {},
   "outputs": [],
   "source": [
    "path = os.getcwd()\n",
    "file = '/data/ML-CUP22-TR.csv'\n",
    "\n",
    "labels = ['x1','x2','x3','x4','x5','x6','x7','x8','x9','y1','y2']\n",
    "\n",
    "TR = pd.read_csv(path + file, sep = ',', header = None, usecols=range(1,12), \\\n",
    "                 names = labels, skiprows = 7)\n",
    "\n",
    "TR = TR.to_numpy()\n",
    "\n",
    "np.random.shuffle(TR)\n",
    "\n",
    "TR = np.split(TR, [9], axis = 1)\n",
    "\n",
    "X = TR[0]\n",
    "y_true = TR[1]\n",
    "X_train, X_test, y_train, y_test = train_test_split(X, y_true, test_size=0.2, random_state=42)\n"
   ]
  },
  {
   "cell_type": "code",
   "execution_count": 3,
   "metadata": {},
   "outputs": [
    {
     "name": "stdout",
     "output_type": "stream",
     "text": [
      "10/10 [==============================] - 0s 2ms/step\n",
      "3.0601129797219246\n"
     ]
    },
    {
     "data": {
      "image/png": "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",
      "text/plain": [
       "<Figure size 640x480 with 1 Axes>"
      ]
     },
     "metadata": {},
     "output_type": "display_data"
    }
   ],
   "source": [
    "model = Sequential()\n",
    "model.add(Dense(9, input_dim=X_train.shape[1], activation='relu'))\n",
    "model.add(Dense(9, activation='relu'))\n",
    "model.add(Dense(2))\n",
    "\n",
    "model.compile(loss='mean_squared_error', optimizer='SGD')\n",
    "early_stopping = EarlyStopping(monitor = 'val_loss', patience = 20)\n",
    "\n",
    "history = model.fit(X_train, y_train, epochs=1100, batch_size=200, verbose = 0, callbacks=[early_stopping], validation_split=0.2)\n",
    "# adde early stopping\n",
    "\n",
    "#predict = model.predict(X_test)\n",
    "y_pred = model.predict(X_test)\n",
    "\n",
    "#print mse of y_pred and y_test\n",
    "print(np.mean((y_pred - y_test)**2))\n",
    "\n",
    "# plot loss during training\n",
    "plt.title('Loss / Mean Squared Error')\n",
    "plt.plot(history.history['loss'], label='train')\n",
    "plt.legend()\n",
    "plt.show() \n",
    "\n"
   ]
  },
  {
   "cell_type": "code",
   "execution_count": 4,
   "metadata": {},
   "outputs": [],
   "source": [
    "# devide y in the 2 outputs\n",
    "y1 = y_true[:,0]\n",
    "y2 = y_true[:,1]"
   ]
  },
  {
   "cell_type": "code",
   "execution_count": 9,
   "metadata": {},
   "outputs": [
    {
     "name": "stdout",
     "output_type": "stream",
     "text": [
      "2.2446958641324604\n"
     ]
    }
   ],
   "source": [
    "# write a linear model for y1 and y2\n",
    "from sklearn.linear_model import LinearRegression\n",
    "from sklearn.ensemble import RandomForestRegressor\n",
    "# train test split\n",
    "X_train, X_test, y1_train, y1_test, y2_train, y2_test = train_test_split(X, y1, y2, test_size=0.2, random_state=42)\n",
    "reg = RandomForestRegressor().fit(X_train, y1_train)\n",
    "y1_pred = reg.predict(X_test)\n",
    "reg = RandomForestRegressor().fit(X_train, y2_train)\n",
    "y2_pred = reg.predict(X_test)\n",
    "#unite y1 and y2\n",
    "y_pred = np.column_stack((y1_pred, y2_pred))\n",
    "y_test = np.column_stack((y1_test, y2_test))\n",
    "#print mse of y_pred and y_test\n",
    "print(np.mean((y_pred - y_test)**2))\n"
   ]
  },
  {
   "cell_type": "code",
   "execution_count": 9,
   "metadata": {},
   "outputs": [
    {
     "ename": "NameError",
     "evalue": "name 'y_true' is not defined",
     "output_type": "error",
     "traceback": [
      "\u001b[1;31m---------------------------------------------------------------------------\u001b[0m",
      "\u001b[1;31mNameError\u001b[0m                                 Traceback (most recent call last)",
      "Cell \u001b[1;32mIn [9], line 16\u001b[0m\n\u001b[0;32m     14\u001b[0m \u001b[39mfrom\u001b[39;00m \u001b[39msrc\u001b[39;00m\u001b[39m.\u001b[39;00m\u001b[39mEarlyStopping\u001b[39;00m \u001b[39mimport\u001b[39;00m EarlyStopping\n\u001b[0;32m     15\u001b[0m \u001b[39m# train test split\u001b[39;00m\n\u001b[1;32m---> 16\u001b[0m y1 \u001b[39m=\u001b[39m y_true[:,\u001b[39m0\u001b[39m]\n\u001b[0;32m     17\u001b[0m y2 \u001b[39m=\u001b[39m y_true[:,\u001b[39m1\u001b[39m]\n\u001b[0;32m     19\u001b[0m X_train, X_test, y1_train, y1_test, y2_train, y2_test \u001b[39m=\u001b[39m train_test_split(X, y1, y2, test_size\u001b[39m=\u001b[39m\u001b[39m0.2\u001b[39m, random_state\u001b[39m=\u001b[39m\u001b[39m42\u001b[39m)\n",
      "\u001b[1;31mNameError\u001b[0m: name 'y_true' is not defined"
     ]
    }
   ],
   "source": [
    "from sklearn.linear_model import LinearRegression\n",
    "from sklearn.ensemble import RandomForestRegressor\n",
    "import numpy as np\n",
    "import pandas as pd\n",
    "import joblib\n",
    "import matplotlib.pyplot as plt\n",
    "import os\n",
    "from data.load_data import load_monk\n",
    "from src.MetricFunctions import get_metric_instance\n",
    "from src.MLP import MLP\n",
    "from src.GridSearch import GridSearch, RandomGridsearch\n",
    "from sklearn.model_selection import train_test_split\n",
    "from sklearn.preprocessing import StandardScaler\n",
    "from src.EarlyStopping import EarlyStopping\n",
    "# train test split\n",
    "y1 = y_true[:,0]\n",
    "y2 = y_true[:,1]\n",
    "\n",
    "X_train, X_test, y1_train, y1_test, y2_train, y2_test = train_test_split(X, y1, y2, test_size=0.2, random_state=42)\n",
    "#reshape y1 and y2\n",
    "y1_train = y1_train.reshape(-1,1)\n",
    "y1_test = y1_test.reshape(-1,1)\n",
    "y2_train = y2_train.reshape(-1,1)\n",
    "y2_test = y2_test.reshape(-1,1)\n",
    "\n",
    "mlp = MLP([18, 18], 9, 1, task = \"regression\", activation_function = \"sigmoid\")\n",
    "mlp.fit(X_train, y1_train, n_epochs = 2000, batch_size = 200, error = \"MSE\", step = 0.005, momentum = 0.1, regularization = 'no',\n",
    "alpha_l2 = 0.01, early_stopping = True, patience = 1000, tolerance = 0.1)\n",
    "y1_pred = mlp.predict(X_test)\n",
    "\n",
    "\n",
    "mlp = MLP([18, 18], 9, 1, task = \"regression\", activation_function = \"sigmoid\")\n",
    "mlp.fit(X_train, y2_train, n_epochs = 2000, batch_size = 200, error = \"MSE\", step = 0.005, momentum = 0.1, regularization = 'no',\n",
    "alpha_l2 = 0.01, early_stopping = True, patience = 1000, tolerance = 0.1)\n",
    "y2_pred = mlp.predict(X_test)\n",
    "\n",
    "#unite y1 and y2\n",
    "#y_pred = np.column_stack((y1_pred, y2_pred))\n",
    "#y_test = np.column_stack((y1_test, y2_test))\n",
    "\n",
    "#print mse of y_pred and y_test\n",
    "print(np.mean((y_pred - y_test)**2))\n"
   ]
  },
  {
   "cell_type": "code",
   "execution_count": 35,
   "metadata": {},
   "outputs": [],
   "source": [
    "from data.load_data import load_monk\n",
    "import numpy as np\n",
    "import pandas as pd\n",
    "path = os.getcwd()\n",
    "file = '/data/monks-3.train'\n",
    "file_test = '/data/monks-3.test'\n",
    "\n",
    "labels = ['class','x1','x2','x3','x4','x5','x6']\n",
    "\n",
    "\n",
    "\n",
    "\n",
    "X_train, y_train = load_monk(path + file)\n",
    "X_test, y_test = load_monk(path + file_test)\n",
    "\n",
    "\n",
    "X_train = pd.DataFrame(X_train, columns=labels[1:])\n",
    "X_test = pd.DataFrame(X_test, columns=labels[1:])\n",
    "\n",
    "# one hot encoding of X_train and X_test\n",
    "X_train = pd.get_dummies(X_train, columns=labels[1:])\n",
    "X_test = pd.get_dummies(X_test, columns=labels[1:])\n",
    "\n",
    "\n",
    "#y_train = np.asarray(y_train).astype('float32').reshape((-1,1))\n",
    "#y_test = np.asarray(y_test).astype('float32').reshape((-1,1))\n",
    "\n"
   ]
  },
  {
   "cell_type": "code",
   "execution_count": 40,
   "metadata": {},
   "outputs": [
    {
     "name": "stdout",
     "output_type": "stream",
     "text": [
      "0.9768518518518519\n"
     ]
    },
    {
     "name": "stderr",
     "output_type": "stream",
     "text": [
      "c:\\Users\\berna\\AppData\\Local\\Programs\\Python\\Python310\\lib\\site-packages\\sklearn\\utils\\validation.py:1111: DataConversionWarning: A column-vector y was passed when a 1d array was expected. Please change the shape of y to (n_samples, ), for example using ravel().\n",
      "  y = column_or_1d(y, warn=True)\n"
     ]
    }
   ],
   "source": [
    "# create an svm classifier\n",
    "from sklearn.svm import SVC\n",
    "\n",
    "clf = SVC(kernel = 'rbf', C = 1, random_state=0)\n",
    "\n",
    "clf.fit(X_train, y_train)\n",
    "y_pred = clf.predict(X_test)\n",
    "\n",
    "#get accuracy\n",
    "from sklearn.metrics import accuracy_score\n",
    "print(accuracy_score(y_test, y_pred))\n",
    "\n",
    "\n"
   ]
  },
  {
   "cell_type": "code",
   "execution_count": 22,
   "metadata": {},
   "outputs": [
    {
     "name": "stdout",
     "output_type": "stream",
     "text": [
      "0.9722222222222222\n"
     ]
    },
    {
     "name": "stderr",
     "output_type": "stream",
     "text": [
      "c:\\Users\\berna\\AppData\\Local\\Programs\\Python\\Python310\\lib\\site-packages\\sklearn\\utils\\validation.py:1111: DataConversionWarning: A column-vector y was passed when a 1d array was expected. Please change the shape of y to (n_samples, ), for example using ravel().\n",
      "  y = column_or_1d(y, warn=True)\n"
     ]
    }
   ],
   "source": [
    "#build a logistic regression model\n",
    "from sklearn.linear_model import LogisticRegression\n",
    "clf = LogisticRegression(random_state=0, solver='lbfgs', multi_class='multinomial').fit(X_train, y_train)\n",
    "y_pred = clf.predict(X_test)\n",
    "#get accuracy\n",
    "from sklearn.metrics import accuracy_score\n",
    "\n",
    "\n",
    "print(accuracy_score(y_test, y_pred))\n",
    "\n"
   ]
  },
  {
   "cell_type": "code",
   "execution_count": 19,
   "metadata": {},
   "outputs": [
    {
     "name": "stdout",
     "output_type": "stream",
     "text": [
      "0.5\n"
     ]
    }
   ],
   "source": [
    "print()"
   ]
  },
  {
   "cell_type": "code",
   "execution_count": 14,
   "metadata": {},
   "outputs": [
    {
     "name": "stdout",
     "output_type": "stream",
     "text": [
      "14/14 [==============================] - 0s 2ms/step\n",
      "0.7847222089767456\n"
     ]
    },
    {
     "data": {
      "image/png": "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",
      "text/plain": [
       "<Figure size 640x480 with 1 Axes>"
      ]
     },
     "metadata": {},
     "output_type": "display_data"
    },
    {
     "name": "stdout",
     "output_type": "stream",
     "text": [
      "0.7847222222222222\n"
     ]
    }
   ],
   "source": [
    "# encode y_train and y_test\n",
    "\n",
    "model = Sequential()\n",
    "model.add(Dense(12, input_dim = X_train.shape[1], activation = 'sigmoid'))\n",
    "model.add(Dense(1, activation = 'sigmoid'))\n",
    "\n",
    "from tensorflow.keras.optimizers import SGD\n",
    "\n",
    "optimizer = SGD(learning_rate = 1, momentum=0.1)\n",
    "\n",
    "# Compile the model\n",
    "model.compile(loss = 'binary_crossentropy', optimizer = optimizer, metrics = ['accuracy'])\n",
    "\n",
    "# Fit the model\n",
    "history = model.fit(X_train, y_train, epochs = 10000, batch_size = 20, verbose = 0, validation_split = 0)\n",
    "\n",
    "y_pred = model.predict(X_test)\n",
    "\n",
    "acc = model.evaluate(X_test, y_test, verbose = 0)[1]\n",
    "print(acc)\n",
    "\n",
    "# plot accuracy during training\n",
    "plt.title('Accuracy')\n",
    "plt.plot(history.history['accuracy'], label='train')\n",
    "plt.legend()\n",
    "plt.show()\n",
    "\n",
    "y_pred = np.round(y_pred)\n",
    "print(np.mean(y_pred == y_test))\n",
    "\n",
    "\n"
   ]
  },
  {
   "cell_type": "code",
   "execution_count": null,
   "metadata": {},
   "outputs": [],
   "source": []
  }
 ],
 "metadata": {
  "kernelspec": {
   "display_name": "mlx2env",
   "language": "python",
   "name": "python3"
  },
  "language_info": {
   "codemirror_mode": {
    "name": "ipython",
    "version": 3
   },
   "file_extension": ".py",
   "mimetype": "text/x-python",
   "name": "python",
   "nbconvert_exporter": "python",
   "pygments_lexer": "ipython3",
<<<<<<< HEAD
   "version": "3.10.7"
=======
   "version": "3.10.8 (v3.10.8:aaaf517424, Oct 11 2022, 10:14:40) [Clang 13.0.0 (clang-1300.0.29.30)]"
>>>>>>> ded1bf64ffd215b9118877fae1939613e3cebd82
  },
  "orig_nbformat": 4,
  "vscode": {
   "interpreter": {
    "hash": "ed0be3fc2c904159af230147fb8c5b6a9503599b122f9148b8936b9beff70f89"
   }
  }
 },
 "nbformat": 4,
 "nbformat_minor": 2
}
