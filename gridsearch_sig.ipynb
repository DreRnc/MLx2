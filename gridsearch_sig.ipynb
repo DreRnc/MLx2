{
 "cells": [
  {
   "cell_type": "code",
   "execution_count": 1,
   "metadata": {},
   "outputs": [],
   "source": [
    "import numpy as np\n",
    "import pandas as pd\n",
    "import joblib\n",
    "import matplotlib.pyplot as plt\n",
    "import os\n",
    "from data.load_data import load_monk\n",
    "from src.MetricFunctions import get_metric_instance\n",
    "from src.MLP import MLP\n",
    "from src.GridSearch import GridSearch, RandomGridsearch, print_grid_results\n",
    "from sklearn.model_selection import train_test_split\n",
    "from sklearn.preprocessing import StandardScaler\n",
    "from src.EarlyStopping import EarlyStopping\n"
   ]
  },
  {
   "cell_type": "code",
   "execution_count": 4,
   "metadata": {},
   "outputs": [],
   "source": [
    "path = os.getcwd()\n",
    "file = '/data/ML-CUP22-TR.csv'\n",
    "\n",
    "labels = ['x1','x2','x3','x4','x5','x6','x7','x8','x9','y1','y2']\n",
    "\n",
    "TR = pd.read_csv(path + file, sep = ',', header = None, usecols=range(1,12), \\\n",
    "                 names = labels, skiprows = 7)\n",
    "\n",
    "TR = TR.to_numpy()\n",
    "\n",
    "np.random.shuffle(TR)\n",
    "\n",
    "TR = np.split(TR, [9], axis = 1)\n",
    "\n",
    "X = TR[0]\n",
    "y_true = TR[1]\n",
    "\n",
    "X_train, X_test, y_train, y_test = train_test_split(X, y_true, test_size = 0.1, random_state = 42)"
   ]
  },
  {
   "cell_type": "code",
   "execution_count": 5,
   "metadata": {},
   "outputs": [
    {
     "name": "stdout",
     "output_type": "stream",
     "text": [
      "Grid search of combinations: 288\n",
      "Parallelisation activated\n",
      "\n",
      "\n",
      "Best parameters: {'step': 0.06, 'momentum': 0.5, 'batch_size': 1336, 'regularization': 'elastic', 'alpha_l1': 0.0003, 'alpha_l2': 0.0005, 'Nesterov': True}\n",
      "Best score: 1.8249472129006565\n",
      "scores [1.63290014131065, 1.9725536310384273, 1.810592003006984, 1.7653843342094317, 1.9433059549377902]\n",
      "Lowest max score: 1.8249472129006565\n",
      "Max score =  1.9725536310384273\n",
      "Lowest max score list: [1.63290014131065, 1.9725536310384273, 1.810592003006984, 1.7653843342094317, 1.9433059549377902]\n",
      "Lowest max parameters: {'step': 0.06, 'momentum': 0.5, 'batch_size': 1336, 'regularization': 'elastic', 'alpha_l1': 0.0003, 'alpha_l2': 0.0005, 'Nesterov': True}\n",
      "Early stopped training on epoch 1130\n",
      "best epoch was 1121\n",
      "1.7246374233713935\n"
     ]
    },
    {
     "name": "stderr",
     "output_type": "stream",
     "text": [
      "c:\\Users\\berna\\AppData\\Local\\Programs\\Python\\Python310\\lib\\site-packages\\numpy\\lib\\npyio.py:501: VisibleDeprecationWarning: Creating an ndarray from ragged nested sequences (which is a list-or-tuple of lists-or-tuples-or ndarrays with different lengths or shapes) is deprecated. If you meant to do this, you must specify 'dtype=object' when creating the ndarray.\n",
      "  arr = np.asanyarray(arr)\n"
     ]
    }
   ],
   "source": [
    "mlp = MLP([10, 10], 9, 2, task = \"regression\", activation_function = \"sigmoid\")\n",
    "\n",
    "params_grid = {\n",
    "    \"step\": [0.1, 0.06, 0.02],\n",
    "    \"momentum\": [0.5, 0.25, 0.1],\n",
    "    \"batch_size\": [len(X_train), 300],\n",
    "    'regularization' : ['elastic'],\n",
    "    'alpha_l1' : [0.00005, 0.0003, 0.0001],\n",
    "    'alpha_l2' : [0.00005, 0.0003, 0.0001],\n",
    "    'Nesterov' : [False, True]\n",
    "}\n",
    "\n",
    "\n",
    "grid_10_10 = GridSearch(mlp)\n",
    "grid_10_10.fit(X_train, y_train, params_grid, n_folds = 5, parallel = True)\n",
    "\n",
    "print(grid_10_10.best_model.evaluate_model(X_test, y_test))"
   ]
  },
  {
   "cell_type": "code",
   "execution_count": 6,
   "metadata": {},
   "outputs": [
    {
     "name": "stdout",
     "output_type": "stream",
     "text": [
      "Grid search of combinations: 288\n",
      "Parallelisation activated\n",
      "\n",
      "\n",
      "Best parameters: {'step': 0.1, 'momentum': 0.25, 'batch_size': 1336, 'regularization': 'elastic', 'alpha_l1': 0.0005, 'alpha_l2': 0.0003, 'Nesterov': False}\n",
      "Best score: 1.786848669747107\n",
      "scores [1.6973371207184618, 1.925711123436822, 1.8334710181619278, 1.6295132821994818, 1.8482108042188414]\n",
      "Lowest max score: 1.786848669747107\n",
      "Max score =  1.925711123436822\n",
      "Lowest max score list: [1.6973371207184618, 1.925711123436822, 1.8334710181619278, 1.6295132821994818, 1.8482108042188414]\n",
      "Lowest max parameters: {'step': 0.1, 'momentum': 0.25, 'batch_size': 1336, 'regularization': 'elastic', 'alpha_l1': 0.0005, 'alpha_l2': 0.0003, 'Nesterov': False}\n",
      "Early stopped training on epoch 1982\n",
      "best epoch was 1973\n",
      "1.638666609589805\n"
     ]
    }
   ],
   "source": [
    "mlp = MLP([40, 20], 9, 2, task = \"regression\", activation_function = \"sigmoid\")\n",
    "\n",
    "params_grid = {\n",
    "    \"step\": [0.1, 0.06, 0.02],\n",
    "    \"momentum\": [0.5, 0.25, 0.1],\n",
    "    \"batch_size\": [len(X_train)],\n",
    "    'regularization' : ['elastic'],\n",
    "    'alpha_l1' : [0.00005, 0.0003, 0.0001, 0.0005],\n",
    "    'alpha_l2' : [0.00005, 0.0003, 0.0001, 0.0005],\n",
    "    'Nesterov' : [False, True]\n",
    "}\n",
    "\n",
    "grid_40_20 = GridSearch(mlp)\n",
    "grid_40_20.fit(X_train, y_train, params_grid, n_folds = 5, parallel = True)\n",
    "\n",
    "print(grid_40_20.best_model.evaluate_model(X_test, y_test))\n"
   ]
  },
  {
   "cell_type": "code",
   "execution_count": 7,
   "metadata": {},
   "outputs": [
    {
     "name": "stdout",
     "output_type": "stream",
     "text": [
      "Grid search of combinations: 288\n",
      "Parallelisation activated\n",
      "\n",
      "\n",
      "Best parameters: {'step': 0.06, 'momentum': 0.25, 'batch_size': 1336, 'regularization': 'elastic', 'alpha_l1': 0.0001, 'alpha_l2': 0.0001, 'Nesterov': True}\n",
      "Best score: 1.76915812359213\n",
      "scores [1.5703923108419133, 1.9854717383567364, 1.7763115278969843, 1.6018534236437596, 1.911761617221257]\n",
      "Lowest max score: 1.776464234287318\n",
      "Max score =  1.928362686223353\n",
      "Lowest max score list: [1.6227320538232854, 1.928362686223353, 1.7647576596911123, 1.6601832390130957, 1.9062855326857457]\n",
      "Lowest max parameters: {'step': 0.06, 'momentum': 0.5, 'batch_size': 1336, 'regularization': 'elastic', 'alpha_l1': 5e-05, 'alpha_l2': 0.0003, 'Nesterov': False}\n",
      "best epoch was 4999\n",
      "1.569319206977995\n"
     ]
    }
   ],
   "source": [
    "mlp = MLP([80, 50], 9, 2, task = \"regression\", activation_function = \"sigmoid\")\n",
    "\n",
    "params_grid = {\n",
    "    \"step\": [0.1, 0.06, 0.02],\n",
    "    \"momentum\": [0.5, 0.25, 0.1],\n",
    "    \"batch_size\": [len(X_train)],\n",
    "    'regularization' : ['elastic'],\n",
    "    'alpha_l1' : [0.00005, 0.0003, 0.0001, 0.0005],\n",
    "    'alpha_l2' : [0.00005, 0.0003, 0.0001, 0.0005],\n",
    "    'Nesterov' : [False, True]\n",
    "}\n",
    "\n",
    "grid_80_50 = GridSearch(mlp)\n",
    "grid_80_50.fit(X_train, y_train, params_grid, n_folds = 5, parallel = True)\n",
    "\n",
    "print(grid_80_50.best_model.evaluate_model(X_test, y_test))"
   ]
  },
  {
   "cell_type": "code",
   "execution_count": null,
   "metadata": {},
   "outputs": [],
   "source": [
    "mlp = MLP([60, 40], 9, 2, task = \"regression\", activation_function = \"sigmoid\")\n",
    "\n",
    "params_grid = {\n",
    "    \"step\": [0.1, 0.06, 0.02],\n",
    "    \"momentum\": [0.5, 0.25, 0.1],\n",
    "    \"batch_size\": [len(X_train)],\n",
    "    'regularization' : ['elastic'],\n",
    "    'alpha_l1' : [0.00005, 0.0003, 0.0001, 0.0005],\n",
    "    'alpha_l2' : [0.00005, 0.0003, 0.0001, 0.0005],\n",
    "    'Nesterov' : [False, True]\n",
    "}\n",
    "\n",
    "grid_60_40 = GridSearch(mlp)\n",
    "grid_60_40.fit(X_train, y_train, params_grid, n_folds = 5, parallel = True)\n",
    "\n",
    "\n",
    "print(grid_60_40.best_model.evaluate_model(X_test, y_test))"
   ]
  },
  {
   "cell_type": "code",
   "execution_count": 8,
   "metadata": {},
   "outputs": [
    {
     "name": "stdout",
     "output_type": "stream",
     "text": [
      "Grid search of combinations: 288\n",
      "Parallelisation activated\n",
      "\n",
      "\n",
      "Best parameters: {'step': 0.1, 'momentum': 0.5, 'batch_size': 1336, 'regularization': 'elastic', 'alpha_l1': 0.0001, 'alpha_l2': 5e-05, 'Nesterov': False}\n",
      "Best score: 1.7692227191316139\n",
      "scores [1.5697229021769095, 1.975710455331459, 1.8092792310900798, 1.6533646670168523, 1.8380363400427684]\n",
      "Lowest max score: 1.81659248494726\n",
      "Max score =  1.9352575991425716\n",
      "Lowest max score list: [1.6958054501442668, 1.9352575991425716, 1.8019996746003586, 1.7445287151318971, 1.905370985717205]\n",
      "Lowest max parameters: {'step': 0.06, 'momentum': 0.25, 'batch_size': 1336, 'regularization': 'elastic', 'alpha_l1': 0.0003, 'alpha_l2': 5e-05, 'Nesterov': False}\n",
      "Early stopped training on epoch 560\n",
      "best epoch was 551\n",
      "1.6733603938884438\n"
     ]
    }
   ],
   "source": [
    "mlp = MLP([60, 40, 20], 9, 2, task = \"regression\", activation_function = \"sigmoid\")\n",
    "\n",
    "params_grid = {\n",
    "    \"step\": [0.1, 0.06, 0.02],\n",
    "    \"momentum\": [0.5, 0.25, 0.1],\n",
    "    \"batch_size\": [len(X_train)],\n",
    "    'regularization' : ['elastic'],\n",
    "    'alpha_l1' : [0.00005, 0.0003, 0.0001, 0.0005],\n",
    "    'alpha_l2' : [0.00005, 0.0003, 0.0001, 0.0005],\n",
    "    'Nesterov' : [False, True]\n",
    "}\n",
    "\n",
    "grid_60_40_20 = GridSearch(mlp)\n",
    "grid_60_40_20.fit(X_train, y_train, params_grid, n_folds = 5, parallel = True)\n",
    "\n",
    "\n",
    "print(grid_60_40_20.best_model.evaluate_model(X_test, y_test))"
   ]
  }
 ],
 "metadata": {
  "kernelspec": {
   "display_name": "Python 3",
   "language": "python",
   "name": "python3"
  },
  "language_info": {
   "codemirror_mode": {
    "name": "ipython",
    "version": 3
   },
   "file_extension": ".py",
   "mimetype": "text/x-python",
   "name": "python",
   "nbconvert_exporter": "python",
   "pygments_lexer": "ipython3",
   "version": "3.10.7 (tags/v3.10.7:6cc6b13, Sep  5 2022, 14:08:36) [MSC v.1933 64 bit (AMD64)]"
  },
  "orig_nbformat": 4,
  "vscode": {
   "interpreter": {
    "hash": "9a84d6694d99063d2bb0286ebc4a83b7a5fbbe8812bdd85c9b7227af9c494503"
   }
  }
 },
 "nbformat": 4,
 "nbformat_minor": 2
}
