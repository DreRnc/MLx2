{
 "cells": [
  {
   "cell_type": "code",
   "execution_count": 1,
   "metadata": {},
   "outputs": [],
   "source": [
    "import numpy as np\n",
    "import pandas as pd\n",
    "import matplotlib.pyplot as plt\n",
    "import os\n",
    "from data.load_data import load_monk\n",
    "from src.MetricFunctions import get_metric_instance\n",
    "from src.MLP import MLP\n",
    "from src.GridSearch import GridSearch\n",
    "from sklearn.model_selection import train_test_split"
   ]
  },
  {
   "cell_type": "code",
   "execution_count": 2,
   "metadata": {},
   "outputs": [],
   "source": [
    "path = os.getcwd()\n",
    "file = '/data/ML-CUP22-TR.csv'\n",
    "\n",
    "labels = ['x1','x2','x3','x4','x5','x6','x7','x8','x9','y1','y2']\n",
    "\n",
    "TR = pd.read_csv(path + file, sep = ',', header = None, usecols=range(1,12), \\\n",
    "                 names = labels, skiprows = 7)\n",
    "\n",
    "TR = TR.to_numpy()\n",
    "\n",
    "np.random.shuffle(TR)\n",
    "\n",
    "TR = np.split(TR, [9], axis = 1)\n",
    "\n",
    "X = TR[0]\n",
    "y_true = TR[1]\n",
    "\n"
   ]
  },
  {
   "cell_type": "code",
   "execution_count": 7,
   "metadata": {},
   "outputs": [
    {
     "name": "stdout",
     "output_type": "stream",
     "text": [
      "Early stopped training on epoch 2676\n",
      "1.772983321230441\n",
      "Early stopped training on epoch 1181\n",
      "1.7772357118612458\n",
      "Early stopped training on epoch 1179\n",
      "1.8960053908413732\n",
      "Early stopped training on epoch 1961\n",
      "1.6879602820132522\n",
      "Early stopped training on epoch 2408\n",
      "1.5695026509518404\n"
     ]
    }
   ],
   "source": [
    "for i in range(1):\n",
    "  X_train, X_test, y_train, y_test = train_test_split(X, y_true, test_size = 0.2, random_state = i)\n",
    "  mlp = MLP([80, 30], 9, 2, task = \"regression\", activation_function = \"relu\")\n",
    "\n",
    "  params_grid = {'step': 0.005,\n",
    "    'momentum': 0.8,\n",
    "    'batch_size': 1188,\n",
    "    'alpha_l2': 0.0078125,\n",
    "    'alpha_l1': 0.001953125,\n",
    "    'Nesterov': False,\n",
    "    'backprop_variant': 'no',\n",
    "    'weights_initialization': 'he',\n",
    "    'regularization': 'elastic',\n",
    "    'n_epochs': 5000,\n",
    "    'tolerance': 1e-06,\n",
    "    'patience': 50}\n",
    "\n",
    "  mlp.fit(X_train, y_train, **params_grid, early_stopping = True, verbose = False)\n",
    "\n",
    "\n",
    "\n",
    "  print(mlp.evaluate_model(X_test, y_test, metric = \"mse\"))"
   ]
  },
  {
   "cell_type": "code",
   "execution_count": 15,
   "metadata": {},
   "outputs": [
    {
     "data": {
      "text/plain": [
       "[0.5,\n",
       " 0.25,\n",
       " 0.125,\n",
       " 0.0625,\n",
       " 0.03125,\n",
       " 0.015625,\n",
       " 0.0078125,\n",
       " 0.00390625,\n",
       " 0.001953125,\n",
       " 0]"
      ]
     },
     "execution_count": 15,
     "metadata": {},
     "output_type": "execute_result"
    }
   ],
   "source": [
    "elle2 = [1/(2**j) for j in range(1, 10)]\n",
    "elle2.append(0)\n",
    "elle2\n"
   ]
  },
  {
   "cell_type": "code",
   "execution_count": null,
   "metadata": {},
   "outputs": [],
   "source": [
    "[0.9, 0.75, 0.6, 0.45, 0.25]"
   ]
  },
  {
   "cell_type": "code",
   "execution_count": 4,
   "metadata": {},
   "outputs": [
    {
     "name": "stdout",
     "output_type": "stream",
     "text": [
      "Grid search of combinations: 324\n",
      "Parallelisation activated\n",
      "\n",
      "\n",
      "Best parameters: {'step': 0.004, 'momentum': 0.7, 'batch_size': 1188, 'alpha_l2': 0.02, 'alpha_l1': 0.001, 'Nesterov': False, 'backprop_variant': 'no', 'weights_initialization': 'he', 'regularization': 'elastic', 'n_epochs': 3000, 'tolerance': 1e-06, 'patience': 50}\n",
      "Best score: 1.8032111300384503\n",
      "1.9206131833457074\n"
     ]
    },
    {
     "name": "stderr",
     "output_type": "stream",
     "text": [
      "c:\\Users\\berna\\AppData\\Local\\Programs\\Python\\Python310\\lib\\site-packages\\numpy\\lib\\npyio.py:501: VisibleDeprecationWarning: Creating an ndarray from ragged nested sequences (which is a list-or-tuple of lists-or-tuples-or ndarrays with different lengths or shapes) is deprecated. If you meant to do this, you must specify 'dtype=object' when creating the ndarray.\n",
      "  arr = np.asanyarray(arr)\n"
     ]
    }
   ],
   "source": [
    "mlp = MLP([60, 10], 9, 2, task = \"regression\", activation_function = \"relu\")\n",
    "\n",
    "params_grid = {\n",
    "    \"step\": [0.08, 0.004, 0.001],\n",
    "    \"momentum\": [0.5 , 0.7, 0.8],\n",
    "    \"batch_size\": [len(X_train)],\n",
    "    'alpha_l2' : [0.02, 0.008, 0.001],\n",
    "    'alpha_l1' : [0.02, 0.008, 0.001],\n",
    "    'Nesterov' : [False, True],\n",
    "\n",
    "                          \n",
    "    'weights_initialization' : ['he'],      \n",
    "    'regularization' : ['l2'],\n",
    "    'n_epochs' : [3000],\n",
    "    'tolerance' : [0.000001],\n",
    "    'patience': [50]\n",
    "                  \n",
    "}\n",
    "\n",
    "grid_60_10 = GridSearch(mlp)\n",
    "grid_60_10.fit(X_train, y_train, params_grid, n_folds = 5, parallel = True)\n",
    "\n",
    "print(grid_60_10.best_model.evaluate_model(X_test, y_test))"
   ]
  },
  {
   "cell_type": "code",
   "execution_count": 5,
   "metadata": {},
   "outputs": [
    {
     "name": "stdout",
     "output_type": "stream",
     "text": [
      "Grid search of combinations: 324\n",
      "Parallelisation activated\n",
      "\n",
      "\n",
      "Best parameters: {'step': 0.006, 'momentum': 0.8, 'batch_size': 1188, 'alpha_l2': 0.005, 'alpha_l1': 0.0005, 'Nesterov': False, 'backprop_variant': 'no', 'weights_initialization': 'he', 'regularization': 'elastic', 'n_epochs': 3000, 'tolerance': 1e-06, 'patience': 50}\n",
      "Best score: 1.8004182354735576\n",
      "Early stopped training on epoch 1509\n",
      "1.917184288872037\n"
     ]
    }
   ],
   "source": [
    "mlp = MLP([40, 20], 9, 2, task = \"regression\", activation_function = \"relu\")\n",
    "\n",
    "params_grid = {\n",
    "    \"step\": [0.012, 0.006, 0.002],\n",
    "    \"momentum\": [0.5 , 0.7, 0.8],\n",
    "    'alpha_l2' : [0.0005, 0.005, 0.01],\n",
    "    'alpha_l1' : [0.0005, 0.005, 0.01],\n",
    "    'Nesterov' : [False, True],\n",
    "                  \n",
    "    'rprp' : [False],\n",
    "    'adaptive_gradient' : [False],\n",
    "    \"batch_size\" : [-1],                        \n",
    "    'weights_initialization' : ['he'],      \n",
    "    'regularization' : ['elastic'],\n",
    "    'n_epochs' : [2000],\n",
    "    'tolerance' : [1e-5],\n",
    "    'patience': [50]\n",
    "                  \n",
    "}\n",
    "\n",
    "grid_40_20 = GridSearch(mlp)\n",
    "grid_40_20.fit(X_train, y_train, params_grid, n_folds = 5, parallel = True)\n",
    "\n",
    "print(grid_40_20.best_model.evaluate_model(X_test, y_test))\n"
   ]
  },
  {
   "cell_type": "code",
   "execution_count": 2,
   "metadata": {},
   "outputs": [
    {
     "ename": "TypeError",
     "evalue": "'MEE' object is not callable",
     "output_type": "error",
     "traceback": [
      "\u001b[1;31m---------------------------------------------------------------------------\u001b[0m",
      "\u001b[1;31mTypeError\u001b[0m                                 Traceback (most recent call last)",
      "Cell \u001b[1;32mIn [2], line 4\u001b[0m\n\u001b[0;32m      2\u001b[0m \u001b[39mfrom\u001b[39;00m \u001b[39msrc\u001b[39;00m\u001b[39m.\u001b[39;00m\u001b[39mMetricFunctions\u001b[39;00m \u001b[39mimport\u001b[39;00m MEE\n\u001b[0;32m      3\u001b[0m mee \u001b[39m=\u001b[39m MEE()\n\u001b[1;32m----> 4\u001b[0m mee([\u001b[39m0\u001b[39;49m, \u001b[39m0\u001b[39;49m], [\u001b[39m0\u001b[39;49m, \u001b[39m0\u001b[39;49m])\n",
      "\u001b[1;31mTypeError\u001b[0m: 'MEE' object is not callable"
     ]
    }
   ],
   "source": [
    "# get metric instance mee\n",
    "from src.MetricFunctions import MEE\n",
    "mee = MEE()\n",
    "mee([0, 0], [0, 0])\n"
   ]
  },
  {
   "cell_type": "code",
   "execution_count": 5,
   "metadata": {},
   "outputs": [
    {
     "name": "stdout",
     "output_type": "stream",
     "text": [
      "Grid search of combinations: 25\n",
      "Parallelisation activated\n",
      "\n",
      "\n",
      "Best parameters: {'step': 0.005, 'momentum': 0.8, 'batch_size': 1188, 'alpha_l2': 0.0078125, 'alpha_l1': 0.001953125, 'Nesterov': False, 'backprop_variant': 'no', 'weights_initialization': 'he', 'regularization': 'elastic', 'n_epochs': 3000, 'tolerance': 1e-06, 'patience': 50}\n",
      "Best score: 1.85272549771834\n",
      "1.6925998296574616\n"
     ]
    },
    {
     "name": "stderr",
     "output_type": "stream",
     "text": [
      "c:\\Users\\berna\\AppData\\Local\\Programs\\Python\\Python310\\lib\\site-packages\\numpy\\lib\\npyio.py:501: VisibleDeprecationWarning: Creating an ndarray from ragged nested sequences (which is a list-or-tuple of lists-or-tuples-or ndarrays with different lengths or shapes) is deprecated. If you meant to do this, you must specify 'dtype=object' when creating the ndarray.\n",
      "  arr = np.asanyarray(arr)\n"
     ]
    }
   ],
   "source": [
    "mlp = MLP([80, 30], 9, 2, task = \"regression\", activation_function = \"relu\")\n",
    "\n",
    "params_grid = {\n",
    "    \"step\": [0.005],\n",
    "    \"momentum\": [ 0.8],\n",
    "    \"batch_size\": [len(X_train)],\n",
    "    'alpha_l2' : elle2,\n",
    "    'alpha_l1' : elle2,\n",
    "    'Nesterov' : [False],\n",
    "\n",
    "                          \n",
    "    'weights_initialization' : ['he'],      \n",
    "    'regularization' : ['elastic'],\n",
    "    'n_epochs' : [3000],\n",
    "    'tolerance' : [0.000001],\n",
    "    'patience': [50]\n",
    "                  \n",
    "}\n",
    "\n",
    "grid_80_30 = GridSearch(mlp)\n",
    "grid_80_30.fit(X_train, y_train, params_grid, n_folds = 5, parallel = True)\n",
    "\n",
    "print(grid_80_30.best_model.evaluate_model(X_test, y_test))"
   ]
  }
 ],
 "metadata": {
  "kernelspec": {
   "display_name": "Python 3",
   "language": "python",
   "name": "python3"
  },
  "language_info": {
   "codemirror_mode": {
    "name": "ipython",
    "version": 3
   },
   "file_extension": ".py",
   "mimetype": "text/x-python",
   "name": "python",
   "nbconvert_exporter": "python",
   "pygments_lexer": "ipython3",
   "version": "3.10.7"
  },
  "orig_nbformat": 4,
  "vscode": {
   "interpreter": {
    "hash": "9a84d6694d99063d2bb0286ebc4a83b7a5fbbe8812bdd85c9b7227af9c494503"
   }
  }
 },
 "nbformat": 4,
 "nbformat_minor": 2
}
