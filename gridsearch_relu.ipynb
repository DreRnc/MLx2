{
 "cells": [
  {
   "cell_type": "code",
   "execution_count": 1,
   "metadata": {},
   "outputs": [],
   "source": [
    "import numpy as np\n",
    "import pandas as pd\n",
    "import joblib\n",
    "import matplotlib.pyplot as plt\n",
    "import os\n",
    "from data.load_data import load_monk\n",
    "from src.MetricFunctions import get_metric_instance\n",
    "from src.MLP import MLP\n",
    "from src.GridSearch import GridSearch, RandomGridsearch, print_grid_results\n",
    "from sklearn.model_selection import train_test_split\n",
    "from sklearn.preprocessing import StandardScaler\n",
    "from src.EarlyStopping import EarlyStopping\n"
   ]
  },
  {
   "cell_type": "code",
   "execution_count": 2,
   "metadata": {},
   "outputs": [],
   "source": [
    "path = os.getcwd()\n",
    "file = '/data/ML-CUP22-TR.csv'\n",
    "\n",
    "labels = ['x1','x2','x3','x4','x5','x6','x7','x8','x9','y1','y2']\n",
    "\n",
    "TR = pd.read_csv(path + file, sep = ',', header = None, usecols=range(1,12), \\\n",
    "                 names = labels, skiprows = 7)\n",
    "\n",
    "TR = TR.to_numpy()\n",
    "\n",
    "np.random.shuffle(TR)\n",
    "\n",
    "TR = np.split(TR, [9], axis = 1)\n",
    "\n",
    "X = TR[0]\n",
    "y_true = TR[1]\n",
    "\n",
    "X_train, X_test, y_train, y_test = train_test_split(X, y_true, test_size = 0.1, random_state = 42)"
   ]
  },
  {
   "cell_type": "code",
   "execution_count": null,
   "metadata": {},
   "outputs": [],
   "source": [
    "mlp = MLP([10, 10], 9, 2, task = \"regression\", activation_function = \"relu\")\n",
    "\n",
    "params_grid = {\n",
    "    \"step\": [0.009, 0.006, 0.003],\n",
    "    \"momentum\": [0.75, 0.5, 0.25],\n",
    "    \"batch_size\": [len(X_train), 300],\n",
    "    'alpha_l1' : [0.001, 0.0006, 0.0002],\n",
    "    'alpha_l2' : [0.001, 0.0006, 0.0002],\n",
    "    'Nesterov' : [False, True],\n",
    "    'weights_initialization' : ['xavier'],\n",
    "}\n",
    "\n",
    "grid_10_10 = GridSearch(mlp)\n",
    "grid_10_10.fit(X_train, y_train, params_grid, n_folds = 5, parallel = True)\n",
    "\n",
    "print(grid_10_10.best_model.evaluate_model(X_test, y_test))\n",
    "\n",
    "import winsound\n",
    "\n",
    "# Play a notification sound\n",
    "winsound.PlaySound(\"notification.wav\", winsound.SND_FILENAME)"
   ]
  },
  {
   "cell_type": "code",
   "execution_count": 3,
   "metadata": {},
   "outputs": [
    {
     "name": "stdout",
     "output_type": "stream",
     "text": [
      "Grid search of combinations: 324\n",
      "Parallelisation activated\n"
     ]
    }
   ],
   "source": [
    "mlp = MLP([40, 20], 9, 2, task = \"regression\", activation_function = \"relu\")\n",
    "\n",
    "params_grid = {\n",
    "    \"step\": [0.009, 0.006, 0.003],\n",
    "    \"momentum\": [0.75, 0.5, 0.25],\n",
    "    \"batch_size\": [len(X_train), 300],\n",
    "    'alpha_l1' : [0.001, 0.0006, 0.0002],\n",
    "    'alpha_l2' : [0.001, 0.0006, 0.0002],\n",
    "    'Nesterov' : [False, True],\n",
    "    'weights_initialization' : ['xavier'],\n",
    "}\n",
    "\n",
    "grid_9_9 = GridSearch(mlp)\n",
    "grid_9_9.fit(X_train, y_train, params_grid, n_folds = 5, parallel = True)\n",
    "\n",
    "print(grid_9_9.best_model.evaluate_model(X_test, y_test))\n",
    "\n",
    "import winsound\n",
    "\n",
    "# Play a notification sound\n",
    "winsound.PlaySound(\"notification.wav\", winsound.SND_FILENAME)"
   ]
  },
  {
   "cell_type": "code",
   "execution_count": null,
   "metadata": {},
   "outputs": [],
   "source": [
    "mlp = MLP([80, 50], 9, 2, task = \"regression\", activation_function = \"relu\")\n",
    "\n",
    "params_grid = {\n",
    "    \"step\": [0.009, 0.006, 0.003],\n",
    "    \"momentum\": [0.75, 0.5, 0.25],\n",
    "    \"batch_size\": [len(X_train), 300],\n",
    "    'alpha_l1' : [0.001, 0.0006, 0.0002],\n",
    "    'alpha_l2' : [0.001, 0.0006, 0.0002],\n",
    "    'Nesterov' : [False, True],\n",
    "    'weights_initialization' : ['xavier'],\n",
    "}\n",
    "\n",
    "grid_80_50 = GridSearch(mlp)\n",
    "grid_80_50.fit(X_train, y_train, params_grid, n_folds = 5, parallel = True)\n",
    "\n",
    "print(grid_80_50.best_model.evaluate_model(X_test, y_test))"
   ]
  },
  {
   "cell_type": "code",
   "execution_count": null,
   "metadata": {},
   "outputs": [],
   "source": [
    "mlp = MLP([60, 40], 9, 2, task = \"regression\", activation_function = \"relu\")\n",
    "\n",
    "params_grid = {\n",
    "    \"step\": [0.009, 0.006, 0.003],\n",
    "    \"momentum\": [0.75, 0.5, 0.25],\n",
    "    \"batch_size\": [len(X_train), 300],\n",
    "    'alpha_l1' : [0.001, 0.0006, 0.0002],\n",
    "    'alpha_l2' : [0.001, 0.0006, 0.0002],\n",
    "    'Nesterov' : [False, True],\n",
    "    'weights_initialization' : ['xavier'],\n",
    "}\n",
    "\n",
    "grid_60_40 = GridSearch(mlp)\n",
    "grid_60_40.fit(X_train, y_train, params_grid, n_folds = 5, parallel = True)\n",
    "\n",
    "print(grid_60_40.best_model.evaluate_model(X_test, y_test))"
   ]
  },
  {
   "cell_type": "code",
   "execution_count": null,
   "metadata": {},
   "outputs": [],
   "source": [
    "mlp = MLP([60, 40, 20], 9, 2, task = \"regression\", activation_function = \"relu\")\n",
    "\n",
    "params_grid = {\n",
    "    \"step\": [0.009, 0.006, 0.003],\n",
    "    \"momentum\": [0.75, 0.5, 0.25],\n",
    "    \"batch_size\": [len(X_train), 300],\n",
    "    'alpha_l1' : [0.001, 0.0006, 0.0002],\n",
    "    'alpha_l2' : [0.001, 0.0006, 0.0002],\n",
    "    'Nesterov' : [False, True],\n",
    "    'weights_initialization' : ['xavier'],\n",
    "}\n",
    "\n",
    "grid_60_40_20 = GridSearch(mlp)\n",
    "grid_60_40_20.fit(X_train, y_train, params_grid, n_folds = 5, parallel = True)\n",
    "\n",
    "print(grid_60_40_20.best_model.evaluate_model(X_test, y_test))"
   ]
  }
 ],
 "metadata": {
  "kernelspec": {
   "display_name": "Python 3",
   "language": "python",
   "name": "python3"
  },
  "language_info": {
   "codemirror_mode": {
    "name": "ipython",
    "version": 3
   },
   "file_extension": ".py",
   "mimetype": "text/x-python",
   "name": "python",
   "nbconvert_exporter": "python",
   "pygments_lexer": "ipython3",
   "version": "3.10.7"
  },
  "orig_nbformat": 4,
  "vscode": {
   "interpreter": {
    "hash": "9a84d6694d99063d2bb0286ebc4a83b7a5fbbe8812bdd85c9b7227af9c494503"
   }
  }
 },
 "nbformat": 4,
 "nbformat_minor": 2
}
