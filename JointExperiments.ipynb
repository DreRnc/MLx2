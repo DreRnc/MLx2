{
 "cells": [
  {
   "attachments": {},
   "cell_type": "markdown",
   "metadata": {},
   "source": [
    "# Experiment Notebook Gridsearch"
   ]
  },
  {
   "cell_type": "code",
   "execution_count": null,
   "metadata": {},
   "outputs": [],
   "source": [
    "import numpy as np\n",
    "import math\n",
    "import pandas as pd\n",
    "import joblib\n",
    "import matplotlib.pyplot as plt\n",
    "import os\n",
    "from data.load_data import load_monk, load_MLCup\n",
    "from src.MetricFunctions import get_metric_instance\n",
    "from src.MLP import MLP\n",
    "from src.GridSearch import GridSearch, RandomGridsearch\n",
    "from sklearn.model_selection import train_test_split\n",
    "from sklearn.preprocessing import StandardScaler\n",
    "from src.EarlyStopping import EarlyStopping\n",
    "from tqdm import tqdm"
   ]
  },
  {
   "cell_type": "code",
   "execution_count": null,
   "metadata": {},
   "outputs": [],
   "source": [
    "path = os.getcwd()\n",
    "file_train = '/data/ML-CUP22-TR.csv'\n",
    "file_test = '/data/ML-CUP22-TS.csv'\n",
    "\n",
    "labels_train = ['x1','x2','x3','x4','x5','x6','x7','x8','x9','y1','y2']\n",
    "labels_test = ['x1','x2','x3','x4','x5','x6','x7','x8','x9']\n",
    "\n",
    "X_train, y_train = load_MLCup(path + file_train, labels_train)\n",
    "X_train, X_val, y_train, y_val = train_test_split(X_train, test_size = 0.1, random_state = 42)\n",
    "\n",
    "X_test = load_MLCup(path + file_test, labels_test)"
   ]
  },
  {
   "attachments": {},
   "cell_type": "markdown",
   "metadata": {},
   "source": [
    "## 1. Dre"
   ]
  },
  {
   "cell_type": "code",
   "execution_count": null,
   "metadata": {},
   "outputs": [],
   "source": []
  },
  {
   "attachments": {},
   "cell_type": "markdown",
   "metadata": {},
   "source": [
    "## 2. Bianchy"
   ]
  },
  {
   "cell_type": "code",
   "execution_count": null,
   "metadata": {},
   "outputs": [],
   "source": []
  },
  {
   "attachments": {},
   "cell_type": "markdown",
   "metadata": {},
   "source": [
    "## 3. Aku"
   ]
  },
  {
   "cell_type": "code",
   "execution_count": null,
   "metadata": {},
   "outputs": [],
   "source": []
  },
  {
   "attachments": {},
   "cell_type": "markdown",
   "metadata": {},
   "source": [
    "## 4. Duro"
   ]
  },
  {
   "cell_type": "code",
   "execution_count": null,
   "metadata": {},
   "outputs": [],
   "source": [
    "mlp = MLP([40, 20], 9, 2, task = \"regression\", activation_function = \"relu\")\n",
    "\n",
    "params_grid = {\n",
    "    \"step\": [0.012, 0.006, 0.002],\n",
    "    \"momentum\": [0.5 , 0.7, 0.8],\n",
    "    'alpha_l2' : [0.0005, 0.005, 0.01],\n",
    "    'alpha_l1' : [0.0005, 0.005, 0.01],\n",
    "    'Nesterov' : [False, True],\n",
    "                  \n",
    "    'rprp' : [False],\n",
    "    'adaptive_gradient' : [False],\n",
    "    \"batch_size\" : [-1],                        \n",
    "    'weights_initialization' : ['he'],      \n",
    "    'regularization' : ['elastic'],\n",
    "    'n_epochs' : [2000],\n",
    "    'tolerance' : [1e-5],\n",
    "    'patience': [50]\n",
    "                  \n",
    "}\n",
    "\n",
    "grid_40_20 = GridSearch(mlp)\n",
    "grid_40_20.fit(X_train, y_train, params_grid, n_folds = 5, parallel = True)\n",
    "\n",
    "print(grid_40_20.best_model.evaluate_model(X_test, y_test))\n"
   ]
  },
  {
   "cell_type": "code",
   "execution_count": null,
   "metadata": {},
   "outputs": [],
   "source": [
    "mlp = MLP([80, 30], 9, 2, task = \"regression\", activation_function = \"relu\")\n",
    "\n",
    "params_grid = {\n",
    "    \"step\": [0.005],\n",
    "    \"momentum\": [ 0.8],\n",
    "    \"batch_size\": [len(X_train)],\n",
    "    'alpha_l2' : elle2,\n",
    "    'alpha_l1' : elle2,\n",
    "    'Nesterov' : [False],\n",
    "\n",
    "                          \n",
    "    'weights_initialization' : ['he'],      \n",
    "    'regularization' : ['elastic'],\n",
    "    'n_epochs' : [3000],\n",
    "    'tolerance' : [0.000001],\n",
    "    'patience': [50]\n",
    "                  \n",
    "}\n",
    "\n",
    "grid_80_30 = GridSearch(mlp)\n",
    "grid_80_30.fit(X_train, y_train, params_grid, n_folds = 5, parallel = True)\n",
    "\n",
    "print(grid_80_30.best_model.evaluate_model(X_test, y_test))"
   ]
  },
  {
   "cell_type": "code",
   "execution_count": null,
   "metadata": {},
   "outputs": [],
   "source": [
    "mlp = MLP([60, 10], 9, 2, task = \"regression\", activation_function = \"relu\")\n",
    "\n",
    "params_grid = {\n",
    "    \"step\": [0.08, 0.004, 0.001],\n",
    "    \"momentum\": [0.5 , 0.7, 0.8],\n",
    "    \"batch_size\": [len(X_train)],\n",
    "    'alpha_l2' : [0.02, 0.008, 0.001],\n",
    "    'alpha_l1' : [0.02, 0.008, 0.001],\n",
    "    'Nesterov' : [False, True],\n",
    "\n",
    "                          \n",
    "    'weights_initialization' : ['he'],      \n",
    "    'regularization' : ['l2'],\n",
    "    'n_epochs' : [3000],\n",
    "    'tolerance' : [0.000001],\n",
    "    'patience': [50]\n",
    "                  \n",
    "}\n",
    "\n",
    "grid_60_10 = GridSearch(mlp)\n",
    "grid_60_10.fit(X_train, y_train, params_grid, n_folds = 5, parallel = True)\n",
    "\n",
    "print(grid_60_10.best_model.evaluate_model(X_test, y_test))"
   ]
  }
 ],
 "metadata": {
  "kernelspec": {
   "display_name": "Python 3",
   "language": "python",
   "name": "python3"
  },
  "language_info": {
   "name": "python",
   "version": "3.10.7 (tags/v3.10.7:6cc6b13, Sep  5 2022, 14:08:36) [MSC v.1933 64 bit (AMD64)]"
  },
  "orig_nbformat": 4,
  "vscode": {
   "interpreter": {
    "hash": "9a84d6694d99063d2bb0286ebc4a83b7a5fbbe8812bdd85c9b7227af9c494503"
   }
  }
 },
 "nbformat": 4,
 "nbformat_minor": 2
}
