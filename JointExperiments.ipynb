{
 "cells": [
  {
   "cell_type": "markdown",
   "metadata": {},
   "source": [
    "# Experiment Notebook Gridsearch"
   ]
  },
  {
   "cell_type": "code",
   "execution_count": 1,
   "metadata": {},
   "outputs": [],
   "source": [
    "import numpy as np\n",
    "import math\n",
    "import pandas as pd\n",
    "import joblib\n",
    "import matplotlib.pyplot as plt\n",
    "import os\n",
    "from data.load_data import load_monk, load_MLCup\n",
    "from src.MetricFunctions import get_metric_instance\n",
    "from src.MLP import MLP\n",
    "from src.GridSearch import GridSearch, RandomGridsearch\n",
    "from sklearn.model_selection import train_test_split\n",
    "from sklearn.preprocessing import StandardScaler\n",
    "from src.EarlyStopping import EarlyStopping\n",
    "from tqdm import tqdm\n",
    "\n",
    "# warnings to false\n",
    "import warnings\n",
    "warnings.filterwarnings(\"ignore\")"
   ]
  },
  {
   "cell_type": "code",
   "execution_count": 2,
   "metadata": {},
   "outputs": [],
   "source": [
    "path = os.getcwd()\n",
    "file_train = '/data/ML-CUP22-TR.csv'\n",
    "file_test = '/data/ML-CUP22-TS.csv'\n",
    "\n",
    "labels_train = ['x1','x2','x3','x4','x5','x6','x7','x8','x9','y1','y2']\n",
    "labels_test = ['x1','x2','x3','x4','x5','x6','x7','x8','x9']\n",
    "\n",
    "X_train, y_train = load_MLCup(path + file_train, labels_train)\n",
    "X_train, X_val, y_train, y_val = train_test_split(X_train, y_train, test_size = 0.1, random_state = 42)\n",
    "\n",
    "X_test = load_MLCup(path + file_test, labels_test)"
   ]
  },
  {
   "cell_type": "markdown",
   "metadata": {},
   "source": [
    "## 1. Dre"
   ]
  },
  {
   "cell_type": "code",
   "execution_count": 3,
   "metadata": {},
   "outputs": [
    {
     "name": "stdout",
     "output_type": "stream",
     "text": [
      "Grid search of combinations: 864\n",
      "Parallelisation activated\n",
      "\n",
      "\n",
      "Best parameters: {'step': 0.005, 'momentum': 0.75, 'alpha_l2': 0.005, 'alpha_l1': 0, 'Nesterov': True, 'rprop': False, 'adaptive_gradient': False, 'batch_size': 500, 'weights_initialization': 'he', 'regularization': 'elastic', 'n_epochs': 2000, 'tolerance': 1e-05, 'patience': 50}\n",
      "Best score: 1.5174841768721512\n"
     ]
    },
    {
     "ename": "ValueError",
     "evalue": "setting an array element with a sequence. The requested array has an inhomogeneous shape after 2 dimensions. The detected shape was (864, 3) + inhomogeneous part.",
     "output_type": "error",
     "traceback": [
      "\u001b[0;31m---------------------------------------------------------------------------\u001b[0m",
      "\u001b[0;31mValueError\u001b[0m                                Traceback (most recent call last)",
      "Cell \u001b[0;32mIn[3], line 21\u001b[0m\n\u001b[1;32m      3\u001b[0m params_grid \u001b[39m=\u001b[39m {\n\u001b[1;32m      4\u001b[0m     \u001b[39m\"\u001b[39m\u001b[39mstep\u001b[39m\u001b[39m\"\u001b[39m: [\u001b[39m0.005\u001b[39m, \u001b[39m0.001\u001b[39m, \u001b[39m0.0005\u001b[39m],\n\u001b[1;32m      5\u001b[0m     \u001b[39m\"\u001b[39m\u001b[39mmomentum\u001b[39m\u001b[39m\"\u001b[39m: [\u001b[39m0.5\u001b[39m , \u001b[39m0.75\u001b[39m],\n\u001b[0;32m   (...)\u001b[0m\n\u001b[1;32m     17\u001b[0m                   \n\u001b[1;32m     18\u001b[0m }\n\u001b[1;32m     20\u001b[0m grid_40_20_dre1 \u001b[39m=\u001b[39m GridSearch(mlp)\n\u001b[0;32m---> 21\u001b[0m grid_40_20_dre1\u001b[39m.\u001b[39;49mfit(X_train, y_train, params_grid, n_folds \u001b[39m=\u001b[39;49m \u001b[39m5\u001b[39;49m, parallel \u001b[39m=\u001b[39;49m \u001b[39mTrue\u001b[39;49;00m, verbose \u001b[39m=\u001b[39;49m \u001b[39mFalse\u001b[39;49;00m)\n\u001b[1;32m     23\u001b[0m \u001b[39mprint\u001b[39m(grid_40_20_dre1\u001b[39m.\u001b[39mbest_model\u001b[39m.\u001b[39mevaluate_model(X_val, y_val, \u001b[39m'\u001b[39m\u001b[39mmee\u001b[39m\u001b[39m'\u001b[39m))\n",
      "File \u001b[0;32m~/Documents/GitHub/MLx2/src/GridSearch.py:376\u001b[0m, in \u001b[0;36mGridSearch.fit\u001b[0;34m(self, X, y, parameters_grid, n_folds, stratified, test_size, verbose, parallel, random_search, n_random, get_eta)\u001b[0m\n\u001b[1;32m    372\u001b[0m \u001b[39mself\u001b[39m\u001b[39m.\u001b[39mi \u001b[39m=\u001b[39m \u001b[39m0\u001b[39m\n\u001b[1;32m    374\u001b[0m \u001b[39mself\u001b[39m\u001b[39m.\u001b[39mgrid_search(par_combinations)\n\u001b[0;32m--> 376\u001b[0m \u001b[39mself\u001b[39;49m\u001b[39m.\u001b[39;49mclean_output()\n",
      "File \u001b[0;32m~/Documents/GitHub/MLx2/src/GridSearch.py:285\u001b[0m, in \u001b[0;36mGridSearch.clean_output\u001b[0;34m(self)\u001b[0m\n\u001b[1;32m    282\u001b[0m \u001b[39mwith\u001b[39;00m \u001b[39mopen\u001b[39m(\u001b[39mf\u001b[39m\u001b[39m'\u001b[39m\u001b[39mgrid_results/\u001b[39m\u001b[39m{\u001b[39;00mrand_int\u001b[39m}\u001b[39;00m\u001b[39m_grid_results\u001b[39m\u001b[39m{\u001b[39;00m\u001b[39mself\u001b[39m\u001b[39m.\u001b[39mmodel\u001b[39m.\u001b[39mhidden_layer_units\u001b[39m}\u001b[39;00m\u001b[39m_\u001b[39m\u001b[39m{\u001b[39;00m\u001b[39mself\u001b[39m\u001b[39m.\u001b[39mmodel\u001b[39m.\u001b[39mactivation_function\u001b[39m}\u001b[39;00m\u001b[39m.txt\u001b[39m\u001b[39m'\u001b[39m, \u001b[39m'\u001b[39m\u001b[39mw\u001b[39m\u001b[39m'\u001b[39m) \u001b[39mas\u001b[39;00m f:\n\u001b[1;32m    283\u001b[0m     json\u001b[39m.\u001b[39mdump(\u001b[39mself\u001b[39m\u001b[39m.\u001b[39mparameters_grid, f)\n\u001b[0;32m--> 285\u001b[0m np\u001b[39m.\u001b[39;49msave(\u001b[39mf\u001b[39;49m\u001b[39m'\u001b[39;49m\u001b[39mgrid_results/\u001b[39;49m\u001b[39m{\u001b[39;49;00mrand_int\u001b[39m}\u001b[39;49;00m\u001b[39m_grid_results\u001b[39;49m\u001b[39m{\u001b[39;49;00m\u001b[39mself\u001b[39;49m\u001b[39m.\u001b[39;49mmodel\u001b[39m.\u001b[39;49mhidden_layer_units\u001b[39m}\u001b[39;49;00m\u001b[39m_\u001b[39;49m\u001b[39m{\u001b[39;49;00m\u001b[39mself\u001b[39;49m\u001b[39m.\u001b[39;49mmodel\u001b[39m.\u001b[39;49mactivation_function\u001b[39m}\u001b[39;49;00m\u001b[39m.npy\u001b[39;49m\u001b[39m'\u001b[39;49m, \u001b[39mself\u001b[39;49m\u001b[39m.\u001b[39;49mresults)\n",
      "File \u001b[0;32m<__array_function__ internals>:200\u001b[0m, in \u001b[0;36msave\u001b[0;34m(*args, **kwargs)\u001b[0m\n",
      "File \u001b[0;32m~/Documents/GitHub/MLx2/MLenv/lib/python3.10/site-packages/numpy/lib/npyio.py:521\u001b[0m, in \u001b[0;36msave\u001b[0;34m(file, arr, allow_pickle, fix_imports)\u001b[0m\n\u001b[1;32m    518\u001b[0m     file_ctx \u001b[39m=\u001b[39m \u001b[39mopen\u001b[39m(file, \u001b[39m\"\u001b[39m\u001b[39mwb\u001b[39m\u001b[39m\"\u001b[39m)\n\u001b[1;32m    520\u001b[0m \u001b[39mwith\u001b[39;00m file_ctx \u001b[39mas\u001b[39;00m fid:\n\u001b[0;32m--> 521\u001b[0m     arr \u001b[39m=\u001b[39m np\u001b[39m.\u001b[39;49masanyarray(arr)\n\u001b[1;32m    522\u001b[0m     \u001b[39mformat\u001b[39m\u001b[39m.\u001b[39mwrite_array(fid, arr, allow_pickle\u001b[39m=\u001b[39mallow_pickle,\n\u001b[1;32m    523\u001b[0m                        pickle_kwargs\u001b[39m=\u001b[39m\u001b[39mdict\u001b[39m(fix_imports\u001b[39m=\u001b[39mfix_imports))\n",
      "\u001b[0;31mValueError\u001b[0m: setting an array element with a sequence. The requested array has an inhomogeneous shape after 2 dimensions. The detected shape was (864, 3) + inhomogeneous part."
     ]
    }
   ],
   "source": [
    "mlp = MLP([40, 20], 9, 2, task = \"regression\", activation_function = \"relu\")\n",
    "\n",
    "params_grid = {\n",
    "    \"step\": [0.005, 0.001, 0.0005],\n",
    "    \"momentum\": [0.5 , 0.75],\n",
    "    'alpha_l2' : [0.01, 0.005, 0],\n",
    "    'alpha_l1' : [0.01, 0.005, 0],\n",
    "    'Nesterov' : [True, False],             \n",
    "    'rprop' : [True, False],\n",
    "    'adaptive_gradient' : [True, False],\n",
    "    \"batch_size\" : [-1, 500],                        \n",
    "    'weights_initialization' : ['he'],      \n",
    "    'regularization' : ['elastic'],\n",
    "    'n_epochs' : [2000],\n",
    "    'tolerance' : [1e-5],\n",
    "    'patience': [50]\n",
    "                  \n",
    "}\n",
    "\n",
    "grid_40_20_dre1 = GridSearch(mlp)\n",
    "grid_40_20_dre1.fit(X_train, y_train, params_grid, n_folds = 5, parallel = True, verbose = False)\n",
    "\n",
    "print(grid_40_20_dre1.best_model.evaluate_model(X_val, y_val, 'mee'))"
   ]
  },
  {
   "cell_type": "code",
   "execution_count": 4,
   "metadata": {},
   "outputs": [
    {
     "name": "stdout",
     "output_type": "stream",
     "text": [
      "Grid search of combinations: 864\n",
      "Parallelisation activated\n",
      "\n",
      "\n",
      "Best parameters: {'step': 0.015, 'momentum': 0.75, 'alpha_l2': 0, 'alpha_l1': 0, 'Nesterov': False, 'rprop': False, 'adaptive_gradient': False, 'batch_size': 500, 'weights_initialization': 'he', 'regularization': 'elastic', 'n_epochs': 2000, 'tolerance': 1e-05, 'patience': 50}\n",
      "Best score: 1.4557360612266517\n"
     ]
    },
    {
     "ename": "ValueError",
     "evalue": "setting an array element with a sequence. The requested array has an inhomogeneous shape after 2 dimensions. The detected shape was (864, 3) + inhomogeneous part.",
     "output_type": "error",
     "traceback": [
      "\u001b[0;31m---------------------------------------------------------------------------\u001b[0m",
      "\u001b[0;31mValueError\u001b[0m                                Traceback (most recent call last)",
      "Cell \u001b[0;32mIn[4], line 22\u001b[0m\n\u001b[1;32m      3\u001b[0m params_grid \u001b[39m=\u001b[39m {\n\u001b[1;32m      4\u001b[0m     \u001b[39m\"\u001b[39m\u001b[39mstep\u001b[39m\u001b[39m\"\u001b[39m: [\u001b[39m0.03\u001b[39m, \u001b[39m0.015\u001b[39m, \u001b[39m0.0075\u001b[39m],\n\u001b[1;32m      5\u001b[0m     \u001b[39m\"\u001b[39m\u001b[39mmomentum\u001b[39m\u001b[39m\"\u001b[39m: [\u001b[39m0.5\u001b[39m , \u001b[39m0.75\u001b[39m],\n\u001b[0;32m   (...)\u001b[0m\n\u001b[1;32m     17\u001b[0m                   \n\u001b[1;32m     18\u001b[0m }\n\u001b[1;32m     21\u001b[0m grid_40_20_dre2 \u001b[39m=\u001b[39m GridSearch(mlp)\n\u001b[0;32m---> 22\u001b[0m grid_40_20_dre2\u001b[39m.\u001b[39;49mfit(X_train, y_train, params_grid, n_folds \u001b[39m=\u001b[39;49m \u001b[39m5\u001b[39;49m, parallel \u001b[39m=\u001b[39;49m \u001b[39mTrue\u001b[39;49;00m, verbose \u001b[39m=\u001b[39;49m \u001b[39mFalse\u001b[39;49;00m)\n\u001b[1;32m     24\u001b[0m \u001b[39mprint\u001b[39m(grid_40_20_dre2\u001b[39m.\u001b[39mbest_model\u001b[39m.\u001b[39mevaluate_model(X_val, y_val))\n",
      "File \u001b[0;32m~/Documents/GitHub/MLx2/src/GridSearch.py:376\u001b[0m, in \u001b[0;36mGridSearch.fit\u001b[0;34m(self, X, y, parameters_grid, n_folds, stratified, test_size, verbose, parallel, random_search, n_random, get_eta)\u001b[0m\n\u001b[1;32m    372\u001b[0m \u001b[39mself\u001b[39m\u001b[39m.\u001b[39mi \u001b[39m=\u001b[39m \u001b[39m0\u001b[39m\n\u001b[1;32m    374\u001b[0m \u001b[39mself\u001b[39m\u001b[39m.\u001b[39mgrid_search(par_combinations)\n\u001b[0;32m--> 376\u001b[0m \u001b[39mself\u001b[39;49m\u001b[39m.\u001b[39;49mclean_output()\n",
      "File \u001b[0;32m~/Documents/GitHub/MLx2/src/GridSearch.py:285\u001b[0m, in \u001b[0;36mGridSearch.clean_output\u001b[0;34m(self)\u001b[0m\n\u001b[1;32m    282\u001b[0m \u001b[39mwith\u001b[39;00m \u001b[39mopen\u001b[39m(\u001b[39mf\u001b[39m\u001b[39m'\u001b[39m\u001b[39mgrid_results/\u001b[39m\u001b[39m{\u001b[39;00mrand_int\u001b[39m}\u001b[39;00m\u001b[39m_grid_results\u001b[39m\u001b[39m{\u001b[39;00m\u001b[39mself\u001b[39m\u001b[39m.\u001b[39mmodel\u001b[39m.\u001b[39mhidden_layer_units\u001b[39m}\u001b[39;00m\u001b[39m_\u001b[39m\u001b[39m{\u001b[39;00m\u001b[39mself\u001b[39m\u001b[39m.\u001b[39mmodel\u001b[39m.\u001b[39mactivation_function\u001b[39m}\u001b[39;00m\u001b[39m.txt\u001b[39m\u001b[39m'\u001b[39m, \u001b[39m'\u001b[39m\u001b[39mw\u001b[39m\u001b[39m'\u001b[39m) \u001b[39mas\u001b[39;00m f:\n\u001b[1;32m    283\u001b[0m     json\u001b[39m.\u001b[39mdump(\u001b[39mself\u001b[39m\u001b[39m.\u001b[39mparameters_grid, f)\n\u001b[0;32m--> 285\u001b[0m np\u001b[39m.\u001b[39;49msave(\u001b[39mf\u001b[39;49m\u001b[39m'\u001b[39;49m\u001b[39mgrid_results/\u001b[39;49m\u001b[39m{\u001b[39;49;00mrand_int\u001b[39m}\u001b[39;49;00m\u001b[39m_grid_results\u001b[39;49m\u001b[39m{\u001b[39;49;00m\u001b[39mself\u001b[39;49m\u001b[39m.\u001b[39;49mmodel\u001b[39m.\u001b[39;49mhidden_layer_units\u001b[39m}\u001b[39;49;00m\u001b[39m_\u001b[39;49m\u001b[39m{\u001b[39;49;00m\u001b[39mself\u001b[39;49m\u001b[39m.\u001b[39;49mmodel\u001b[39m.\u001b[39;49mactivation_function\u001b[39m}\u001b[39;49;00m\u001b[39m.npy\u001b[39;49m\u001b[39m'\u001b[39;49m, \u001b[39mself\u001b[39;49m\u001b[39m.\u001b[39;49mresults)\n",
      "File \u001b[0;32m<__array_function__ internals>:200\u001b[0m, in \u001b[0;36msave\u001b[0;34m(*args, **kwargs)\u001b[0m\n",
      "File \u001b[0;32m~/Documents/GitHub/MLx2/MLenv/lib/python3.10/site-packages/numpy/lib/npyio.py:521\u001b[0m, in \u001b[0;36msave\u001b[0;34m(file, arr, allow_pickle, fix_imports)\u001b[0m\n\u001b[1;32m    518\u001b[0m     file_ctx \u001b[39m=\u001b[39m \u001b[39mopen\u001b[39m(file, \u001b[39m\"\u001b[39m\u001b[39mwb\u001b[39m\u001b[39m\"\u001b[39m)\n\u001b[1;32m    520\u001b[0m \u001b[39mwith\u001b[39;00m file_ctx \u001b[39mas\u001b[39;00m fid:\n\u001b[0;32m--> 521\u001b[0m     arr \u001b[39m=\u001b[39m np\u001b[39m.\u001b[39;49masanyarray(arr)\n\u001b[1;32m    522\u001b[0m     \u001b[39mformat\u001b[39m\u001b[39m.\u001b[39mwrite_array(fid, arr, allow_pickle\u001b[39m=\u001b[39mallow_pickle,\n\u001b[1;32m    523\u001b[0m                        pickle_kwargs\u001b[39m=\u001b[39m\u001b[39mdict\u001b[39m(fix_imports\u001b[39m=\u001b[39mfix_imports))\n",
      "\u001b[0;31mValueError\u001b[0m: setting an array element with a sequence. The requested array has an inhomogeneous shape after 2 dimensions. The detected shape was (864, 3) + inhomogeneous part."
     ]
    }
   ],
   "source": [
    "mlp = MLP([40, 20], 9, 2, task = \"regression\", activation_function = \"sigm\")\n",
    "\n",
    "params_grid = {\n",
    "    \"step\": [0.03, 0.015, 0.0075],\n",
    "    \"momentum\": [0.5 , 0.75],\n",
    "    'alpha_l2' : [0.01, 0.005, 0],\n",
    "    'alpha_l1' : [0.01, 0.005, 0],\n",
    "    'Nesterov' : [True, False],             \n",
    "    'rprop' : [True, False],\n",
    "    'adaptive_gradient' : [True, False],\n",
    "    \"batch_size\" : [-1, 500],                        \n",
    "    'weights_initialization' : ['he'],      \n",
    "    'regularization' : ['elastic'],\n",
    "    'n_epochs' : [2000],\n",
    "    'tolerance' : [1e-5],\n",
    "    'patience': [50]\n",
    "                  \n",
    "}\n",
    "\n",
    "\n",
    "grid_40_20_dre2 = GridSearch(mlp)\n",
    "grid_40_20_dre2.fit(X_train, y_train, params_grid, n_folds = 5, parallel = True, verbose = False)\n",
    "\n",
    "print(grid_40_20_dre2.best_model.evaluate_model(X_val, y_val))\n",
    "\n"
   ]
  },
  {
   "cell_type": "code",
   "execution_count": 5,
   "metadata": {},
   "outputs": [
    {
     "name": "stdout",
     "output_type": "stream",
     "text": [
      "Grid search of combinations: 432\n",
      "Parallelisation activated\n",
      "\n",
      "\n",
      "Best parameters: {'step': 0.005, 'momentum': 0.5, 'alpha_l2': 0.005, 'alpha_l1': 0.005, 'Nesterov': False, 'rprop': False, 'adaptive_gradient': False, 'batch_size': -1, 'weights_initialization': 'he', 'regularization': 'elastic', 'n_epochs': 2000, 'tolerance': 1e-05, 'patience': 50}\n",
      "Best score: 1.540510943639297\n"
     ]
    },
    {
     "ename": "ValueError",
     "evalue": "setting an array element with a sequence. The requested array has an inhomogeneous shape after 2 dimensions. The detected shape was (432, 3) + inhomogeneous part.",
     "output_type": "error",
     "traceback": [
      "\u001b[0;31m---------------------------------------------------------------------------\u001b[0m",
      "\u001b[0;31mValueError\u001b[0m                                Traceback (most recent call last)",
      "Cell \u001b[0;32mIn[5], line 22\u001b[0m\n\u001b[1;32m      3\u001b[0m params_grid \u001b[39m=\u001b[39m {\n\u001b[1;32m      4\u001b[0m     \u001b[39m\"\u001b[39m\u001b[39mstep\u001b[39m\u001b[39m\"\u001b[39m: [\u001b[39m0.005\u001b[39m, \u001b[39m0.001\u001b[39m, \u001b[39m0.0005\u001b[39m],\n\u001b[1;32m      5\u001b[0m     \u001b[39m\"\u001b[39m\u001b[39mmomentum\u001b[39m\u001b[39m\"\u001b[39m: [\u001b[39m0.5\u001b[39m , \u001b[39m0.75\u001b[39m],\n\u001b[0;32m   (...)\u001b[0m\n\u001b[1;32m     17\u001b[0m                   \n\u001b[1;32m     18\u001b[0m }\n\u001b[1;32m     21\u001b[0m grid_40_20_15_10 \u001b[39m=\u001b[39m GridSearch(mlp)\n\u001b[0;32m---> 22\u001b[0m grid_40_20_15_10\u001b[39m.\u001b[39;49mfit(X_train, y_train, params_grid, n_folds \u001b[39m=\u001b[39;49m \u001b[39m5\u001b[39;49m, parallel \u001b[39m=\u001b[39;49m \u001b[39mTrue\u001b[39;49;00m, verbose \u001b[39m=\u001b[39;49m \u001b[39mFalse\u001b[39;49;00m)\n\u001b[1;32m     24\u001b[0m \u001b[39mprint\u001b[39m(grid_40_20_15_10\u001b[39m.\u001b[39mbest_model\u001b[39m.\u001b[39mevaluate_model(X_val, y_val))\n",
      "File \u001b[0;32m~/Documents/GitHub/MLx2/src/GridSearch.py:376\u001b[0m, in \u001b[0;36mGridSearch.fit\u001b[0;34m(self, X, y, parameters_grid, n_folds, stratified, test_size, verbose, parallel, random_search, n_random, get_eta)\u001b[0m\n\u001b[1;32m    372\u001b[0m \u001b[39mself\u001b[39m\u001b[39m.\u001b[39mi \u001b[39m=\u001b[39m \u001b[39m0\u001b[39m\n\u001b[1;32m    374\u001b[0m \u001b[39mself\u001b[39m\u001b[39m.\u001b[39mgrid_search(par_combinations)\n\u001b[0;32m--> 376\u001b[0m \u001b[39mself\u001b[39;49m\u001b[39m.\u001b[39;49mclean_output()\n",
      "File \u001b[0;32m~/Documents/GitHub/MLx2/src/GridSearch.py:285\u001b[0m, in \u001b[0;36mGridSearch.clean_output\u001b[0;34m(self)\u001b[0m\n\u001b[1;32m    282\u001b[0m \u001b[39mwith\u001b[39;00m \u001b[39mopen\u001b[39m(\u001b[39mf\u001b[39m\u001b[39m'\u001b[39m\u001b[39mgrid_results/\u001b[39m\u001b[39m{\u001b[39;00mrand_int\u001b[39m}\u001b[39;00m\u001b[39m_grid_results\u001b[39m\u001b[39m{\u001b[39;00m\u001b[39mself\u001b[39m\u001b[39m.\u001b[39mmodel\u001b[39m.\u001b[39mhidden_layer_units\u001b[39m}\u001b[39;00m\u001b[39m_\u001b[39m\u001b[39m{\u001b[39;00m\u001b[39mself\u001b[39m\u001b[39m.\u001b[39mmodel\u001b[39m.\u001b[39mactivation_function\u001b[39m}\u001b[39;00m\u001b[39m.txt\u001b[39m\u001b[39m'\u001b[39m, \u001b[39m'\u001b[39m\u001b[39mw\u001b[39m\u001b[39m'\u001b[39m) \u001b[39mas\u001b[39;00m f:\n\u001b[1;32m    283\u001b[0m     json\u001b[39m.\u001b[39mdump(\u001b[39mself\u001b[39m\u001b[39m.\u001b[39mparameters_grid, f)\n\u001b[0;32m--> 285\u001b[0m np\u001b[39m.\u001b[39;49msave(\u001b[39mf\u001b[39;49m\u001b[39m'\u001b[39;49m\u001b[39mgrid_results/\u001b[39;49m\u001b[39m{\u001b[39;49;00mrand_int\u001b[39m}\u001b[39;49;00m\u001b[39m_grid_results\u001b[39;49m\u001b[39m{\u001b[39;49;00m\u001b[39mself\u001b[39;49m\u001b[39m.\u001b[39;49mmodel\u001b[39m.\u001b[39;49mhidden_layer_units\u001b[39m}\u001b[39;49;00m\u001b[39m_\u001b[39;49m\u001b[39m{\u001b[39;49;00m\u001b[39mself\u001b[39;49m\u001b[39m.\u001b[39;49mmodel\u001b[39m.\u001b[39;49mactivation_function\u001b[39m}\u001b[39;49;00m\u001b[39m.npy\u001b[39;49m\u001b[39m'\u001b[39;49m, \u001b[39mself\u001b[39;49m\u001b[39m.\u001b[39;49mresults)\n",
      "File \u001b[0;32m<__array_function__ internals>:200\u001b[0m, in \u001b[0;36msave\u001b[0;34m(*args, **kwargs)\u001b[0m\n",
      "File \u001b[0;32m~/Documents/GitHub/MLx2/MLenv/lib/python3.10/site-packages/numpy/lib/npyio.py:521\u001b[0m, in \u001b[0;36msave\u001b[0;34m(file, arr, allow_pickle, fix_imports)\u001b[0m\n\u001b[1;32m    518\u001b[0m     file_ctx \u001b[39m=\u001b[39m \u001b[39mopen\u001b[39m(file, \u001b[39m\"\u001b[39m\u001b[39mwb\u001b[39m\u001b[39m\"\u001b[39m)\n\u001b[1;32m    520\u001b[0m \u001b[39mwith\u001b[39;00m file_ctx \u001b[39mas\u001b[39;00m fid:\n\u001b[0;32m--> 521\u001b[0m     arr \u001b[39m=\u001b[39m np\u001b[39m.\u001b[39;49masanyarray(arr)\n\u001b[1;32m    522\u001b[0m     \u001b[39mformat\u001b[39m\u001b[39m.\u001b[39mwrite_array(fid, arr, allow_pickle\u001b[39m=\u001b[39mallow_pickle,\n\u001b[1;32m    523\u001b[0m                        pickle_kwargs\u001b[39m=\u001b[39m\u001b[39mdict\u001b[39m(fix_imports\u001b[39m=\u001b[39mfix_imports))\n",
      "\u001b[0;31mValueError\u001b[0m: setting an array element with a sequence. The requested array has an inhomogeneous shape after 2 dimensions. The detected shape was (432, 3) + inhomogeneous part."
     ]
    }
   ],
   "source": [
    "mlp = MLP([40, 20, 15, 10], 9, 2, task = \"regression\", activation_function = \"relu\")\n",
    "\n",
    "params_grid = {\n",
    "    \"step\": [0.005, 0.001, 0.0005],\n",
    "    \"momentum\": [0.5 , 0.75],\n",
    "    'alpha_l2' : [0.01, 0.005, 0],\n",
    "    'alpha_l1' : [0.01, 0.005, 0],\n",
    "    'Nesterov' : [True, False],             \n",
    "    'rprop' : [True, False],\n",
    "    'adaptive_gradient' : [True, False],\n",
    "    \"batch_size\" : [-1],                        \n",
    "    'weights_initialization' : ['he'],      \n",
    "    'regularization' : ['elastic'],\n",
    "    'n_epochs' : [2000],\n",
    "    'tolerance' : [1e-5],\n",
    "    'patience': [50]\n",
    "                  \n",
    "}\n",
    "\n",
    "\n",
    "grid_40_20_15_10 = GridSearch(mlp)\n",
    "grid_40_20_15_10.fit(X_train, y_train, params_grid, n_folds = 5, parallel = True, verbose = False)\n",
    "\n",
    "print(grid_40_20_15_10.best_model.evaluate_model(X_val, y_val))"
   ]
  },
  {
   "cell_type": "markdown",
   "metadata": {},
   "source": [
    "## 2. Bianchy"
   ]
  },
  {
   "cell_type": "code",
   "execution_count": null,
   "metadata": {},
   "outputs": [],
   "source": [
    "topologies = [[40,20], [80,30], [60,10]]\n",
    "\n",
    "for topology in topologies:\n",
    "    mlp = MLP(topology, 9, 2, task = \"regression\", activation_function = 'tanh')\n",
    "    grid = GridSearch(mlp)\n",
    "    \n",
    "    params_grid = {\n",
    "        \"step\" : [0.01, 0.015, 0.02, 0.03],\n",
    "        \"momentum\" : [0, 0.5, 0.75],\n",
    "        \"regularization\" : [\"elastic\"],\n",
    "        \"alpha_l1\" : [0, 0.001, 0.002, 0.004, 0.008],\n",
    "        \"alpha_l2\" : [0, 0.001, 0.002, 0.004, 0.008],\n",
    "        \"Nesterov\" : [True, False],\n",
    "        \"adaptive_gradient\" : [False],\n",
    "        \"rprop\" : [False],\n",
    "        \"batch_size\" : [-1],\n",
    "        \"n_epochs\" : [2000],\n",
    "        \"patience\" : [50],\n",
    "        \"tolerance\" : [1e-4]\n",
    "    }\n",
    "\n",
    "    grid.fit(X_train, y_train, params_grid, n_folds = 5, parallel = True)\n",
    "    joblib.dump(grid, f\"results/GridSearch_{'-'.join([str(x) for x in topology])}\")\n",
    "    "
   ]
  },
  {
   "cell_type": "code",
   "execution_count": null,
   "metadata": {},
   "outputs": [],
   "source": [
    "for topology in topologies:\n",
    "    grid = joblib.load(f\"results/GridSearch_{'-'.join([str(x) for x in topology])}\")\n",
    "    print(topology)\n",
    "    print(\"best score\")\n",
    "    print(grid.results)\n",
    "    print(grid.best_parameters)"
   ]
  },
  {
   "cell_type": "markdown",
   "metadata": {},
   "source": [
    "## 3. Aku"
   ]
  },
  {
   "cell_type": "code",
   "execution_count": null,
   "metadata": {},
   "outputs": [],
   "source": [
    "topologies = [[40, 20]]\n",
    "# topologies = [[40, 20], [60, 10], [80, 30]]\n",
    "params_grid = {\n",
    "    \"step\" : [0.02, 0.03],\n",
    "    \"momentum\" : [0.5, 0.75],\n",
    "    \"alpha_l1\" : [0.004],\n",
    "    \"alpha_l2\" : [0.004],\n",
    "    \"Nesterov\" : [False],\n",
    "\n",
    "    # \"step\" : [0.01, 0.02, 0.03],\n",
    "    # \"momentum\" : [0, 0.5, 0.75],\n",
    "    # \"alpha_l1\" : [0, 0.001, 0.002, 0.004],\n",
    "    # \"alpha_l2\" : [0, 0.001, 0.002, 0.004],\n",
    "    # \"Nesterov\" : [True, False],\n",
    "    \"rprop\" : [False],\n",
    "    \"adaptive_gradient\" : [False],\n",
    "    \"batch_size\" : [-1],\n",
    "    \"weights_initialization\": [\"scaled\"],\n",
    "    \"regularization\" : [\"elastic\"],\n",
    "    \"n_epochs\" : [2000],\n",
    "    \"tolerance\" : [1e-4],\n",
    "    \"patience\" : [50]\n",
    "}\n",
    "\n",
    "for top in topologies:\n",
    "    mlp = MLP(top, 9, 2, task = \"regression\", activation_function = \"sigmoid\")\n",
    "    grid = GridSearch(mlp)\n",
    "    grid.fit(X_train, y_train, params_grid, n_folds = 5, parallel = True)\n",
    "    b = grid.best_model.evaluate_model(X_val, y_val)\n",
    "    print(f\"best model of topology {top}: {b}\")\n",
    "    "
   ]
  },
  {
   "cell_type": "markdown",
   "metadata": {},
   "source": [
    "## 4. Duro"
   ]
  },
  {
   "cell_type": "code",
   "execution_count": null,
   "metadata": {},
   "outputs": [],
   "source": [
    "elle2 = [1/(2**j) for j in range(5, 10)]\n",
    "elle2.append(0)\n",
    "elle2"
   ]
  },
  {
   "cell_type": "code",
   "execution_count": null,
   "metadata": {},
   "outputs": [
    {
     "name": "stdout",
     "output_type": "stream",
     "text": [
      "Grid search of combinations: 6\n",
      "Parallelisation activated\n",
      "\n",
      "\n",
      "Best parameters: {'step': 0.015, 'Nesterov': True, 'rprop': False, 'adaptive_gradient': False, 'batch_size': -1, 'weights_initialization': 'he', 'regularization': 'elastic', 'n_epochs': 2000, 'tolerance': 1e-05, 'patience': 50}\n",
      "Best score: 1.7010252002256778\n",
      "2.070938046528258\n"
     ]
    }
   ],
   "source": [
    "mlp = MLP([40, 20], 9, 2, task = \"regression\", activation_function = \"relu\")\n",
    "\n",
    "params_grid = {\n",
    "    \"step\": [0.015, 0.007, 0.003],\n",
    "    \"momentum\": [0.5 , 0.7, 0.8],\n",
    "    'alpha_l2' : [0.015, 0.008, 0.004, 0.002, 0],\n",
    "    'alpha_l1' : [0.015, 0.008, 0.004, 0.002, 0],\n",
    "    'Nesterov' : [False, True], \n",
    "                              \n",
    "    'rprop' : [False],\n",
    "    'adaptive_gradient' : [False],\n",
    "    \"batch_size\" : [-1],                        \n",
    "    'weights_initialization' : ['he'],      \n",
    "    'regularization' : ['elastic'],\n",
    "    'n_epochs' : [2000],\n",
    "    'tolerance' : [1e-5],\n",
    "    'patience': [50]\n",
    "                  \n",
    "}\n",
    "\n",
    "grid_40_20 = GridSearch(mlp)\n",
    "grid_40_20.fit(X_train, y_train, params_grid, n_folds = 5, parallel = True)\n",
    "\n",
    "print(grid_40_20.best_model.evaluate_model(X_val, y_val))\n"
   ]
  },
  {
   "cell_type": "code",
   "execution_count": null,
   "metadata": {},
   "outputs": [],
   "source": [
    "mlp = MLP([80, 30], 9, 2, task = \"regression\", activation_function = \"relu\")\n",
    "\n",
    "params_grid = {\n",
    "    \"step\": [0.015, 0.007, 0.003],\n",
    "    \"momentum\": [0.5 , 0.7, 0.8],\n",
    "    'alpha_l2' : [0.015, 0.008, 0.004, 0.002, 0],\n",
    "    'alpha_l1' : [0.015, 0.008, 0.004, 0.002, 0],\n",
    "    'Nesterov' : [False, True], \n",
    "                              \n",
    "    'rprop' : [False],\n",
    "    'adaptive_gradient' : [False],\n",
    "    \"batch_size\" : [-1],                        \n",
    "    'weights_initialization' : ['he'],      \n",
    "    'regularization' : ['elastic'],\n",
    "    'n_epochs' : [2000],\n",
    "    'tolerance' : [1e-5],\n",
    "    'patience': [50]\n",
    "                  \n",
    "}\n",
    "\n",
    "grid_80_30 = GridSearch(mlp)\n",
    "grid_80_30.fit(X_train, y_train, params_grid, n_folds = 5, parallel = True)\n",
    "\n",
    "print(grid_80_30.best_model.evaluate_model(X_val, y_val))"
   ]
  },
  {
   "cell_type": "code",
   "execution_count": null,
   "metadata": {},
   "outputs": [],
   "source": [
    "mlp = MLP([60, 10], 9, 2, task = \"regression\", activation_function = \"relu\")\n",
    "\n",
    "params_grid = {\n",
    "    \"step\": [0.015, 0.007, 0.003],\n",
    "    \"momentum\": [0.5 , 0.7, 0.8],\n",
    "    'alpha_l2' : [0.015, 0.008, 0.004, 0.002, 0],\n",
    "    'alpha_l1' : [0.015, 0.008, 0.004, 0.002, 0],\n",
    "    'Nesterov' : [False, True], \n",
    "                              \n",
    "    'rprop' : [False],\n",
    "    'adaptive_gradient' : [False],\n",
    "    \"batch_size\" : [-1],                        \n",
    "    'weights_initialization' : ['he'],      \n",
    "    'regularization' : ['elastic'],\n",
    "    'n_epochs' : [2000],\n",
    "    'tolerance' : [1e-5],\n",
    "    'patience': [50]\n",
    "                  \n",
    "}\n",
    "\n",
    "grid_60_10 = GridSearch(mlp)\n",
    "grid_60_10.fit(X_train, y_train, params_grid, n_folds = 5, parallel = True)\n",
    "\n",
    "print(grid_60_10.best_model.evaluate_model(X_val, y_val))"
   ]
  }
 ],
 "metadata": {
  "kernelspec": {
   "display_name": "Python 3 (ipykernel)",
   "language": "python",
   "name": "python3"
  },
  "language_info": {
   "codemirror_mode": {
    "name": "ipython",
    "version": 3
   },
   "file_extension": ".py",
   "mimetype": "text/x-python",
   "name": "python",
   "nbconvert_exporter": "python",
   "pygments_lexer": "ipython3",
   "version": "3.9.13"
  },
  "vscode": {
   "interpreter": {
    "hash": "9a84d6694d99063d2bb0286ebc4a83b7a5fbbe8812bdd85c9b7227af9c494503"
   }
  }
 },
 "nbformat": 4,
 "nbformat_minor": 2
}
