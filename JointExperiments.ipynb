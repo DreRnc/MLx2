{
 "cells": [
  {
   "cell_type": "markdown",
   "metadata": {},
   "source": [
    "# Experiment Notebook Gridsearch"
   ]
  },
  {
   "cell_type": "code",
   "execution_count": 2,
   "metadata": {},
   "outputs": [],
   "source": [
    "import numpy as np\n",
    "import math\n",
    "import pandas as pd\n",
    "import joblib\n",
    "import matplotlib.pyplot as plt\n",
    "import os\n",
    "from data.load_data import load_monk, load_MLCup\n",
    "from src.MetricFunctions import get_metric_instance\n",
    "from src.MLP import MLP\n",
    "from src.GridSearch import GridSearch, RandomGridsearch\n",
    "from sklearn.model_selection import train_test_split\n",
    "from sklearn.preprocessing import StandardScaler\n",
    "from src.EarlyStopping import EarlyStopping\n",
    "from tqdm import tqdm"
   ]
  },
  {
   "cell_type": "code",
   "execution_count": 3,
   "metadata": {},
   "outputs": [],
   "source": [
    "path = os.getcwd()\n",
    "file_train = '/data/ML-CUP22-TR.csv'\n",
    "file_test = '/data/ML-CUP22-TS.csv'\n",
    "\n",
    "labels_train = ['x1','x2','x3','x4','x5','x6','x7','x8','x9','y1','y2']\n",
    "labels_test = ['x1','x2','x3','x4','x5','x6','x7','x8','x9']\n",
    "\n",
    "X_train, y_train = load_MLCup(path + file_train, labels_train)\n",
    "X_train, X_val, y_train, y_val = train_test_split(X_train, y_train, test_size = 0.1, random_state = 42)\n",
    "\n",
    "X_test = load_MLCup(path + file_test, labels_test)"
   ]
  },
  {
   "cell_type": "markdown",
   "metadata": {},
   "source": [
    "## 1. Dre"
   ]
  },
  {
   "cell_type": "code",
   "execution_count": null,
   "metadata": {},
   "outputs": [],
   "source": [
    "mlp = MLP([40, 20], 9, 2, task = \"regression\", activation_function = \"relu\")\n",
    "\n",
    "params_grid = {\n",
    "    \"step\": [0.015, 0.0075, 0.004, 0.002, 0.001, 0.0005, 0.0001],\n",
    "    \"momentum\": [0.5 , 0.7, 0.8],\n",
    "    'alpha_l2' : [0.01, 0.005, 0.002, 0.00075, 0.0002, 0],\n",
    "    'alpha_l1' : [0.01, 0.005, 0.002, 0.00075, 0.0002, 0],\n",
    "    'Nesterov' : [False, True],             \n",
    "    'rprop' : [False, True],\n",
    "    'adaptive_gradient' : [False, True],\n",
    "    \"batch_size\" : [-1, 200, 500],                        \n",
    "    'weights_initialization' : ['he'],      \n",
    "    'regularization' : ['elastic'],\n",
    "    'n_epochs' : [2000],\n",
    "    'tolerance' : [1e-5],\n",
    "    'patience': [50]\n",
    "                  \n",
    "}\n",
    "\n",
    "grid_40_20_dre1 = GridSearch(mlp)\n",
    "grid_40_20_dre1.fit(X_train, y_train, params_grid, n_folds = 5, parallel = True)\n",
    "\n",
    "print(grid_40_20_dre1.best_model.evaluate_model(X_val, y_val))"
   ]
  },
  {
   "cell_type": "code",
   "execution_count": null,
   "metadata": {},
   "outputs": [],
   "source": [
    "mlp = MLP([40, 20], 9, 2, task = \"regression\", activation_function = \"sigm\")\n",
    "\n",
    "params_grid = {\n",
    "    \"step\": [0.2, 0.05, 0.01, 0.0075, 0.001, 0.0005, 0.0001],\n",
    "    \"momentum\": [0.5 , 0.7, 0.8],\n",
    "    'alpha_l2' : [0.01, 0.005, 0.002, 0.00075, 0.0002, 0],\n",
    "    'alpha_l1' : [0.01, 0.005, 0.002, 0.00075, 0.0002, 0],\n",
    "    'Nesterov' : [False, True],             \n",
    "    'rprop' : [False, True],\n",
    "    'adaptive_gradient' : [False, True],\n",
    "    \"batch_size\" : [-1, 200, 500],                        \n",
    "    'weights_initialization' : ['he'],      \n",
    "    'regularization' : ['elastic'],\n",
    "    'n_epochs' : [2000],\n",
    "    'tolerance' : [1e-5],\n",
    "    'patience': [50]\n",
    "                  \n",
    "}\n",
    "\n",
    "\n",
    "grid_40_20_dre2 = GridSearch(mlp)\n",
    "grid_40_20_dre2.fit(X_train, y_train, params_grid, n_folds = 5, parallel = True)\n",
    "\n",
    "print(grid_40_20_dre2.best_model.evaluate_model(X_val, y_val))"
   ]
  },
  {
   "cell_type": "code",
   "execution_count": null,
   "metadata": {},
   "outputs": [],
   "source": [
    "mlp = MLP([40, 20, 15, 10], 9, 2, task = \"regression\", activation_function = \"relu\")\n",
    "\n",
    "params_grid = {\n",
    "    \"step\": [0.015, 0.0075, 0.004, 0.002, 0.001, 0.0005, 0.0001],\n",
    "    \"momentum\": [0.5 , 0.7, 0.8],\n",
    "    'alpha_l2' : [0.01, 0.005, 0.002, 0.00075, 0.0002, 0],\n",
    "    'alpha_l1' : [0.01, 0.005, 0.002, 0.00075, 0.0002, 0],\n",
    "    'Nesterov' : [False, True],             \n",
    "    'rprop' : [False, True],\n",
    "    'adaptive_gradient' : [False, True],\n",
    "    \"batch_size\" : [-1],                        \n",
    "    'weights_initialization' : ['he'],      \n",
    "    'regularization' : ['elastic'],\n",
    "    'n_epochs' : [2000],\n",
    "    'tolerance' : [1e-5],\n",
    "    'patience': [50]\n",
    "                  \n",
    "}\n",
    "\n",
    "\n",
    "grid_40_20_15_10 = GridSearch(mlp)\n",
    "grid_40_20_15_10.fit(X_train, y_train, params_grid, n_folds = 5, parallel = True)\n",
    "\n",
    "print(grid_40_20_15_10.best_model.evaluate_model(X_val, y_val))"
   ]
  },
  {
   "cell_type": "markdown",
   "metadata": {},
   "source": [
    "## 2. Bianchy"
   ]
  },
  {
   "cell_type": "code",
   "execution_count": null,
   "metadata": {},
   "outputs": [],
   "source": [
    "topologies = [[40,20], [80,30], [60,10]]\n",
    "\n",
    "\n",
    "for topology in topologies:\n",
    "    mlp = MLP(topology, 9, 2, task = \"regression\", activation_function = 'tanh')\n",
    "    grid = GridSearch(mlp)\n",
    "\n",
    "    params_grid = {\n",
    "        \"step\" : [0.01, 0.02, 0.03],\n",
    "        \"momentum\" : [0, 0.5, 0.75],\n",
    "        \"regularization\" : [\"elastic\"],\n",
    "        \"alpha_l1\" : [0, 0.001, 0.002, 0.004],\n",
    "        \"alpha_l2\" : [0, 0.001, 0.002, 0.004],\n",
    "        \"Nesterov\" : [True, False],\n",
    "        \"adaptive_gradient\" : [False],\n",
    "        \"rprop\" : [False],\n",
    "        \"batch_size\" : [-1],\n",
    "        \"n_epochs\" : [2000],\n",
    "        \"patience\" : [50],\n",
    "        \"tolerance\" : [1e-4]\n",
    "    }\n",
    "\n",
    "    grid.fit(X_train, y_train, params_grid, n_folds = 5, parallel = True)\n",
    "    joblib.dump(grid, f\"results/GridSearch_{'-'.join([str(x) for x in topology])}\")\n",
    "    "
   ]
  },
  {
   "cell_type": "code",
   "execution_count": null,
   "metadata": {},
   "outputs": [],
   "source": [
    "for topology in topologies:\n",
    "    grid = joblib.load(f\"results/GridSearch_{'-'.join([str(x) for x in topology])}\")\n",
    "    print(topology)\n",
    "    print(\"best score\")\n",
    "    print(grid.best_score)\n",
    "    print(grid.best_scores_list)\n",
    "    print(grid.best_parameters)"
   ]
  },
  {
   "cell_type": "markdown",
   "metadata": {},
   "source": [
    "## 3. Aku"
   ]
  },
  {
   "cell_type": "code",
   "execution_count": null,
   "metadata": {},
   "outputs": [],
   "source": [
    "topologies = [[40, 20], [60, 10], [80, 30]]\n",
    "params_grid = {\n",
    "    \n",
    "}\n",
    "grid = {}\n",
    "for top in topologies:\n",
    "    mlp = MLP(top, 9, 2, task = \"regression\", activation_function = \"relu\")\n",
    "    grid[top] = GridSearch(mlp)\n",
    "    grid[top].fit(X_train, y_train, params_grid, n_folds = 5, parallel = True)\n",
    "    grid[top].best_model.evaluate_model(X_val, y_val)"
   ]
  },
  {
   "cell_type": "markdown",
   "metadata": {},
   "source": [
    "## 4. Duro"
   ]
  },
  {
   "cell_type": "code",
   "execution_count": null,
   "metadata": {},
   "outputs": [],
   "source": [
    "mlp = MLP([40, 20], 9, 2, task = \"regression\", activation_function = \"relu\")\n",
    "\n",
    "params_grid = {\n",
    "    \"step\": [0.015, 0.007, 0.004, 0.002, 0.001, 0.00048828125, 0],\n",
    "    \"momentum\": [0.5 , 0.7, 0.8],\n",
    "    'alpha_l2' : [0.015625, 0.0078125, 0.00390625, 0.001953125, 0.0009765625, 0.00048828125, 0],\n",
    "    'alpha_l1' : [0.015625, 0.0078125, 0.00390625, 0.001953125, 0.0009765625, 0.00048828125, 0],\n",
    "    'Nesterov' : [False, True],             \n",
    "    'rprp' : [False],\n",
    "    'adaptive_gradient' : [False],\n",
    "    \"batch_size\" : [-1],                        \n",
    "    'weights_initialization' : ['he'],      \n",
    "    'regularization' : ['elastic'],\n",
    "    'n_epochs' : [2000],\n",
    "    'tolerance' : [1e-5],\n",
    "    'patience': [50]\n",
    "                  \n",
    "}\n",
    "\n",
    "grid_40_20 = GridSearch(mlp)\n",
    "grid_40_20.fit(X_train, y_train, params_grid, n_folds = 5, parallel = True)\n",
    "\n",
    "print(grid_40_20.best_model.evaluate_model(X_val, y_val))\n"
   ]
  },
  {
   "cell_type": "code",
   "execution_count": null,
   "metadata": {},
   "outputs": [],
   "source": [
    "mlp = MLP([80, 30], 9, 2, task = \"regression\", activation_function = \"relu\")\n",
    "\n",
    "params_grid = {\n",
    "    \"step\": [0.03, 0.015, 0.008, 0.002],\n",
    "    \"momentum\": [0.75, 0.5, 0],\n",
    "    'alpha_l2' : [0.01, 0.005, 0.002, 0.001, 0],\n",
    "    'alpha_l1' : [0.01, 0.005, 0.002, 0.001, 0],\n",
    "    'Nesterov' : [False, True],\n",
    "                  \n",
    "    'rprop' : [False],\n",
    "    'adaptive_gradient' : [False],\n",
    "    \"batch_size\" : [-1],                        \n",
    "    'weights_initialization' : ['he'],      \n",
    "    'regularization' : ['elastic'],\n",
    "    'n_epochs' : [2000],\n",
    "    'tolerance' : [1e-5],\n",
    "    'patience': [50]\n",
    "                  \n",
    "}\n",
    "\n",
    "grid_80_30_duro = GridSearch(mlp)\n",
    "grid_80_30_duro.fit(X_train, y_train, params_grid, n_folds = 5, parallel = True)\n",
    "\n",
    "print(grid_80_30_duro.best_model.evaluate_model(X_val, y_val))"
   ]
  },
  {
   "cell_type": "code",
   "execution_count": null,
   "metadata": {},
   "outputs": [],
   "source": [
    "mlp = MLP([60, 10], 9, 2, task = \"regression\", activation_function = \"relu\")\n",
    "\n",
    "params_grid = {\n",
    "    \"step\": [0.03, 0.015, 0.008, 0.002],\n",
    "    \"momentum\": [0.75, 0.5, 0],\n",
    "    'alpha_l2' : [0.01, 0.005, 0.002, 0.001, 0],\n",
    "    'alpha_l1' : [0.01, 0.005, 0.002, 0.001, 0],\n",
    "    'Nesterov' : [False, True],\n",
    "                  \n",
    "    'rprop' : [False],\n",
    "    'adaptive_gradient' : [False],\n",
    "    \"batch_size\" : [-1],                        \n",
    "    'weights_initialization' : ['he'],      \n",
    "    'regularization' : ['elastic'],\n",
    "    'n_epochs' : [2000],\n",
    "    'tolerance' : [1e-5],\n",
    "    'patience': [50]\n",
    "                  \n",
    "}\n",
    "\n",
    "grid_60_10_duro = GridSearch(mlp)\n",
    "grid_60_10_duro.fit(X_train, y_train, params_grid, n_folds = 5, parallel = True)\n",
    "\n",
    "print(grid_60_10_duro.best_model.evaluate_model(X_val, y_val))"
   ]
  }
 ],
 "metadata": {
  "kernelspec": {
   "display_name": "MLenv",
   "language": "python",
   "name": "python3"
  },
  "language_info": {
   "codemirror_mode": {
    "name": "ipython",
    "version": 3
   },
   "file_extension": ".py",
   "mimetype": "text/x-python",
   "name": "python",
   "nbconvert_exporter": "python",
   "pygments_lexer": "ipython3",
   "version": "3.10.7"
  },
  "vscode": {
   "interpreter": {
    "hash": "7e4d3e6d9ec71454dd96947c265e16259ccd7307b530c6fe59ae7cd9ee2d1be6"
   }
  }
 },
 "nbformat": 4,
 "nbformat_minor": 2
}
