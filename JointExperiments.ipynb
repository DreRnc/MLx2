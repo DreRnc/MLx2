{
 "cells": [
  {
   "cell_type": "markdown",
   "metadata": {},
   "source": [
    "# Experiment Notebook Gridsearch"
   ]
  },
  {
   "cell_type": "code",
   "execution_count": 7,
   "metadata": {},
   "outputs": [],
   "source": [
    "import numpy as np\n",
    "import math\n",
    "import pandas as pd\n",
    "import joblib\n",
    "import matplotlib.pyplot as plt\n",
    "import os\n",
    "from data.load_data import load_monk, load_MLCup\n",
    "from src.MetricFunctions import get_metric_instance\n",
    "from src.MLP import MLP\n",
    "from src.GridSearch import GridSearch, RandomGridsearch\n",
    "from sklearn.model_selection import train_test_split\n",
    "from sklearn.preprocessing import StandardScaler\n",
    "from src.EarlyStopping import EarlyStopping\n",
    "from tqdm import tqdm"
   ]
  },
  {
   "cell_type": "code",
   "execution_count": 8,
   "metadata": {},
   "outputs": [],
   "source": [
    "path = os.getcwd()\n",
    "file_train = '/data/ML-CUP22-TR.csv'\n",
    "file_test = '/data/ML-CUP22-TS.csv'\n",
    "\n",
    "labels_train = ['x1','x2','x3','x4','x5','x6','x7','x8','x9','y1','y2']\n",
    "labels_test = ['x1','x2','x3','x4','x5','x6','x7','x8','x9']\n",
    "\n",
    "X_train, y_train = load_MLCup(path + file_train, labels_train)\n",
    "X_train, X_val, y_train, y_val = train_test_split(X_train, y_train, test_size = 0.1, random_state = 42)\n",
    "\n",
    "X_test = load_MLCup(path + file_test, labels_test)"
   ]
  },
  {
   "cell_type": "markdown",
   "metadata": {},
   "source": [
    "## 1. Dre"
   ]
  },
  {
   "cell_type": "code",
   "execution_count": null,
   "metadata": {},
   "outputs": [],
   "source": []
  },
  {
   "cell_type": "markdown",
   "metadata": {},
   "source": [
    "## 2. Bianchy"
   ]
  },
  {
   "cell_type": "code",
   "execution_count": 9,
   "metadata": {},
   "outputs": [
    {
     "name": "stdout",
     "output_type": "stream",
     "text": [
      "Grid search of combinations: 2\n",
      "Parallelisation activated\n",
      "Early stopped training on epoch 1799\n",
      "Best epoch was 1750\n",
      "Early stopped training on epoch 531\n",
      "Best epoch was 482\n",
      "-----------------------------------\n",
      "Combination 1/2\n",
      "Parameters: {'step': 0.01, 'momentum': 0.75, 'regularization': 'elastic', 'alpha_l1': 0, 'alpha_l2': 0, 'Nesterov': False, 'adaptive_gradient': False, 'rprop': False, 'batch_size': -1, 'n_epochs': 2000, 'patience': 50, 'tolerance': 0.0001}\n",
      "Validation score: 1.4531501444132437\n",
      "Early stopped training on epoch 1865\n",
      "Best epoch was 1816\n",
      "-----------------------------------\n",
      "Combination 1/2\n",
      "Parameters: {'step': 0.01, 'momentum': 0.75, 'regularization': 'elastic', 'alpha_l1': 0, 'alpha_l2': 0, 'Nesterov': True, 'adaptive_gradient': False, 'rprop': False, 'batch_size': -1, 'n_epochs': 2000, 'patience': 50, 'tolerance': 0.0001}\n",
      "Validation score: 1.4375262071733697\n",
      "\n",
      "\n",
      "Best parameters: {'step': 0.01, 'momentum': 0.75, 'regularization': 'elastic', 'alpha_l1': 0, 'alpha_l2': 0, 'Nesterov': True, 'adaptive_gradient': False, 'rprop': False, 'batch_size': -1, 'n_epochs': 2000, 'patience': 50, 'tolerance': 0.0001}\n",
      "Best score: 1.4375262071733697\n",
      "Grid search of combinations: 2\n",
      "Parallelisation activated\n"
     ]
    },
    {
     "name": "stderr",
     "output_type": "stream",
     "text": [
      "/Users/biancaziliotto/opt/anaconda3/lib/python3.9/site-packages/numpy/core/_asarray.py:136: VisibleDeprecationWarning: Creating an ndarray from ragged nested sequences (which is a list-or-tuple of lists-or-tuples-or ndarrays with different lengths or shapes) is deprecated. If you meant to do this, you must specify 'dtype=object' when creating the ndarray\n",
      "  return array(a, dtype, copy=False, order=order, subok=True)\n"
     ]
    },
    {
     "name": "stdout",
     "output_type": "stream",
     "text": [
      "Early stopped training on epoch 423\n",
      "Best epoch was 374\n",
      "-----------------------------------\n",
      "Combination 1/2\n",
      "Parameters: {'step': 0.01, 'momentum': 0.75, 'regularization': 'elastic', 'alpha_l1': 0, 'alpha_l2': 0, 'Nesterov': True, 'adaptive_gradient': False, 'rprop': False, 'batch_size': -1, 'n_epochs': 2000, 'patience': 50, 'tolerance': 0.0001}\n",
      "Validation score: 1.4602009183532285\n",
      "Early stopped training on epoch 1339\n",
      "Best epoch was 1290\n",
      "-----------------------------------\n",
      "Combination 1/2\n",
      "Parameters: {'step': 0.01, 'momentum': 0.75, 'regularization': 'elastic', 'alpha_l1': 0, 'alpha_l2': 0, 'Nesterov': False, 'adaptive_gradient': False, 'rprop': False, 'batch_size': -1, 'n_epochs': 2000, 'patience': 50, 'tolerance': 0.0001}\n",
      "Validation score: 1.4469673362833153\n",
      "\n",
      "\n",
      "Best parameters: {'step': 0.01, 'momentum': 0.75, 'regularization': 'elastic', 'alpha_l1': 0, 'alpha_l2': 0, 'Nesterov': False, 'adaptive_gradient': False, 'rprop': False, 'batch_size': -1, 'n_epochs': 2000, 'patience': 50, 'tolerance': 0.0001}\n",
      "Best score: 1.4469673362833153\n",
      "Grid search of combinations: 2\n",
      "Parallelisation activated\n",
      "Early stopped training on epoch 1648\n",
      "Best epoch was 1599\n",
      "Early stopped training on epoch 1485\n",
      "Best epoch was 1436\n",
      "-----------------------------------\n",
      "Combination 1/2\n",
      "Parameters: {'step': 0.01, 'momentum': 0.75, 'regularization': 'elastic', 'alpha_l1': 0, 'alpha_l2': 0, 'Nesterov': False, 'adaptive_gradient': False, 'rprop': False, 'batch_size': -1, 'n_epochs': 2000, 'patience': 50, 'tolerance': 0.0001}\n",
      "Validation score: 1.4497943577461219\n",
      "Early stopped training on epoch 1479\n",
      "Best epoch was 1430\n",
      "-----------------------------------\n",
      "Combination 1/2\n",
      "Parameters: {'step': 0.01, 'momentum': 0.75, 'regularization': 'elastic', 'alpha_l1': 0, 'alpha_l2': 0, 'Nesterov': True, 'adaptive_gradient': False, 'rprop': False, 'batch_size': -1, 'n_epochs': 2000, 'patience': 50, 'tolerance': 0.0001}\n",
      "Validation score: 1.4590535009771852\n",
      "\n",
      "\n",
      "Best parameters: {'step': 0.01, 'momentum': 0.75, 'regularization': 'elastic', 'alpha_l1': 0, 'alpha_l2': 0, 'Nesterov': False, 'adaptive_gradient': False, 'rprop': False, 'batch_size': -1, 'n_epochs': 2000, 'patience': 50, 'tolerance': 0.0001}\n",
      "Best score: 1.4497943577461219\n"
     ]
    }
   ],
   "source": [
    "params_grid = {\n",
    "        \"step\" : [0.01, 0.015, 0.02, 0.03],\n",
    "        \"momentum\" : [0, 0.5, 0.75],\n",
    "        \"regularization\" : [\"elastic\"],\n",
    "        \"alpha_l1\" : [0, 0.001, 0.002, 0.004, 0.008],\n",
    "        \"alpha_l2\" : [0, 0.001, 0.002, 0.004, 0.008],\n",
    "        \"Nesterov\" : [True, False],\n",
    "        \"adaptive_gradient\" : [False],\n",
    "        \"rprop\" : [False],\n",
    "        \"batch_size\" : [-1],\n",
    "        \"n_epochs\" : [2000],\n",
    "        \"patience\" : [50],\n",
    "        \"tolerance\" : [1e-4]\n",
    "    }\n",
    "\n",
    "topologies = [[40,20], [80,30], [60,10]]\n",
    "\n",
    "for topology in topologies:\n",
    "    mlp = MLP(topology, 9, 2, task = \"regression\", activation_function = 'tanh')\n",
    "    grid = GridSearch(mlp)\n",
    "    \n",
    "    params_grid = {\n",
    "        \"step\" : [0.01],\n",
    "        \"momentum\" : [0.75],\n",
    "        \"regularization\" : [\"elastic\"],\n",
    "        \"alpha_l1\" : [0],\n",
    "        \"alpha_l2\" : [0],\n",
    "        \"Nesterov\" : [True, False],\n",
    "        \"adaptive_gradient\" : [False],\n",
    "        \"rprop\" : [False],\n",
    "        \"batch_size\" : [-1],\n",
    "        \"n_epochs\" : [2000],\n",
    "        \"patience\" : [50],\n",
    "        \"tolerance\" : [1e-4]\n",
    "    }\n",
    "\n",
    "    grid.fit(X_train, y_train, params_grid, n_folds = 5, parallel = True)\n",
    "    joblib.dump(grid, f\"results/GridSearch_{'-'.join([str(x) for x in topology])}\")\n",
    "    "
   ]
  },
  {
   "cell_type": "code",
   "execution_count": 11,
   "metadata": {},
   "outputs": [
    {
     "name": "stdout",
     "output_type": "stream",
     "text": [
      "[40, 20]\n",
      "best score\n",
      "1.4375262071733697\n",
      "{'step': 0.01, 'momentum': 0.75, 'regularization': 'elastic', 'alpha_l1': 0, 'alpha_l2': 0, 'Nesterov': True, 'adaptive_gradient': False, 'rprop': False, 'batch_size': -1, 'n_epochs': 2000, 'patience': 50, 'tolerance': 0.0001}\n",
      "[80, 30]\n",
      "best score\n",
      "1.4469673362833153\n",
      "{'step': 0.01, 'momentum': 0.75, 'regularization': 'elastic', 'alpha_l1': 0, 'alpha_l2': 0, 'Nesterov': False, 'adaptive_gradient': False, 'rprop': False, 'batch_size': -1, 'n_epochs': 2000, 'patience': 50, 'tolerance': 0.0001}\n",
      "[60, 10]\n",
      "best score\n",
      "1.4497943577461219\n",
      "{'step': 0.01, 'momentum': 0.75, 'regularization': 'elastic', 'alpha_l1': 0, 'alpha_l2': 0, 'Nesterov': False, 'adaptive_gradient': False, 'rprop': False, 'batch_size': -1, 'n_epochs': 2000, 'patience': 50, 'tolerance': 0.0001}\n"
     ]
    }
   ],
   "source": [
    "for topology in topologies:\n",
    "    grid = joblib.load(f\"results/GridSearch_{'-'.join([str(x) for x in topology])}\")\n",
    "    print(topology)\n",
    "    print(\"best score\")\n",
    "    print(grid.best_score)\n",
    "    print(grid.best_parameters)"
   ]
  },
  {
   "cell_type": "markdown",
   "metadata": {},
   "source": [
    "## 3. Aku"
   ]
  },
  {
   "cell_type": "code",
   "execution_count": null,
   "metadata": {},
   "outputs": [],
   "source": []
  },
  {
   "cell_type": "markdown",
   "metadata": {},
   "source": [
    "## 4. Duro"
   ]
  },
  {
   "cell_type": "code",
   "execution_count": null,
   "metadata": {},
   "outputs": [],
   "source": [
    "elle2 = [1/(2**j) for j in range(5, 10)]\n",
    "elle2.append(0)\n",
    "elle2"
   ]
  },
  {
   "cell_type": "code",
   "execution_count": null,
   "metadata": {},
   "outputs": [],
   "source": [
    "mlp = MLP([40, 20], 9, 2, task = \"regression\", activation_function = \"relu\")\n",
    "\n",
    "params_grid = {\n",
    "    \"step\": [0.015, 0.007, 0.004, 0.002, 0.001, 0.00048828125, 0],\n",
    "    \"momentum\": [0.5 , 0.7, 0.8],\n",
    "    'alpha_l2' : [0.015625, 0.0078125, 0.00390625, 0.001953125, 0.0009765625, 0.00048828125, 0],\n",
    "    'alpha_l1' : [0.015625, 0.0078125, 0.00390625, 0.001953125, 0.0009765625, 0.00048828125, 0],\n",
    "    'Nesterov' : [False, True],\n",
    "                  \n",
    "    'rprp' : [False],\n",
    "    'adaptive_gradient' : [False],\n",
    "    \"batch_size\" : [-1],                        \n",
    "    'weights_initialization' : ['he'],      \n",
    "    'regularization' : ['elastic'],\n",
    "    'n_epochs' : [2000],\n",
    "    'tolerance' : [1e-5],\n",
    "    'patience': [50]\n",
    "                  \n",
    "}\n",
    "\n",
    "grid_40_20 = GridSearch(mlp)\n",
    "grid_40_20.fit(X_train, y_train, params_grid, n_folds = 5, parallel = True)\n",
    "\n",
    "print(grid_40_20.best_model.evaluate_model(X_val, y_val))\n"
   ]
  },
  {
   "cell_type": "code",
   "execution_count": null,
   "metadata": {},
   "outputs": [],
   "source": [
    "mlp = MLP([80, 30], 9, 2, task = \"regression\", activation_function = \"relu\")\n",
    "\n",
    "params_grid = {\n",
    "    \"step\": [0.005],\n",
    "    \"momentum\": [ 0.8],\n",
    "    \"batch_size\": [len(X_train)],\n",
    "    'alpha_l2' : elle2,\n",
    "    'alpha_l1' : elle2,\n",
    "    'Nesterov' : [False],\n",
    "\n",
    "                          \n",
    "    'weights_initialization' : ['he'],      \n",
    "    'regularization' : ['elastic'],\n",
    "    'n_epochs' : [3000],\n",
    "    'tolerance' : [0.000001],\n",
    "    'patience': [50]\n",
    "                  \n",
    "}\n",
    "\n",
    "grid_80_30 = GridSearch(mlp)\n",
    "grid_80_30.fit(X_train, y_train, params_grid, n_folds = 5, parallel = True)\n",
    "\n",
    "print(grid_80_30.best_model.evaluate_model(X_val, y_val))"
   ]
  },
  {
   "cell_type": "code",
   "execution_count": null,
   "metadata": {},
   "outputs": [],
   "source": [
    "mlp = MLP([60, 10], 9, 2, task = \"regression\", activation_function = \"relu\")\n",
    "\n",
    "params_grid = {\n",
    "    \"step\": [0.08, 0.004, 0.001],\n",
    "    \"momentum\": [0.5 , 0.7, 0.8],\n",
    "    \"batch_size\": [len(X_train)],\n",
    "    'alpha_l2' : [0.02, 0.008, 0.001],\n",
    "    'alpha_l1' : [0.02, 0.008, 0.001],\n",
    "    'Nesterov' : [False, True],\n",
    "\n",
    "                          \n",
    "    'weights_initialization' : ['he'],      \n",
    "    'regularization' : ['l2'],\n",
    "    'n_epochs' : [3000],\n",
    "    'tolerance' : [0.000001],\n",
    "    'patience': [50]\n",
    "                  \n",
    "}\n",
    "\n",
    "grid_60_10 = GridSearch(mlp)\n",
    "grid_60_10.fit(X_train, y_train, params_grid, n_folds = 5, parallel = True)\n",
    "\n",
    "print(grid_60_10.best_model.evaluate_model(X_val, y_val))"
   ]
  }
 ],
 "metadata": {
  "kernelspec": {
   "display_name": "Python 3 (ipykernel)",
   "language": "python",
   "name": "python3"
  },
  "language_info": {
   "codemirror_mode": {
    "name": "ipython",
    "version": 3
   },
   "file_extension": ".py",
   "mimetype": "text/x-python",
   "name": "python",
   "nbconvert_exporter": "python",
   "pygments_lexer": "ipython3",
   "version": "3.9.13"
  },
  "vscode": {
   "interpreter": {
    "hash": "9a84d6694d99063d2bb0286ebc4a83b7a5fbbe8812bdd85c9b7227af9c494503"
   }
  }
 },
 "nbformat": 4,
 "nbformat_minor": 2
}
