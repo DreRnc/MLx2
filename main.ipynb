{
 "cells": [
  {
   "cell_type": "code",
   "execution_count": 1,
   "metadata": {},
   "outputs": [
    {
     "data": {
      "text/plain": [
       "'/Users/biancaziliotto/Desktop/GitRepo/MLx2'"
      ]
     },
     "execution_count": 1,
     "metadata": {},
     "output_type": "execute_result"
    }
   ],
   "source": [
    "os.getcwd() "
   ]
  },
  {
   "cell_type": "code",
   "execution_count": 2,
   "metadata": {},
   "outputs": [],
   "source": [
    "os.chdir('src')"
   ]
  },
  {
   "cell_type": "code",
   "execution_count": 3,
   "metadata": {},
   "outputs": [],
   "source": [
    "from MLP import MLP "
   ]
  },
  {
   "cell_type": "code",
   "execution_count": 4,
   "metadata": {},
   "outputs": [],
   "source": [
    "mlp = MLP([4], 2, 1, \"Sigm\")\n"
   ]
  },
  {
   "cell_type": "code",
   "execution_count": 5,
   "metadata": {},
   "outputs": [
    {
     "data": {
      "text/plain": [
       "1"
      ]
     },
     "execution_count": 5,
     "metadata": {},
     "output_type": "execute_result"
    }
   ],
   "source": [
    "mlp.layers\n",
    "mlp.input_size\n",
    "mlp.output_size"
   ]
  },
  {
   "cell_type": "code",
   "execution_count": 7,
   "metadata": {},
   "outputs": [
    {
     "name": "stdout",
     "output_type": "stream",
     "text": [
      "[[1. 1.]\n",
      " [1. 0.]\n",
      " [0. 0.]\n",
      " [0. 1.]]\n",
      "[[0.]\n",
      " [1.]\n",
      " [0.]\n",
      " [1.]]\n",
      "<class 'numpy.ndarray'>\n"
     ]
    },
    {
     "ename": "TypeError",
     "evalue": "descriptor 'shuffle' for 'numpy.random._generator.Generator' objects doesn't apply to a 'numpy.ndarray' object",
     "output_type": "error",
     "traceback": [
      "\u001b[0;31m---------------------------------------------------------------------------\u001b[0m",
      "\u001b[0;31mTypeError\u001b[0m                                 Traceback (most recent call last)",
      "Cell \u001b[0;32mIn[7], line 14\u001b[0m\n\u001b[1;32m     12\u001b[0m z \u001b[39m=\u001b[39m np\u001b[39m.\u001b[39mconcatenate((X,y_true), axis \u001b[39m=\u001b[39m \u001b[39m1\u001b[39m)\n\u001b[1;32m     13\u001b[0m \u001b[39mprint\u001b[39m(\u001b[39mtype\u001b[39m(z))\n\u001b[0;32m---> 14\u001b[0m np\u001b[39m.\u001b[39;49mrandom\u001b[39m.\u001b[39;49mGenerator\u001b[39m.\u001b[39;49mshuffle(z)\n\u001b[1;32m     15\u001b[0m x,w \u001b[39m=\u001b[39m np\u001b[39m.\u001b[39marray_split(z, \u001b[39m2\u001b[39m, axis \u001b[39m=\u001b[39m \u001b[39m1\u001b[39m)\n\u001b[1;32m     16\u001b[0m \u001b[39mprint\u001b[39m(z,x,w)\n",
      "\u001b[0;31mTypeError\u001b[0m: descriptor 'shuffle' for 'numpy.random._generator.Generator' objects doesn't apply to a 'numpy.ndarray' object"
     ]
    }
   ],
   "source": [
    "import numpy as np\n",
    "X = np.ndarray((4,2))\n",
    "X[0, :]= [1, 1]\n",
    "X[1, :]= [1, 0]\n",
    "X[2, :]= [0, 0]\n",
    "X[3, :]= [0, 1]\n",
    "y_true  = np.ndarray((4,1))\n",
    "y_true[:,0] = [0, 1, 0, 1]\n",
    "\n",
    "print(X)\n",
    "print(y_true)\n",
    "z = np.concatenate((X,y_true), axis = 1)\n",
    "print(type(z))\n",
    "np.random.shuffle(z)\n",
    "x,w = np.array_split(z, 2, axis = 1)\n",
    "print(z,x,w)\n"
   ]
  },
  {
   "cell_type": "code",
   "execution_count": null,
   "metadata": {},
   "outputs": [
    {
     "ename": "TypeError",
     "evalue": "object of type 'NoneType' has no len()",
     "output_type": "error",
     "traceback": [
      "\u001b[0;31m---------------------------------------------------------------------------\u001b[0m",
      "\u001b[0;31mAttributeError\u001b[0m                            Traceback (most recent call last)",
      "File \u001b[0;32m/Library/Frameworks/Python.framework/Versions/3.10/lib/python3.10/site-packages/numpy/lib/shape_base.py:767\u001b[0m, in \u001b[0;36marray_split\u001b[0;34m(ary, indices_or_sections, axis)\u001b[0m\n\u001b[1;32m    766\u001b[0m \u001b[39mtry\u001b[39;00m:\n\u001b[0;32m--> 767\u001b[0m     Ntotal \u001b[39m=\u001b[39m ary\u001b[39m.\u001b[39;49mshape[axis]\n\u001b[1;32m    768\u001b[0m \u001b[39mexcept\u001b[39;00m \u001b[39mAttributeError\u001b[39;00m:\n",
      "\u001b[0;31mAttributeError\u001b[0m: 'NoneType' object has no attribute 'shape'",
      "\nDuring handling of the above exception, another exception occurred:\n",
      "\u001b[0;31mTypeError\u001b[0m                                 Traceback (most recent call last)",
      "Cell \u001b[0;32mIn[7], line 1\u001b[0m\n\u001b[0;32m----> 1\u001b[0m mlp\u001b[39m.\u001b[39;49mfit(X, y_true, n_epochs \u001b[39m=\u001b[39;49m \u001b[39m15\u001b[39;49m, batch_size\u001b[39m=\u001b[39;49m\u001b[39m2\u001b[39;49m, initialization_str \u001b[39m=\u001b[39;49m \u001b[39m\"\u001b[39;49m\u001b[39mscaled\u001b[39;49m\u001b[39m\"\u001b[39;49m, scale \u001b[39m=\u001b[39;49m \u001b[39m0.1\u001b[39;49m, error_function_str\u001b[39m=\u001b[39;49m \u001b[39m\"\u001b[39;49m\u001b[39mMSE\u001b[39;49m\u001b[39m\"\u001b[39;49m, optimizer_str \u001b[39m=\u001b[39;49m \u001b[39m\"\u001b[39;49m\u001b[39mgradient_descent\u001b[39;49m\u001b[39m\"\u001b[39;49m, regularization_function_str\u001b[39m=\u001b[39;49m \u001b[39m\"\u001b[39;49m\u001b[39mL1\u001b[39;49m\u001b[39m\"\u001b[39;49m)\n",
      "File \u001b[0;32m~/Desktop/GitRepo/MLx2/src/MLP.py:86\u001b[0m, in \u001b[0;36mMLP.fit\u001b[0;34m(self, X, y_true, n_epochs, batch_size, initialization_str, scale, error_function_str, optimizer_str, regularization_function_str)\u001b[0m\n\u001b[1;32m     81\u001b[0m     \u001b[39mraise\u001b[39;00m \u001b[39mException\u001b[39;00m(\u001b[39m\"\u001b[39m\u001b[39mDimension Error!\u001b[39m\u001b[39m\"\u001b[39m)\n\u001b[1;32m     84\u001b[0m training_set \u001b[39m=\u001b[39m np\u001b[39m.\u001b[39mrandom\u001b[39m.\u001b[39mshuffle(np\u001b[39m.\u001b[39mconcatenate((X, y_true), axis \u001b[39m=\u001b[39m \u001b[39m1\u001b[39m))\n\u001b[0;32m---> 86\u001b[0m X, y_true \u001b[39m=\u001b[39m np\u001b[39m.\u001b[39;49marray_split(training_set, input_size, axis\u001b[39m=\u001b[39;49m\u001b[39m1\u001b[39;49m)\n\u001b[1;32m     88\u001b[0m n_batches \u001b[39m=\u001b[39m math\u001b[39m.\u001b[39mceil(n_samples\u001b[39m/\u001b[39mbatch_size)\n\u001b[1;32m     90\u001b[0m \u001b[39mfor\u001b[39;00m layer \u001b[39min\u001b[39;00m \u001b[39mself\u001b[39m\u001b[39m.\u001b[39mlayers:\n",
      "File \u001b[0;32m<__array_function__ internals>:180\u001b[0m, in \u001b[0;36marray_split\u001b[0;34m(*args, **kwargs)\u001b[0m\n",
      "File \u001b[0;32m/Library/Frameworks/Python.framework/Versions/3.10/lib/python3.10/site-packages/numpy/lib/shape_base.py:769\u001b[0m, in \u001b[0;36marray_split\u001b[0;34m(ary, indices_or_sections, axis)\u001b[0m\n\u001b[1;32m    767\u001b[0m     Ntotal \u001b[39m=\u001b[39m ary\u001b[39m.\u001b[39mshape[axis]\n\u001b[1;32m    768\u001b[0m \u001b[39mexcept\u001b[39;00m \u001b[39mAttributeError\u001b[39;00m:\n\u001b[0;32m--> 769\u001b[0m     Ntotal \u001b[39m=\u001b[39m \u001b[39mlen\u001b[39;49m(ary)\n\u001b[1;32m    770\u001b[0m \u001b[39mtry\u001b[39;00m:\n\u001b[1;32m    771\u001b[0m     \u001b[39m# handle array case.\u001b[39;00m\n\u001b[1;32m    772\u001b[0m     Nsections \u001b[39m=\u001b[39m \u001b[39mlen\u001b[39m(indices_or_sections) \u001b[39m+\u001b[39m \u001b[39m1\u001b[39m\n",
      "\u001b[0;31mTypeError\u001b[0m: object of type 'NoneType' has no len()"
     ]
    }
   ],
   "source": [
    "mlp.fit(X, y_true, n_epochs = 15, batch_size=2, initialization_str = \"scaled\", scale = 0.1, error_function_str= \"MSE\", optimizer_str = \"gradient_descent\", regularization_function_str= \"L1\")"
   ]
  },
  {
   "cell_type": "markdown",
   "metadata": {},
   "source": []
  },
  {
   "cell_type": "code",
   "execution_count": null,
   "metadata": {},
   "outputs": [],
   "source": []
  },
  {
   "cell_type": "code",
   "execution_count": null,
   "metadata": {},
   "outputs": [],
   "source": []
  },
  {
   "cell_type": "code",
   "execution_count": null,
   "metadata": {},
   "outputs": [],
   "source": []
  }
 ],
 "metadata": {
  "kernelspec": {
   "display_name": "Python 3",
   "language": "python",
   "name": "python3"
  },
  "language_info": {
   "codemirror_mode": {
    "name": "ipython",
    "version": 3
   },
   "file_extension": ".py",
   "mimetype": "text/x-python",
   "name": "python",
   "nbconvert_exporter": "python",
   "pygments_lexer": "ipython3",
   "version": "3.10.8"
  },
  "orig_nbformat": 4,
  "vscode": {
   "interpreter": {
    "hash": "aee8b7b246df8f9039afb4144a1f6fd8d2ca17a180786b69acc140d282b71a49"
   }
  }
 },
 "nbformat": 4,
 "nbformat_minor": 2
}
