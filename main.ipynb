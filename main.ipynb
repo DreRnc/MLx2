{
 "cells": [
  {
   "cell_type": "code",
   "execution_count": 1,
   "metadata": {},
   "outputs": [
    {
     "name": "stdout",
     "output_type": "stream",
     "text": [
      "3.10.8 (v3.10.8:aaaf517424, Oct 11 2022, 10:14:40) [Clang 13.0.0 (clang-1300.0.29.30)]\n"
     ]
    }
   ],
   "source": [
    "import sys;print(sys.version)"
   ]
  },
  {
   "cell_type": "code",
   "execution_count": 1,
   "metadata": {},
   "outputs": [
    {
     "data": {
      "text/plain": [
       "'/Users/biancaziliotto/Desktop/GitRepo/MLx2'"
      ]
     },
     "execution_count": 1,
     "metadata": {},
     "output_type": "execute_result"
    }
   ],
   "source": [
    "os.getcwd() "
   ]
  },
  {
   "cell_type": "code",
   "execution_count": 1,
   "metadata": {},
   "outputs": [],
   "source": [
    "os.chdir('src')"
   ]
  },
  {
   "cell_type": "code",
   "execution_count": 2,
   "metadata": {},
   "outputs": [],
   "source": [
    "from MLP import MLP "
   ]
  },
  {
   "cell_type": "code",
   "execution_count": 3,
   "metadata": {},
   "outputs": [],
   "source": [
    "mlp = MLP(0, [], 3, 2)"
   ]
  },
  {
   "cell_type": "code",
   "execution_count": 11,
   "metadata": {},
   "outputs": [
    {
     "data": {
      "text/plain": [
       "[<Layers.Fully_Connected_Layer at 0x10c642470>]"
      ]
     },
     "execution_count": 11,
     "metadata": {},
     "output_type": "execute_result"
    }
   ],
   "source": [
    "mlp.layers"
   ]
  },
  {
   "cell_type": "code",
   "execution_count": 12,
   "metadata": {},
   "outputs": [
    {
     "ename": "TypeError",
     "evalue": "Layer.__init__() takes 1 positional argument but 4 were given",
     "output_type": "error",
     "traceback": [
      "\u001b[0;31m---------------------------------------------------------------------------\u001b[0m",
      "\u001b[0;31mTypeError\u001b[0m                                 Traceback (most recent call last)",
      "Cell \u001b[0;32mIn[12], line 1\u001b[0m\n\u001b[0;32m----> 1\u001b[0m mlp \u001b[39m=\u001b[39m MLP(\u001b[39m1\u001b[39;49m, [\u001b[39m1\u001b[39;49m], \u001b[39m3\u001b[39;49m, \u001b[39m2\u001b[39;49m)\n",
      "File \u001b[0;32m~/Desktop/GitRepo/MLx2/src/MLP.py:45\u001b[0m, in \u001b[0;36mMLP.__init__\u001b[0;34m(self, n_hidden_layers, hidden_layer_units, input_size, output_size, activation_function)\u001b[0m\n\u001b[1;32m     42\u001b[0m layer_units \u001b[39m=\u001b[39m [input_size, hidden_layer_units, output_size]\n\u001b[1;32m     44\u001b[0m \u001b[39mfor\u001b[39;00m l \u001b[39min\u001b[39;00m \u001b[39mrange\u001b[39m(n_hidden_layers):\n\u001b[0;32m---> 45\u001b[0m     new_layer \u001b[39m=\u001b[39m Dense(layer_units[l], layer_units[l\u001b[39m-\u001b[39;49m\u001b[39m1\u001b[39;49m], activation_function)\n\u001b[1;32m     46\u001b[0m     \u001b[39mself\u001b[39m\u001b[39m.\u001b[39madd_layer(new_layer)\n\u001b[1;32m     48\u001b[0m output_layer \u001b[39m=\u001b[39m Fully_Connected_Layer(output_size, input_size)\n",
      "\u001b[0;31mTypeError\u001b[0m: Layer.__init__() takes 1 positional argument but 4 were given"
     ]
    }
   ],
   "source": [
    "mlp = MLP(1, [1], 3, 2)"
   ]
  },
  {
   "cell_type": "code",
   "execution_count": 5,
   "metadata": {},
   "outputs": [
    {
     "name": "stdout",
     "output_type": "stream",
     "text": [
      "[[2.31584178e+077 2.68679196e+154 2.96439388e-323]\n",
      " [0.00000000e+000 0.00000000e+000 1.16095484e-028]\n",
      " [2.17236968e-153 8.96826103e+130 3.01478101e-110]\n",
      " [6.48224637e+170 3.67145870e+228 8.51909448e-309]]\n"
     ]
    },
    {
     "ename": "AttributeError",
     "evalue": "'MLP' object has no attribute 'batch_size'",
     "output_type": "error",
     "traceback": [
      "\u001b[0;31m---------------------------------------------------------------------------\u001b[0m",
      "\u001b[0;31mAttributeError\u001b[0m                            Traceback (most recent call last)",
      "Cell \u001b[0;32mIn[5], line 5\u001b[0m\n\u001b[1;32m      3\u001b[0m \u001b[39mprint\u001b[39m(X)\n\u001b[1;32m      4\u001b[0m mlp\u001b[39m.\u001b[39mpredict(X)\n\u001b[0;32m----> 5\u001b[0m mlp\u001b[39m.\u001b[39;49mfit(X, X[:,\u001b[39m1\u001b[39;49m:], batch_size\u001b[39m=\u001b[39;49m\u001b[39m2\u001b[39;49m, error_function_str\u001b[39m=\u001b[39;49m\u001b[39m\"\u001b[39;49m\u001b[39mMSE\u001b[39;49m\u001b[39m\"\u001b[39;49m)\n",
      "File \u001b[0;32m~/Desktop/GitRepo/MLx2/src/MLP.py:115\u001b[0m, in \u001b[0;36mMLP.fit\u001b[0;34m(self, X, y_true, batch_size, error_function_str, regularization_function_str)\u001b[0m\n\u001b[1;32m     99\u001b[0m \u001b[39m\"\"\"\u001b[39;00m\n\u001b[1;32m    100\u001b[0m \n\u001b[1;32m    101\u001b[0m \u001b[39mFits the weigths and biases of the MLP \u001b[39;00m\n\u001b[0;32m   (...)\u001b[0m\n\u001b[1;32m    111\u001b[0m \n\u001b[1;32m    112\u001b[0m \u001b[39m\"\"\"\u001b[39;00m\n\u001b[1;32m    114\u001b[0m n_samples \u001b[39m=\u001b[39m X\u001b[39m.\u001b[39mshape[\u001b[39m0\u001b[39m]\n\u001b[0;32m--> 115\u001b[0m n_batches \u001b[39m=\u001b[39m math\u001b[39m.\u001b[39mceil(n_samples\u001b[39m/\u001b[39m\u001b[39mself\u001b[39;49m\u001b[39m.\u001b[39;49mbatch_size)\n\u001b[1;32m    117\u001b[0m error_function \u001b[39m=\u001b[39m GetMetricFunction(error_function_str)\n\u001b[1;32m    118\u001b[0m \u001b[39m#regularization_function = GetRegularizationFunction(regularization_function_str)\u001b[39;00m\n",
      "\u001b[0;31mAttributeError\u001b[0m: 'MLP' object has no attribute 'batch_size'"
     ]
    }
   ],
   "source": [
    "import numpy as np\n",
    "X = np.ndarray((4,3))\n",
    "print(X)\n",
    "mlp.predict(X)\n",
    "mlp.fit(X, X[:,1:], batch_size=2, error_function_str=\"MSE\")"
   ]
  },
  {
   "cell_type": "code",
   "execution_count": 17,
   "metadata": {},
   "outputs": [
    {
     "name": "stdout",
     "output_type": "stream",
     "text": [
      "2\n"
     ]
    }
   ],
   "source": []
  }
 ],
 "metadata": {
  "kernelspec": {
   "display_name": "Python 3",
   "language": "python",
   "name": "python3"
  },
  "language_info": {
   "codemirror_mode": {
    "name": "ipython",
    "version": 3
   },
   "file_extension": ".py",
   "mimetype": "text/x-python",
   "name": "python",
   "nbconvert_exporter": "python",
   "pygments_lexer": "ipython3",
   "version": "3.10.8"
  },
  "orig_nbformat": 4,
  "vscode": {
   "interpreter": {
    "hash": "aee8b7b246df8f9039afb4144a1f6fd8d2ca17a180786b69acc140d282b71a49"
   }
  }
 },
 "nbformat": 4,
 "nbformat_minor": 2
}
