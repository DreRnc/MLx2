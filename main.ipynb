{
 "cells": [
  {
   "cell_type": "code",
   "execution_count": 1,
   "metadata": {},
   "outputs": [
    {
     "name": "stdout",
     "output_type": "stream",
     "text": [
      "3.10.8 (v3.10.8:aaaf517424, Oct 11 2022, 10:14:40) [Clang 13.0.0 (clang-1300.0.29.30)]\n"
     ]
    }
   ],
   "source": [
    "import sys;print(sys.version)"
   ]
  },
  {
   "cell_type": "code",
   "execution_count": 2,
   "metadata": {},
   "outputs": [
    {
     "data": {
      "text/plain": [
       "'/Users/biancaziliotto/Desktop/GitRepo/MLx2'"
      ]
     },
     "execution_count": 2,
     "metadata": {},
     "output_type": "execute_result"
    }
   ],
   "source": [
    "os.getcwd() "
   ]
  },
  {
   "cell_type": "code",
   "execution_count": 1,
   "metadata": {},
   "outputs": [],
   "source": [
    "os.chdir('src')"
   ]
  },
  {
   "cell_type": "code",
   "execution_count": 2,
   "metadata": {},
   "outputs": [],
   "source": [
    "from MLP import MLP "
   ]
  },
  {
   "cell_type": "code",
   "execution_count": 3,
   "metadata": {},
   "outputs": [],
   "source": [
    "mlp = MLP(0, [], 3, 2)"
   ]
  },
  {
   "cell_type": "code",
   "execution_count": 9,
   "metadata": {},
   "outputs": [
    {
     "data": {
      "text/plain": [
       "[<Layers.Fully_Connected_Layer at 0x112498220>]"
      ]
     },
     "execution_count": 9,
     "metadata": {},
     "output_type": "execute_result"
    }
   ],
   "source": [
    "mlp.layers"
   ]
  },
  {
   "cell_type": "code",
   "execution_count": 8,
   "metadata": {},
   "outputs": [
    {
     "ename": "TypeError",
     "evalue": "Layer.__init__() takes 1 positional argument but 4 were given",
     "output_type": "error",
     "traceback": [
      "\u001b[0;31m---------------------------------------------------------------------------\u001b[0m",
      "\u001b[0;31mTypeError\u001b[0m                                 Traceback (most recent call last)",
      "Cell \u001b[0;32mIn[8], line 1\u001b[0m\n\u001b[0;32m----> 1\u001b[0m mlp \u001b[39m=\u001b[39m MLP(\u001b[39m1\u001b[39;49m, [\u001b[39m1\u001b[39;49m], \u001b[39m3\u001b[39;49m, \u001b[39m2\u001b[39;49m)\n",
      "File \u001b[0;32m~/Desktop/GitRepo/MLx2/src/MLP.py:43\u001b[0m, in \u001b[0;36mMLP.__init__\u001b[0;34m(self, n_hidden_layers, hidden_layer_units, input_size, output_size, activation_function)\u001b[0m\n\u001b[1;32m     40\u001b[0m layer_units \u001b[39m=\u001b[39m [input_size, hidden_layer_units, output_size]\n\u001b[1;32m     42\u001b[0m \u001b[39mfor\u001b[39;00m l \u001b[39min\u001b[39;00m \u001b[39mrange\u001b[39m(n_hidden_layers):\n\u001b[0;32m---> 43\u001b[0m     new_layer \u001b[39m=\u001b[39m Dense(layer_units[l], layer_units[l\u001b[39m-\u001b[39;49m\u001b[39m1\u001b[39;49m], activation_function)\n\u001b[1;32m     44\u001b[0m     \u001b[39mself\u001b[39m\u001b[39m.\u001b[39madd_layer(new_layer)\n\u001b[1;32m     46\u001b[0m output_layer \u001b[39m=\u001b[39m Fully_Connected_Layer(output_size, input_size)\n",
      "\u001b[0;31mTypeError\u001b[0m: Layer.__init__() takes 1 positional argument but 4 were given"
     ]
    }
   ],
   "source": [
    "mlp = MLP(1, [1], 3, 2)"
   ]
  },
  {
   "cell_type": "code",
   "execution_count": 10,
   "metadata": {},
   "outputs": [
    {
     "name": "stdout",
     "output_type": "stream",
     "text": [
      "[[-3.10503618e+231  1.73060555e-077  2.96439388e-323]\n",
      " [ 0.00000000e+000  4.31476307e+069  1.04082753e-047]\n",
      " [ 5.28228494e-091  5.98633921e+174  5.45238584e-067]\n",
      " [ 1.02255265e+166  3.99910963e+252  8.34404934e-309]]\n"
     ]
    },
    {
     "ename": "NameError",
     "evalue": "name 'layer_input' is not defined",
     "output_type": "error",
     "traceback": [
      "\u001b[0;31m---------------------------------------------------------------------------\u001b[0m",
      "\u001b[0;31mNameError\u001b[0m                                 Traceback (most recent call last)",
      "Cell \u001b[0;32mIn[10], line 4\u001b[0m\n\u001b[1;32m      2\u001b[0m X \u001b[39m=\u001b[39m np\u001b[39m.\u001b[39mndarray((\u001b[39m4\u001b[39m,\u001b[39m3\u001b[39m))\n\u001b[1;32m      3\u001b[0m \u001b[39mprint\u001b[39m(X)\n\u001b[0;32m----> 4\u001b[0m mlp\u001b[39m.\u001b[39;49mpredict(X)\n",
      "File \u001b[0;32m~/Desktop/GitRepo/MLx2/src/MLP.py:86\u001b[0m, in \u001b[0;36mMLP.predict\u001b[0;34m(self, X)\u001b[0m\n\u001b[1;32m     84\u001b[0m \u001b[39mfor\u001b[39;00m layer \u001b[39min\u001b[39;00m \u001b[39mself\u001b[39m\u001b[39m.\u001b[39mlayers:\n\u001b[1;32m     85\u001b[0m     layer\u001b[39m.\u001b[39minput \u001b[39m=\u001b[39m tmp\n\u001b[0;32m---> 86\u001b[0m     layer\u001b[39m.\u001b[39moutput \u001b[39m=\u001b[39m layer\u001b[39m.\u001b[39mforwardprop(layer_input)\n\u001b[1;32m     87\u001b[0m     tmp \u001b[39m=\u001b[39m layer\u001b[39m.\u001b[39moutput\n\u001b[1;32m     88\u001b[0m y_pred[sample] \u001b[39m=\u001b[39m layer\u001b[39m.\u001b[39moutput\n",
      "\u001b[0;31mNameError\u001b[0m: name 'layer_input' is not defined"
     ]
    }
   ],
   "source": [
    "import numpy as np\n",
    "X = np.ndarray((4,3))\n",
    "print(X)\n",
    "mlp.predict(X)"
   ]
  }
 ],
 "metadata": {
  "kernelspec": {
   "display_name": "Python 3",
   "language": "python",
   "name": "python3"
  },
  "language_info": {
   "codemirror_mode": {
    "name": "ipython",
    "version": 3
   },
   "file_extension": ".py",
   "mimetype": "text/x-python",
   "name": "python",
   "nbconvert_exporter": "python",
   "pygments_lexer": "ipython3",
   "version": "3.10.8"
  },
  "orig_nbformat": 4,
  "vscode": {
   "interpreter": {
    "hash": "aee8b7b246df8f9039afb4144a1f6fd8d2ca17a180786b69acc140d282b71a49"
   }
  }
 },
 "nbformat": 4,
 "nbformat_minor": 2
}
