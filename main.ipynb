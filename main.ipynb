{
 "cells": [
  {
   "cell_type": "code",
<<<<<<< HEAD
   "execution_count": null,
=======
   "execution_count": 13,
>>>>>>> 61cf410cbf6b31b55198b15403255cb2f26b0435
   "metadata": {},
   "outputs": [],
   "source": [
    "import numpy as np\n",
    "import pandas as pd\n",
    "import joblib\n",
    "import matplotlib.pyplot as plt\n",
    "import os\n",
    "from data.load_data import load_monk\n",
    "from src.MetricFunctions import get_metric_instance\n",
    "from src.MLP import MLP\n",
    "from src.GridSearch import GridSearch, RandomGridsearch\n",
    "from sklearn.model_selection import train_test_split\n",
    "from sklearn.preprocessing import StandardScaler\n",
    "from src.EarlyStopping import EarlyStopping\n"
   ]
  },
  {
   "attachments": {},
   "cell_type": "markdown",
   "metadata": {},
   "source": [
    "Classification"
   ]
  },
  {
   "cell_type": "code",
   "execution_count": null,
   "metadata": {},
   "outputs": [],
   "source": [
    "path = os.getcwd()\n",
    "file = '/data/monks-2.train'\n",
    "\n",
    "\n",
    "labels = ['class','x1','x2','x3','x4','x5','x6']\n",
    "\n",
    "X, y_true = load_monk(path+file)\n",
    "\n",
    "print(X.shape)\n",
    "print(y_true.shape)"
   ]
  },
  {
   "cell_type": "code",
   "execution_count": null,
   "metadata": {},
   "outputs": [],
   "source": [
    "mlp = MLP([20], 6, 1, task = \"classification\", activation_function='sigm')\n",
    "\n",
    "learning_curve = mlp.fit(X, y_true, n_epochs = 10000, batch_size = 10, error = \"NLL\", verbose = True, regularization='l2', alpha_l2 = 0.001)\n",
    "\n",
    "file = '/data/monks-2.test'\n",
    "X, y = load_monk(path+file)\n",
    "print(f\"Accuracy on test set 2: {mlp.evaluate_model(X,y)}\")\n",
    "\n",
    "fig, ax = plt.subplots(figsize=(5, 5), layout='constrained')\n",
    "ax.plot(range(10000), learning_curve, linewidth = 1)\n",
    "ax.set_xlabel('Epoch')  \n",
    "ax.set_ylabel(\"Accuracy\")  \n",
    "ax.legend()"
   ]
  },
  {
   "attachments": {},
   "cell_type": "markdown",
   "metadata": {},
   "source": [
    "Regression"
   ]
  },
  {
   "cell_type": "code",
<<<<<<< HEAD
   "execution_count": null,
   "metadata": {},
   "outputs": [],
=======
<<<<<<< HEAD
   "execution_count": 14,
=======
<<<<<<< HEAD
   "execution_count": 6,
=======
   "execution_count": 2,
>>>>>>> 20fc4c341965a7f81e0920f014218ad70db0c6b8
>>>>>>> 7c4b9f95b6df302853e21c9feecdd70e5ca05385
   "metadata": {},
   "outputs": [
    {
     "name": "stdout",
     "output_type": "stream",
     "text": [
<<<<<<< HEAD
      "[[ 20.65702  -27.685519]\n",
      " [  6.348487 -27.318156]\n",
      " [ 21.727483 -27.157089]\n",
      " ...\n",
      " [ 22.289597 -26.873316]\n",
      " [  4.398787 -21.240656]\n",
      " [ 22.578542 -26.966112]]\n",
=======
<<<<<<< HEAD
      "[[ 10.66375  -30.862027]\n",
      " [  4.132008 -24.343707]\n",
      " [ 20.043541 -27.750879]\n",
      " ...\n",
      " [ 10.595159 -30.570567]\n",
      " [ 14.012325 -31.336557]\n",
      " [ 14.315935 -30.05385 ]]\n",
=======
      "[[  5.309399 -15.755232]\n",
      " [  4.219554 -19.47615 ]\n",
      " [  4.604864 -19.944324]\n",
      " ...\n",
      " [  5.120098 -16.359179]\n",
      " [  4.424207 -24.121791]\n",
      " [ 21.232093 -27.705934]]\n",
>>>>>>> 20fc4c341965a7f81e0920f014218ad70db0c6b8
>>>>>>> 7c4b9f95b6df302853e21c9feecdd70e5ca05385
      "(1492, 9)\n",
      "(1492, 2)\n"
     ]
    }
   ],
>>>>>>> 61cf410cbf6b31b55198b15403255cb2f26b0435
   "source": [
    "path = os.getcwd()\n",
    "file = '/data/ML-CUP22-TR.csv'\n",
    "\n",
    "labels = ['x1','x2','x3','x4','x5','x6','x7','x8','x9','y1','y2']\n",
    "\n",
    "TR = pd.read_csv(path + file, sep = ',', header = None, usecols=range(1,12), \\\n",
    "                 names = labels, skiprows = 7)\n",
    "\n",
    "TR = TR.to_numpy()\n",
    "\n",
    "np.random.shuffle(TR)\n",
    "\n",
    "TR = np.split(TR, [9], axis = 1)\n",
    "\n",
    "X = TR[0]\n",
    "y_true = TR[1]\n",
    "\n",
    "print(y_true)\n",
    "print(X.shape)\n",
    "print(y_true.shape)\n",
    "\n",
    "n_epochs = 500"
   ]
  },
  {
   "cell_type": "code",
   "execution_count": null,
   "metadata": {},
   "outputs": [],
   "source": [
    "mlp = MLP([2,2], 9, 2)\n",
    "X_train, X_test, y_train, y_test = train_test_split(X, y_true, test_size=0.2, random_state=42)\n",
    "\n",
    "grid_parameters = {'n_epochs': (1, 100),\n",
    "    'batch_size': (100, 1000), \n",
    "    'step': (0.0000001, 1), \n",
    "    'regularization': ['elastic', 'l1', 'l2', 'no'],\n",
    "    'alpha_l1': (0, 1),\n",
    "    'alpha_l2': (0, 1),\n",
    "    'weights_initialization': ['scaled'],\n",
    "    'Nesterov': [True, False],\n",
    "    'momentum': (0, 1),\n",
    "    'weights_scale': (0.1, 1),\n",
    "    'early_stopping': [True, False],\n",
    "    'patience': (1, 20),\n",
    "    'tolerance': (0.0001, 0.1),\n",
    "    'error' : ['mse']\n",
    "    }\n",
    "\n",
    "grid = RandomGridsearch(mlp)\n",
    "grid.fit(n_random = 1000, X = X_train,y = y_train, parameters_grid = grid_parameters, n_folds = 2, parallel = True, get_eta = False)\n",
    "\n",
    "mod = grid.best_model\n",
    "\n",
    "y_pred = mod.predict(X_test)\n",
    "mse = get_metric_instance('mse')\n",
<<<<<<< HEAD
    "print('test score = ' , mse(y_test, y_pred))"
=======
    "\n",
    "print('test score = ' , mse(y_test, y_pred))\n",
    "\n",
    "y_pred1 = y_pred[:,0]\n",
    "y_pred2 = y_pred[:,1]\n",
    "y_true1 = y_test[:,0]\n",
    "y_true2 = y_test[:,1]\n",
    "\n",
    "print('target 1', mse(y_true1, y_pred1))\n",
    "print('target 2', mse(y_true2, y_pred2))"
   ]
  },
  {
   "cell_type": "code",
   "execution_count": 40,
   "metadata": {},
   "outputs": [
    {
     "name": "stdout",
     "output_type": "stream",
     "text": [
      "siamo a  0 1.9335934846475653\n",
      "siamo a  1 2.1254053010336564\n",
      "siamo a  2 1.836878655302458\n",
      "siamo a  3 1.668185028819264\n",
      "siamo a  4 2.2614660420273203\n",
      "cv score = 1.9651057023660528\n"
     ]
    }
   ],
   "source": [
    "mlp = MLP([15, 15, 15, 15], 9, 2, activation_function = 'sig')\n",
    "score = []\n",
    "mse = get_metric_instance('mse')\n",
    "par = {\n",
    "    'n_epochs': 1000,\n",
    "    'batch_size': 200,\n",
    "    'regularization': 'elastic',\n",
    "    'alpha_l1': 0.0001,\n",
    "    'alpha_l2': 0.0001,\n",
    "    'weights_initialization': 'scaled',\n",
    "    'Nesterov': False,\n",
    "    'momentum': 0.01,\n",
    "    'weights_scale': 0.1,\n",
    "    'early_stopping': False,\n",
    "    'patience': 20,\n",
    "    'tolerance': 0.03\n",
    "}\n",
    "for i in range(5):\n",
    "    X_train, X_test, y_train, y_test = train_test_split(X, y_true, test_size=0.2)\n",
    "    mlp.fit(X_train, y_train, **par)\n",
    "    y_pred = mlp.predict(X_test)\n",
    "    score.append(mse(y_test, y_pred))\n",
    "    print('siamo a ', i, score[i])\n",
    "print('cv score =' , np.mean(score))"
>>>>>>> 61cf410cbf6b31b55198b15403255cb2f26b0435
   ]
  },
  {
   "cell_type": "code",
   "execution_count": 31,
   "metadata": {},
   "outputs": [
    {
     "name": "stdout",
     "output_type": "stream",
     "text": [
      "test score =  1.9513312182341915\n"
     ]
    }
   ],
   "source": []
  },
  {
   "cell_type": "markdown",
   "metadata": {},
   "source": []
  },
  {
   "cell_type": "code",
   "execution_count": null,
   "metadata": {},
   "outputs": [],
   "source": [
    "fig, ax = plt.subplots(figsize=(5, 5), layout='constrained')\n",
    "\n",
    "for step in [0.005, 0.01, 0.05, 0.1]:\n",
    "    learning_curve = mlp.fit(X, y_true, n_epochs = n_epochs, batch_size = 50, step = step)\n",
    "    ax.plot(range(n_epochs), learning_curve, label = 'step = ' + str(step), linewidth = 1)\n",
    "\n",
    "ax.set_xlabel('epoch')  \n",
    "ax.set_ylabel('training error (MSE)')  \n",
    "ax.set_title(\"Learning curves with different values of the learning rate\")  \n",
    "ax.legend()"
   ]
  },
  {
   "cell_type": "code",
   "execution_count": null,
   "metadata": {},
   "outputs": [],
   "source": [
    "fig, ax = plt.subplots(figsize=(5, 5), layout='constrained')\n",
    "step = 0.1\n",
    "for alpha_l2 in [0, 0.005, 0.01, 0.05, 0.1]:\n",
    "    learning_curve = mlp.fit(X, y_true, n_epochs = n_epochs, batch_size = 50, step = step, regularization = \"L2\", alpha_l2 = alpha_l2)\n",
    "    ax.plot(range(n_epochs), learning_curve, label = 'alpha L2 = ' + str(alpha_l2), linewidth = 1)\n",
    "\n",
    "ax.set_xlabel('epoch')  \n",
    "ax.set_ylabel('training error (MSE)')  \n",
    "ax.set_title(\"Learning curves with different regularization\")  \n",
    "ax.legend()"
   ]
  },
  {
   "cell_type": "code",
   "execution_count": null,
   "metadata": {},
   "outputs": [],
   "source": [
    "fig, ax = plt.subplots(figsize=(5, 5), layout='constrained')\n",
    "step = 0.5\n",
    "for momentum in [0, 0.1, 0.3]:\n",
    "    learning_curve = mlp.fit(X, y_true, n_epochs = n_epochs, batch_size = 100, step = step, momentum = momentum)\n",
    "    ax.plot(range(n_epochs), learning_curve, linewidth = 1, label = 'momentum = ' + str(momentum))\n",
    "\n",
    "ax.set_xlabel('epoch')  \n",
    "ax.set_ylabel('training error (MSE)')   \n",
    "ax.set_title(\"Learning curves with different momentum\")  \n",
    "ax.legend()"
   ]
  },
  {
   "cell_type": "code",
   "execution_count": null,
   "metadata": {},
   "outputs": [],
   "source": [
    "fig, ax = plt.subplots(figsize=(5, 5), layout='constrained')\n",
    "step = 0.1\n",
    "for batch_size in [1, 100]:\n",
    "    learning_curve = mlp.fit(X, y_true, n_epochs = n_epochs, batch_size = batch_size, step = step)\n",
    "    ax.plot(range(n_epochs), learning_curve, linewidth = 1, label = 'batch_size = ' + str(batch_size))\n",
    "\n",
    "ax.set_xlabel('epoch')  \n",
    "ax.set_ylabel('training error (MSE)')   \n",
    "ax.set_title(\"Learning curves with different batch size\")  \n",
    "ax.legend()"
   ]
  },
  {
   "cell_type": "code",
   "execution_count": null,
   "metadata": {},
   "outputs": [],
   "source": [
    "fig, ax = plt.subplots(figsize=(5, 5), layout='constrained')\n",
    "step = 0.5\n",
    "\n",
    "momentum = 0\n",
    "learning_curve = mlp.fit(X, y_true, n_epochs = n_epochs, batch_size = 100, step = step)\n",
    "ax.plot(range(n_epochs), learning_curve, linewidth = 1, label = 'momentum = ' + str(momentum))\n",
    "\n",
    "momentum = 0.2\n",
    "learning_curve = mlp.fit(X, y_true, n_epochs = n_epochs, batch_size = 100, step = step, momentum = momentum)\n",
    "ax.plot(range(n_epochs), learning_curve, linewidth = 1, label = 'momentum = ' + str(momentum))\n",
    "\n",
    "learning_curve = mlp.fit(X, y_true, n_epochs = n_epochs, batch_size = 100, step = step, momentum = momentum, Nesterov = True)\n",
    "ax.plot(range(n_epochs), learning_curve, linewidth = 1, label = 'momentum = ' + str(momentum) + ' (Nesterov)')\n",
    "\n",
    "ax.set_xlabel('epoch')  \n",
    "ax.set_ylabel('training error (MSE)')    \n",
    "ax.legend()"
   ]
  },
  {
   "cell_type": "markdown",
   "metadata": {},
   "source": []
  },
  {
   "cell_type": "code",
   "execution_count": null,
   "metadata": {},
   "outputs": [],
   "source": [
    "n_classes = 5\n",
    "input_size = 5\n",
    "mlp = MLP([5, 5], input_size, n_classes, task = \"classification\")"
   ]
  },
  {
   "cell_type": "code",
   "execution_count": null,
   "metadata": {},
   "outputs": [],
   "source": []
  }
 ],
 "metadata": {
  "kernelspec": {
   "display_name": "mlx2env",
   "language": "python",
   "name": "python3"
  },
  "language_info": {
   "codemirror_mode": {
    "name": "ipython",
    "version": 3
   },
   "file_extension": ".py",
   "mimetype": "text/x-python",
   "name": "python",
   "nbconvert_exporter": "python",
   "pygments_lexer": "ipython3",
   "version": "3.10.8"
  },
  "vscode": {
   "interpreter": {
    "hash": "ed0be3fc2c904159af230147fb8c5b6a9503599b122f9148b8936b9beff70f89"
   }
  }
 },
 "nbformat": 4,
 "nbformat_minor": 2
}
