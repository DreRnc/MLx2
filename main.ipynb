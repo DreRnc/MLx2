{
 "cells": [
  {
   "cell_type": "code",
   "execution_count": 1,
   "metadata": {},
   "outputs": [],
   "source": [
    "import numpy as np\n",
    "import pandas as pd\n",
    "import joblib\n",
    "import matplotlib.pyplot as plt\n",
    "import os\n",
    "from data.load_data import load_monk\n",
    "from src.MetricFunctions import get_metric_instance\n",
    "from src.MLP import MLP\n",
    "from src.GridSearch import GridSearch, RandomGridsearch\n",
    "from sklearn.model_selection import train_test_split\n",
    "from sklearn.preprocessing import StandardScaler\n",
    "from src.EarlyStopping import EarlyStopping\n"
   ]
  },
  {
   "attachments": {},
   "cell_type": "markdown",
   "metadata": {},
   "source": [
    "Classification"
   ]
  },
  {
   "cell_type": "code",
   "execution_count": 31,
   "metadata": {},
   "outputs": [
    {
     "name": "stdout",
     "output_type": "stream",
     "text": [
      "(122, 6)\n",
      "(122, 1)\n"
     ]
    }
   ],
   "source": [
    "from data.load_data import load_monk\n",
    "path = os.getcwd()\n",
    "file = '/data/monks-3.train'\n",
    "file_test = '/data/monks-3.test'\n",
    "\n",
    "labels = ['class','x1','x2','x3','x4','x5','x6']\n",
    "\n",
    "\n",
    "X_train, y_train = load_monk(path+file)\n",
    "X_test, y_test = load_monk(path+file_test)\n",
    "\n",
    "print(X_train.shape)\n",
    "print(y_train.shape)"
   ]
  },
  {
   "cell_type": "code",
   "execution_count": 32,
   "metadata": {},
   "outputs": [],
   "source": [
    "# xtrain and test to dataframe\n",
    "X_train = pd.DataFrame(X_train, columns=labels[1:])\n",
    "X_test = pd.DataFrame(X_test, columns=labels[1:])\n",
    "# one hot encoding of X_train and X_test\n",
    "X_train = pd.get_dummies(X_train, columns=labels[1:])\n",
    "X_test = pd.get_dummies(X_test, columns=labels[1:])\n",
    "X_test = X_test.values\n",
    "X_train = X_train.values"
   ]
  },
  {
   "cell_type": "code",
   "execution_count": 33,
   "metadata": {},
   "outputs": [
    {
     "name": "stdout",
     "output_type": "stream",
     "text": [
      "(122, 17)\n",
      "(122, 1)\n",
      "(432, 17)\n",
      "(432, 1)\n"
     ]
    }
   ],
   "source": [
    "print(X_train.shape)\n",
    "print(y_train.shape)\n",
    "print(X_test.shape)\n",
    "print(y_test.shape)"
   ]
  },
  {
   "cell_type": "code",
   "execution_count": 36,
   "metadata": {},
   "outputs": [
    {
     "name": "stdout",
     "output_type": "stream",
     "text": [
      "0.9351851851851852\n"
     ]
    },
    {
     "data": {
      "text/plain": [
       "[<matplotlib.lines.Line2D at 0x1cd59e87850>]"
      ]
     },
     "execution_count": 36,
     "metadata": {},
     "output_type": "execute_result"
    },
    {
     "data": {
      "image/png": "[encoded data removed]",
      "text/plain": [
       "<Figure size 640x480 with 1 Axes>"
      ]
     },
     "metadata": {},
     "output_type": "display_data"
    }
   ],
   "source": [
    "mlp = MLP([12,12], 17, 1, task = \"classification\", activation_function = \"sigmoid\")\n",
    "\n",
    "mlp.fit(X_train, y_train, n_epochs = 5000, batch_size = 50, error = \"NLL\", step = 1, regularization = 'no', momentum = 0.3,\n",
    "        early_stopping = True, patience = 100, verbose = True, tolerance = 0.01)\n",
    "\n",
    "y_pred = mlp.predict(X_test)\n",
    "\n",
    "acc = get_metric_instance(\"accuracy\")\n",
    "print(acc(y_test, y_pred))\n",
    "plt.plot(mlp.learning_curve)"
   ]
  },
  {
   "attachments": {},
   "cell_type": "markdown",
   "metadata": {},
   "source": [
    "Regression"
   ]
  },
  {
   "cell_type": "code",
   "execution_count": 1,
   "metadata": {},
   "outputs": [
    {
     "name": "stdout",
     "output_type": "stream",
     "text": [
      "[[ 15.401821 -29.530884]\n",
      " [  3.868354 -26.117116]\n",
      " [  5.007746 -17.253839]\n",
      " ...\n",
      " [ 18.137139 -31.08028 ]\n",
      " [  9.879381 -29.474929]\n",
      " [  8.619835 -31.899873]]\n",
      "(1492, 9)\n",
      "(1492, 2)\n"
     ]
    }
   ],
   "source": [
    "import numpy as np\n",
    "import pandas as pd\n",
    "import joblib\n",
    "import matplotlib.pyplot as plt\n",
    "import os\n",
    "from data.load_data import load_monk\n",
    "from src.MetricFunctions import get_metric_instance\n",
    "from src.MLP import MLP\n",
    "from src.GridSearch import GridSearch, RandomGridsearch\n",
    "from sklearn.model_selection import train_test_split\n",
    "from sklearn.preprocessing import StandardScaler\n",
    "from src.EarlyStopping import EarlyStopping\n",
    "path = os.getcwd()\n",
    "file = '/data/ML-CUP22-TR.csv'\n",
    "\n",
    "labels = ['x1','x2','x3','x4','x5','x6','x7','x8','x9','y1','y2']\n",
    "\n",
    "TR = pd.read_csv(path + file, sep = ',', header = None, usecols=range(1,12), \\\n",
    "                 names = labels, skiprows = 7)\n",
    "\n",
    "TR = TR.to_numpy()\n",
    "\n",
    "np.random.shuffle(TR)\n",
    "\n",
    "TR = np.split(TR, [9], axis = 1)\n",
    "\n",
    "X = TR[0]\n",
    "y_true = TR[1]\n",
    "\n",
    "print(y_true)\n",
    "print(X.shape)\n",
    "print(y_true.shape)\n",
    "\n",
    "n_epochs = 500"
   ]
  },
  {
   "cell_type": "code",
   "execution_count": 39,
   "metadata": {},
   "outputs": [
    {
     "name": "stdout",
     "output_type": "stream",
     "text": [
      "Computing ETA\n",
      "Grid search of combinations: 4\n",
      "Parallelisation not active\n"
     ]
    },
    {
     "name": "stderr",
     "output_type": "stream",
     "text": [
      " 25%|██▌       | 1/4 [01:58<05:56, 118.88s/it]"
     ]
    },
    {
     "name": "stdout",
     "output_type": "stream",
     "text": [
      "-----------------------------------\n",
      "Combination 1/4\n",
      "Parameters: {'n_epochs': 2000, 'batch_size': 50}\n",
      "Validation score: 2.0705517096323334\n"
     ]
    },
    {
     "name": "stderr",
     "output_type": "stream",
     "text": [
      " 50%|█████     | 2/4 [03:35<03:31, 105.80s/it]"
     ]
    },
    {
     "name": "stdout",
     "output_type": "stream",
     "text": [
      "-----------------------------------\n",
      "Combination 2/4\n",
      "Parameters: {'n_epochs': 2000, 'batch_size': 100}\n",
      "Validation score: 1.7934926200826442\n"
     ]
    },
    {
     "name": "stderr",
     "output_type": "stream",
     "text": [
      " 75%|███████▌  | 3/4 [04:07<01:12, 72.00s/it] "
     ]
    },
    {
     "name": "stdout",
     "output_type": "stream",
     "text": [
      "-----------------------------------\n",
      "Combination 3/4\n",
      "Parameters: {'n_epochs': 500, 'batch_size': 50}\n",
      "Validation score: 2.220791665298978\n"
     ]
    },
    {
     "name": "stderr",
     "output_type": "stream",
     "text": [
      "100%|██████████| 4/4 [04:26<00:00, 66.60s/it]"
     ]
    },
    {
     "name": "stdout",
     "output_type": "stream",
     "text": [
      "-----------------------------------\n",
      "Combination 4/4\n",
      "Parameters: {'n_epochs': 500, 'batch_size': 100}\n",
      "Validation score: 1.7440416203315383\n",
      "\n",
      "\n",
      "Best parameters: {'n_epochs': 500, 'batch_size': 100}\n",
      "Best score: 1.7440416203315383\n"
     ]
    },
    {
     "name": "stderr",
     "output_type": "stream",
     "text": [
      "\n"
     ]
    }
   ],
   "source": [
    "X_train, X_test, y_train, y_test = train_test_split(X, y_true, test_size=0.2, random_state=42)\n",
    "mlp = MLP([18, 18], 9, 2, task = \"regression\", activation_function = \"sigmoid\")\n",
    "grid_space = {\n",
    "    'n_epochs': [2000, 500],\n",
    "    'batch_size': [50, 100],\n",
    "    #'step': [0.1, 0.01],\n",
    "    #'momentum': [0.3, 0.5],\n",
    "    #'regularization': ['no', 'L1', 'L2'],\n",
    "    #'tolerance': [0.01, 0.001],\n",
    "    #'patience': [100, 200],\n",
    "    #'early_stopping': [True, False],\n",
    "    #'nesterov': [True, False],\n",
    "    #'alpha_l1': [0.1, 0.01],\n",
    "    #'alpha_l2': [0.1, 0.01],\n",
    "    #'weight_init': ['scaled', 'xavier', 'he'],\n",
    "}\n",
    "grid = GridSearch(mlp)\n",
    "grid.fit(X_train, y_train, grid_space, get_eta = True, verbose = True, parallel = False, n_folds = 5)"
   ]
  },
  {
   "cell_type": "code",
   "execution_count": 28,
   "metadata": {},
   "outputs": [
    {
     "name": "stdout",
     "output_type": "stream",
     "text": [
      "1.834783862664742\n"
     ]
    },
    {
     "data": {
      "text/plain": [
       "[<matplotlib.lines.Line2D at 0x279f6bc7070>]"
      ]
     },
     "execution_count": 28,
     "metadata": {},
     "output_type": "execute_result"
    },
    {
     "data": {
      "image/png": "[encoded data removed]",
      "text/plain": [
       "<Figure size 640x480 with 1 Axes>"
      ]
     },
     "metadata": {},
     "output_type": "display_data"
    }
   ],
   "source": [
    "X_train, X_test, y_train, y_test = train_test_split(X, y_true, test_size=0.2, random_state=42)\n",
    "mlp = MLP([9, 9], 9, 2, task = \"regression\", activation_function = \"sigmoid\")\n",
    "mlp.fit(X_train, y_train, n_epochs = 500, batch_size = 200, verbose = True, weights_initialization = 'scaled', weights_mean = 0, weights_scale = 1, step=0.1)\n",
    "y_pred = mlp.predict(X_test)\n",
    "mse = get_metric_instance(\"mse\")\n",
    "print(mse(y_test, y_pred))\n",
    "plt.plot(mlp.learning_curve)"
   ]
  },
  {
   "cell_type": "markdown",
   "metadata": {},
   "source": []
  },
  {
   "cell_type": "code",
   "execution_count": null,
   "metadata": {},
   "outputs": [],
   "source": [
    "fig, ax = plt.subplots(figsize=(5, 5), layout='constrained')\n",
    "\n",
    "for step in [0.005, 0.01, 0.05, 0.1]:\n",
    "    mlp.fit(X, y_true, n_epochs = n_epochs, batch_size = 50, step = step)\n",
    "    ax.plot(range(n_epochs), mlp.learning_curve, label = 'step = ' + str(step), linewidth = 1)\n",
    "\n",
    "ax.set_xlabel('epoch')  \n",
    "ax.set_ylabel('training error (MSE)')  \n",
    "ax.set_title(\"Learning curves with different values of the learning rate\")  \n",
    "ax.legend()\n"
   ]
  },
  {
   "cell_type": "code",
   "execution_count": null,
   "metadata": {},
   "outputs": [],
   "source": [
    "fig, ax = plt.subplots(figsize=(5, 5), layout='constrained')\n",
    "step = 0.1\n",
    "for alpha_l2 in [0, 0.005, 0.01, 0.05, 0.1]:\n",
    "    learning_curve = mlp.fit(X, y_true, n_epochs = n_epochs, batch_size = 50, step = step, regularization = \"L2\", alpha_l2 = alpha_l2)\n",
    "    ax.plot(range(n_epochs), learning_curve, label = 'alpha L2 = ' + str(alpha_l2), linewidth = 1)\n",
    "\n",
    "ax.set_xlabel('epoch')  \n",
    "ax.set_ylabel('training error (MSE)')  \n",
    "ax.set_title(\"Learning curves with different regularization\")  \n",
    "ax.legend()"
   ]
  },
  {
   "cell_type": "code",
   "execution_count": null,
   "metadata": {},
   "outputs": [],
   "source": [
    "fig, ax = plt.subplots(figsize=(5, 5), layout='constrained')\n",
    "step = 0.5\n",
    "for momentum in [0, 0.1, 0.3]:\n",
    "    learning_curve = mlp.fit(X, y_true, n_epochs = n_epochs, batch_size = 100, step = step, momentum = momentum)\n",
    "    ax.plot(range(n_epochs), learning_curve, linewidth = 1, label = 'momentum = ' + str(momentum))\n",
    "\n",
    "ax.set_xlabel('epoch')  \n",
    "ax.set_ylabel('training error (MSE)')   \n",
    "ax.set_title(\"Learning curves with different momentum\")  \n",
    "ax.legend()"
   ]
  },
  {
   "cell_type": "code",
   "execution_count": null,
   "metadata": {},
   "outputs": [],
   "source": [
    "fig, ax = plt.subplots(figsize=(5, 5), layout='constrained')\n",
    "step = 0.1\n",
    "for batch_size in [1, 100]:\n",
    "    learning_curve = mlp.fit(X, y_true, n_epochs = n_epochs, batch_size = batch_size, step = step)\n",
    "    ax.plot(range(n_epochs), learning_curve, linewidth = 1, label = 'batch_size = ' + str(batch_size))\n",
    "\n",
    "ax.set_xlabel('epoch')  \n",
    "ax.set_ylabel('training error (MSE)')   \n",
    "ax.set_title(\"Learning curves with different batch size\")  \n",
    "ax.legend()"
   ]
  },
  {
   "cell_type": "code",
   "execution_count": null,
   "metadata": {},
   "outputs": [],
   "source": [
    "fig, ax = plt.subplots(figsize=(5, 5), layout='constrained')\n",
    "step = 0.5\n",
    "\n",
    "momentum = 0\n",
    "learning_curve = mlp.fit(X, y_true, n_epochs = n_epochs, batch_size = 100, step = step)\n",
    "ax.plot(range(n_epochs), learning_curve, linewidth = 1, label = 'momentum = ' + str(momentum))\n",
    "\n",
    "momentum = 0.2\n",
    "learning_curve = mlp.fit(X, y_true, n_epochs = n_epochs, batch_size = 100, step = step, momentum = momentum)\n",
    "ax.plot(range(n_epochs), learning_curve, linewidth = 1, label = 'momentum = ' + str(momentum))\n",
    "\n",
    "learning_curve = mlp.fit(X, y_true, n_epochs = n_epochs, batch_size = 100, step = step, momentum = momentum, Nesterov = True)\n",
    "ax.plot(range(n_epochs), learning_curve, linewidth = 1, label = 'momentum = ' + str(momentum) + ' (Nesterov)')\n",
    "\n",
    "ax.set_xlabel('epoch')  \n",
    "ax.set_ylabel('training error (MSE)')    \n",
    "ax.legend()"
   ]
  },
  {
   "cell_type": "markdown",
   "metadata": {},
   "source": []
  },
  {
   "cell_type": "code",
   "execution_count": null,
   "metadata": {},
   "outputs": [],
   "source": [
    "n_classes = 5\n",
    "input_size = 5\n",
    "mlp = MLP([5, 5], input_size, n_classes, task = \"classification\")"
   ]
  },
  {
   "cell_type": "code",
   "execution_count": null,
   "metadata": {},
   "outputs": [],
   "source": []
  }
 ],
 "metadata": {
  "kernelspec": {
   "display_name": "Python 3",
   "language": "python",
   "name": "python3"
  },
  "language_info": {
   "codemirror_mode": {
    "name": "ipython",
    "version": 3
   },
   "file_extension": ".py",
   "mimetype": "text/x-python",
   "name": "python",
   "nbconvert_exporter": "python",
   "pygments_lexer": "ipython3",
   "version": "3.10.7"
  },
  "vscode": {
   "interpreter": {
    "hash": "9a84d6694d99063d2bb0286ebc4a83b7a5fbbe8812bdd85c9b7227af9c494503"
   }
  }
 },
 "nbformat": 4,
 "nbformat_minor": 2
}
