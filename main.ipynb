{
 "cells": [
  {
   "cell_type": "code",
   "execution_count": 1,
   "metadata": {},
   "outputs": [
    {
     "data": {
      "text/plain": [
       "'/Users/biancaziliotto/Desktop/GitRepo/MLx2'"
      ]
     },
     "execution_count": 1,
     "metadata": {},
     "output_type": "execute_result"
    }
   ],
   "source": [
    "import os\n",
    "os.getcwd() "
   ]
  },
  {
   "cell_type": "code",
   "execution_count": 2,
   "metadata": {},
   "outputs": [],
   "source": [
    "os.chdir('src')"
   ]
  },
  {
   "cell_type": "code",
   "execution_count": 3,
   "metadata": {},
   "outputs": [],
   "source": [
    "from MLP import MLP "
   ]
  },
  {
   "cell_type": "code",
   "execution_count": 4,
   "metadata": {},
   "outputs": [],
   "source": [
    "mlp = MLP([3, 4, 2], 2, 1, \"id\")\n"
   ]
  },
  {
   "cell_type": "code",
   "execution_count": 5,
   "metadata": {},
   "outputs": [
    {
     "data": {
      "text/plain": [
       "1"
      ]
     },
     "execution_count": 5,
     "metadata": {},
     "output_type": "execute_result"
    }
   ],
   "source": [
    "mlp.layers\n",
    "mlp.input_size\n",
    "mlp.output_size"
   ]
  },
  {
   "cell_type": "code",
   "execution_count": 6,
   "metadata": {},
   "outputs": [
    {
     "name": "stdout",
     "output_type": "stream",
     "text": [
      "[[1. 1.]\n",
      " [1. 2.]\n",
      " [1. 3.]\n",
      " [1. 4.]]\n",
      "[[2.]\n",
      " [3.]\n",
      " [4.]\n",
      " [5.]]\n",
      "<class 'numpy.ndarray'>\n",
      "[[1. 4.]\n",
      " [1. 1.]\n",
      " [1. 3.]\n",
      " [1. 2.]]\n",
      "[[ 4. 10.]]\n"
     ]
    }
   ],
   "source": [
    "import numpy as np\n",
    "X = np.ndarray((4,2))\n",
    "X[0, :]= [1, 1]\n",
    "X[1, :]= [1, 2]\n",
    "X[2, :]= [1, 3]\n",
    "X[3, :]= [1, 4]\n",
    "y_true  = np.ndarray((4,1))\n",
    "y_true[:,0] = [2,3,4,5]\n",
    "\n",
    "print(X)\n",
    "print(y_true)\n",
    "z = np.concatenate((X,y_true), axis = 1)\n",
    "print(type(z))\n",
    "np.random.shuffle(z)\n",
    "prova= np.array_split(z, 2, axis = 1)\n",
    "print(prova[0])\n",
    "\n",
    "print(X.sum(axis = 0, keepdims=True))\n"
   ]
  },
  {
   "cell_type": "code",
   "execution_count": 10,
   "metadata": {},
   "outputs": [
    {
     "name": "stdout",
     "output_type": "stream",
     "text": [
      "Epoch 0: MSE = 9.119443013819708\n",
      "Epoch 1: MSE = 6.1780302446120325\n",
      "Epoch 2: MSE = 4.276032954756721\n",
      "Epoch 3: MSE = 2.9941017976220072\n",
      "Epoch 4: MSE = 2.1517155463461126\n",
      "Epoch 5: MSE = 1.6682663273522136\n",
      "Epoch 6: MSE = 1.4320273114193325\n",
      "Epoch 7: MSE = 1.3046326751533055\n",
      "Epoch 8: MSE = 1.263011579002059\n",
      "Epoch 9: MSE = 1.2410222179803303\n",
      "Epoch 10: MSE = 1.2445302052605811\n",
      "Epoch 11: MSE = 1.2324439148168764\n",
      "Epoch 12: MSE = 1.2236769828476066\n",
      "Epoch 13: MSE = 1.229418446376073\n",
      "Epoch 14: MSE = 1.2182738100737698\n",
      "Epoch 15: MSE = 1.2138034049787432\n",
      "Epoch 16: MSE = 1.2073931301216632\n",
      "Epoch 17: MSE = 1.2035606666806344\n",
      "Epoch 18: MSE = 1.2017025073824574\n",
      "Epoch 19: MSE = 1.1930964036417109\n",
      "Epoch 20: MSE = 1.1812874096021784\n",
      "Epoch 21: MSE = 1.181392571800833\n",
      "Epoch 22: MSE = 1.1651412021560663\n",
      "Epoch 23: MSE = 1.1483929074170973\n",
      "Epoch 24: MSE = 1.1451803006137915\n",
      "Epoch 25: MSE = 1.1224966026256487\n",
      "Epoch 26: MSE = 1.0963858132593\n",
      "Epoch 27: MSE = 1.0738557312769434\n",
      "Epoch 28: MSE = 1.0444767673845803\n",
      "Epoch 29: MSE = 1.004300746693599\n",
      "Epoch 30: MSE = 1.001416551807927\n",
      "Epoch 31: MSE = 0.9229455448689134\n",
      "Epoch 32: MSE = 0.8632546157217438\n",
      "Epoch 33: MSE = 0.8081838285829794\n",
      "Epoch 34: MSE = 0.7527867480204646\n",
      "Epoch 35: MSE = 0.7845499225152934\n",
      "Epoch 36: MSE = 0.6485220795805994\n",
      "Epoch 37: MSE = 0.5554947374120082\n",
      "Epoch 38: MSE = 0.4975982657759638\n",
      "Epoch 39: MSE = 0.45427926420965004\n",
      "Epoch 40: MSE = 0.35782369537006165\n",
      "Epoch 41: MSE = 0.6810080596093142\n",
      "Epoch 42: MSE = 0.28022473489575916\n",
      "Epoch 43: MSE = 0.23971245127878604\n",
      "Epoch 44: MSE = 0.19126378921694775\n",
      "Epoch 45: MSE = 0.2357078447238506\n",
      "Epoch 46: MSE = 0.15781282549521192\n",
      "Epoch 47: MSE = 0.14233080028516112\n",
      "Epoch 48: MSE = 0.06405698381243208\n",
      "Epoch 49: MSE = 0.11199306158802311\n",
      "Epoch 50: MSE = 0.02173451057415847\n",
      "Epoch 51: MSE = 0.00043745213320274166\n"
     ]
    }
   ],
   "source": [
    "#mlp.fit(X, y_true, n_epochs = 500, batch_size = 2, error = \"MSE\", regularization = \"no\", weights_initialization = \"scaled\", weights_scale = 0.1, step = 0.06, momentum = 0.03)\n",
    "mlp.fit(X, y_true, n_epochs = 500, batch_size = 2, step = 0.05, momentum = 0.05, regularization = \"elastic\", alpha_l1 = 0.01, alpha_l2 = 0.01)"
   ]
  },
  {
   "cell_type": "markdown",
   "metadata": {},
   "source": []
  },
  {
   "cell_type": "code",
   "execution_count": 8,
   "metadata": {},
   "outputs": [
    {
     "data": {
      "text/plain": [
       "array([[2.08073198],\n",
       "       [3.03646102],\n",
       "       [3.99219005],\n",
       "       [4.94791908]])"
      ]
     },
     "execution_count": 8,
     "metadata": {},
     "output_type": "execute_result"
    }
   ],
   "source": [
    "\n",
    "mlp.predict(X)"
   ]
  },
  {
   "cell_type": "code",
   "execution_count": null,
   "metadata": {},
   "outputs": [],
   "source": []
  },
  {
   "cell_type": "code",
   "execution_count": null,
   "metadata": {},
   "outputs": [],
   "source": []
  }
 ],
 "metadata": {
  "kernelspec": {
   "display_name": "Python 3 (ipykernel)",
   "language": "python",
   "name": "python3"
  },
  "language_info": {
   "codemirror_mode": {
    "name": "ipython",
    "version": 3
   },
   "file_extension": ".py",
   "mimetype": "text/x-python",
   "name": "python",
   "nbconvert_exporter": "python",
   "pygments_lexer": "ipython3",
   "version": "3.10.8"
  },
  "vscode": {
   "interpreter": {
    "hash": "aee8b7b246df8f9039afb4144a1f6fd8d2ca17a180786b69acc140d282b71a49"
   }
  }
 },
 "nbformat": 4,
 "nbformat_minor": 2
}
