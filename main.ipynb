{
 "cells": [
  {
   "cell_type": "code",
   "execution_count": 1,
   "metadata": {},
   "outputs": [
    {
<<<<<<< HEAD
     "name": "stdout",
     "output_type": "stream",
     "text": [
      "3.10.8 (v3.10.8:aaaf517424, Oct 11 2022, 10:14:40) [Clang 13.0.0 (clang-1300.0.29.30)]\n"
     ]
    }
   ],
   "source": [
    "import sys;print(sys.version)"
   ]
  },
  {
   "cell_type": "code",
   "execution_count": 2,
   "metadata": {},
   "outputs": [
    {
=======
>>>>>>> 582a0f3a715c8c6420d24d2afeb417707758e208
     "data": {
      "text/plain": [
       "'/Users/dre/Desktop/GitRepo/DreRnc/MLx2'"
      ]
     },
     "execution_count": 2,
     "metadata": {},
     "output_type": "execute_result"
    }
   ],
   "source": [
    "os.getcwd() "
   ]
  },
  {
   "cell_type": "code",
<<<<<<< HEAD
   "execution_count": 3,
=======
   "execution_count": 2,
>>>>>>> 582a0f3a715c8c6420d24d2afeb417707758e208
   "metadata": {},
   "outputs": [],
   "source": [
    "os.chdir('src')"
   ]
  },
  {
   "cell_type": "code",
<<<<<<< HEAD
   "execution_count": 4,
=======
   "execution_count": 3,
>>>>>>> 582a0f3a715c8c6420d24d2afeb417707758e208
   "metadata": {},
   "outputs": [],
   "source": [
    "from MLP import MLP "
   ]
  },
  {
   "cell_type": "code",
   "execution_count": 5,
   "metadata": {},
<<<<<<< HEAD
   "outputs": [
    {
     "name": "stdout",
     "output_type": "stream",
     "text": [
      "4\n",
      "5\n",
      "9\n",
      "4\n",
      "7\n",
      "2\n"
     ]
    }
   ],
=======
   "outputs": [],
>>>>>>> 582a0f3a715c8c6420d24d2afeb417707758e208
   "source": [
    "mlp = MLP([], 2, 1, \"Sigm\")\n"
   ]
  },
  {
   "cell_type": "code",
   "execution_count": 6,
   "metadata": {},
   "outputs": [
    {
     "data": {
      "text/plain": [
<<<<<<< HEAD
       "[<Layers.Dense at 0x110444af0>,\n",
       " <Layers.Dense at 0x107bd30a0>,\n",
       " <Layers.Dense at 0x107ba7460>,\n",
       " <Layers.Dense at 0x110444760>,\n",
       " <Layers.Dense at 0x1104479d0>,\n",
       " <Layers.FullyConnectedLayer at 0x110447850>]"
=======
       "1"
>>>>>>> 582a0f3a715c8c6420d24d2afeb417707758e208
      ]
     },
     "execution_count": 6,
     "metadata": {},
     "output_type": "execute_result"
    }
   ],
   "source": [
    "mlp.layers\n",
    "mlp.input_size\n",
    "mlp.output_size"
   ]
  },
  {
   "cell_type": "code",
<<<<<<< HEAD
   "execution_count": 7,
=======
   "execution_count": 6,
>>>>>>> 582a0f3a715c8c6420d24d2afeb417707758e208
   "metadata": {},
   "outputs": [
    {
     "name": "stdout",
     "output_type": "stream",
     "text": [
      "[[1. 2.]\n",
      " [1. 4.]\n",
      " [2. 5.]\n",
      " [3. 6.]]\n",
      "[[3.]\n",
      " [5.]\n",
      " [7.]\n",
      " [9.]]\n",
      "<class 'numpy.ndarray'>\n",
      "[[1. 2.]\n",
      " [1. 4.]\n",
      " [2. 5.]\n",
      " [3. 6.]]\n"
     ]
    }
   ],
   "source": [
    "import numpy as np\n",
    "X = np.ndarray((4,2))\n",
    "X[0, :]= [1, 2]\n",
    "X[1, :]= [1, 4]\n",
    "X[2, :]= [2, 5]\n",
    "X[3, :]= [3, 6]\n",
    "y_true  = np.ndarray((4,1))\n",
    "y_true[:,0] = [3,5,7,9]\n",
    "\n",
    "print(X)\n",
    "print(y_true)\n",
    "z = np.concatenate((X,y_true), axis = 1)\n",
    "print(type(z))\n",
    "np.random.shuffle(z)\n",
    "prova= np.array_split(z, 2, axis = 1)\n",
    "print(prova[0])\n"
   ]
  },
  {
   "cell_type": "code",
   "execution_count": null,
   "metadata": {},
<<<<<<< HEAD
   "outputs": [],
=======
   "outputs": [
    {
     "name": "stdout",
     "output_type": "stream",
     "text": [
      "[[ 9.46453362]\n",
      " [37.85813448]]\n",
      "[[ -9.46453362]\n",
      " [-37.85813448]]\n",
      "[[-0.]\n",
      " [-0.]]\n",
      "[[0.]\n",
      " [0.]]\n",
      "[[-0.]\n",
      " [-0.]]\n",
      "[[0.]\n",
      " [0.]]\n",
      "[[ -855.64418445]\n",
      " [-1852.00024445]]\n",
      "[[ 855.64418445]\n",
      " [1852.00024445]]\n",
      "Epoch 0: MSE = 102362101.82303149\n",
      "[[ 9681.5136254]\n",
      " [19363.0272508]]\n",
      "[[ -9681.5136254]\n",
      " [-19363.0272508]]\n",
      "[[-0.]\n",
      " [-0.]]\n",
      "[[0.]\n",
      " [0.]]\n",
      "[[-0.]\n",
      " [-0.]]\n",
      "[[0.]\n",
      " [0.]]\n",
      "[[ -494082.57227447]\n",
      " [-1182441.76084165]]\n",
      "[[ 494082.57227447]\n",
      " [1182441.76084165]]\n",
      "Epoch 1: MSE = 40573275862085.36\n",
      "[[5.19914549e+07]\n",
      " [1.03982910e+08]]\n",
      "[[-5.19914549e+07]\n",
      " [-1.03982910e+08]]\n",
      "[[-0.]\n",
      " [-0.]]\n",
      "[[0.]\n",
      " [0.]]\n",
      "[[-0.]\n",
      " [-0.]]\n",
      "[[0.]\n",
      " [0.]]\n",
      "[[-1.34837793e+09]\n",
      " [-3.75941592e+09]]\n",
      "[[1.34837793e+09]\n",
      " [3.75941592e+09]]\n",
      "Epoch 2: MSE = 3.908649590810365e+20\n",
      "[[8.71407678e+10]\n",
      " [2.17851920e+11]]\n",
      "[[-8.71407678e+10]\n",
      " [-2.17851920e+11]]\n",
      "[[-0.]\n",
      " [-0.]]\n",
      "[[0.]\n",
      " [0.]]\n",
      "[[-0.]\n",
      " [-0.]]\n",
      "[[0.]\n",
      " [0.]]\n",
      "[[-4.19885347e+12]\n",
      " [-9.71142308e+12]]\n",
      "[[4.19885347e+12]\n",
      " [9.71142308e+12]]\n",
      "Epoch 3: MSE = 2.7524370357828794e+27\n",
      "[[5.02996718e+13]\n",
      " [1.00599344e+14]]\n",
      "[[-5.02996718e+13]\n",
      " [-1.00599344e+14]]\n",
      "[[-0.]\n",
      " [-0.]]\n",
      "[[0.]\n",
      " [0.]]\n",
      "[[-0.]\n",
      " [-0.]]\n",
      "[[0.]\n",
      " [0.]]\n",
      "[[-2.56761652e+15]\n",
      " [-6.14446375e+15]]\n",
      "[[2.56761652e+15]\n",
      " [6.14446375e+15]]\n",
      "Epoch 4: MSE = 1.0956077272155538e+33\n",
      "[[5.57578030e+16]\n",
      " [2.23031212e+17]]\n",
      "[[-5.57578030e+16]\n",
      " [-2.23031212e+17]]\n",
      "[[-0.]\n",
      " [-0.]]\n",
      "[[0.]\n",
      " [0.]]\n",
      "[[-0.]\n",
      " [-0.]]\n",
      "[[0.]\n",
      " [0.]]\n",
      "[[-5.05488494e+18]\n",
      " [-1.09404204e+19]]\n",
      "[[5.05488494e+18]\n",
      " [1.09404204e+19]]\n",
      "Epoch 5: MSE = 3.572206182861998e+39\n",
      "[[1.00086905e+20]\n",
      " [4.00347622e+20]]\n",
      "[[-1.00086905e+20]\n",
      " [-4.00347622e+20]]\n",
      "[[-0.]\n",
      " [-0.]]\n",
      "[[0.]\n",
      " [0.]]\n",
      "[[-0.]\n",
      " [-0.]]\n",
      "[[0.]\n",
      " [0.]]\n",
      "[[-9.07170147e+21]\n",
      " [-1.96342231e+22]]\n",
      "[[9.07170147e+21]\n",
      " [1.96342231e+22]]\n",
      "Epoch 6: MSE = 1.1505207534306223e+46\n",
      "[[4.7212500e+23]\n",
      " [1.1803125e+24]]\n",
      "[[-4.7212500e+23]\n",
      " [-1.1803125e+24]]\n",
      "[[-0.]\n",
      " [-0.]]\n",
      "[[0.]\n",
      " [0.]]\n",
      "[[-0.]\n",
      " [-0.]]\n",
      "[[0.]\n",
      " [0.]]\n",
      "[[-2.27475328e+25]\n",
      " [-5.26145689e+25]]\n",
      "[[2.27475328e+25]\n",
      " [5.26145689e+25]]\n",
      "Epoch 7: MSE = 8.079026746355304e+52\n",
      "[[2.7251193e+26]\n",
      " [5.4502386e+26]]\n",
      "[[-2.7251193e+26]\n",
      " [-5.4502386e+26]]\n",
      "[[-0.]\n",
      " [-0.]]\n",
      "[[0.]\n",
      " [0.]]\n",
      "[[-0.]\n",
      " [-0.]]\n",
      "[[0.]\n",
      " [0.]]\n",
      "[[-1.39107475e+28]\n",
      " [-3.32892729e+28]]\n",
      "[[1.39107475e+28]\n",
      " [3.32892729e+28]]\n",
      "Epoch 8: MSE = 3.2158495945505794e+58\n",
      "[[7.89990455e+29]\n",
      " [1.97497614e+30]]\n",
      "[[-7.89990455e+29]\n",
      " [-1.97497614e+30]]\n",
      "[[-0.]\n",
      " [-0.]]\n",
      "[[0.]\n",
      " [0.]]\n",
      "[[-0.]\n",
      " [-0.]]\n",
      "[[0.]\n",
      " [0.]]\n",
      "[[-3.80639637e+31]\n",
      " [-8.80397259e+31]]\n",
      "[[3.80639637e+31]\n",
      " [8.80397259e+31]]\n",
      "Epoch 9: MSE = 2.2620723644535696e+65\n",
      "[[8.00383646e+32]\n",
      " [3.20153458e+33]]\n",
      "[[-8.00383646e+32]\n",
      " [-3.20153458e+33]]\n",
      "[[-0.]\n",
      " [-0.]]\n",
      "[[0.]\n",
      " [0.]]\n",
      "[[-0.]\n",
      " [-0.]]\n",
      "[[0.]\n",
      " [0.]]\n",
      "[[-7.25584487e+34]\n",
      " [-1.57040395e+35]]\n",
      "[[7.25584487e+34]\n",
      " [1.57040395e+35]]\n",
      "Epoch 10: MSE = 7.360213745866768e+71\n",
      "[[7.01862310e+36]\n",
      " [1.40372462e+37]]\n",
      "[[-7.01862310e+36]\n",
      " [-1.40372462e+37]]\n",
      "[[-0.]\n",
      " [-0.]]\n",
      "[[0.]\n",
      " [0.]]\n",
      "[[-0.]\n",
      " [-0.]]\n",
      "[[0.]\n",
      " [0.]]\n",
      "[[-1.82032621e+38]\n",
      " [-5.07529646e+38]]\n",
      "[[1.82032621e+38]\n",
      " [5.07529646e+38]]\n",
      "Epoch 11: MSE = 7.123744059055615e+78\n",
      "[[4.54463139e+39]\n",
      " [1.81785256e+40]]\n",
      "[[-4.54463139e+39]\n",
      " [-1.81785256e+40]]\n",
      "[[-0.]\n",
      " [-0.]]\n",
      "[[0.]\n",
      " [0.]]\n",
      "[[-0.]\n",
      " [-0.]]\n",
      "[[0.]\n",
      " [0.]]\n",
      "[[-4.12167957e+41]\n",
      " [-8.92059564e+41]]\n",
      "[[4.12167957e+41]\n",
      " [8.92059564e+41]]\n",
      "Epoch 12: MSE = 2.374963562869645e+85\n",
      "[[2.14505575e+43]\n",
      " [5.36263937e+43]]\n",
      "[[-2.14505575e+43]\n",
      " [-5.36263937e+43]]\n",
      "[[-0.]\n",
      " [-0.]]\n",
      "[[0.]\n",
      " [0.]]\n",
      "[[-0.]\n",
      " [-0.]]\n",
      "[[0.]\n",
      " [0.]]\n",
      "[[-1.03351290e+45]\n",
      " [-2.39049373e+45]]\n",
      "[[1.03351290e+45]\n",
      " [2.39049373e+45]]\n",
      "Epoch 13: MSE = 1.6677165346003565e+92\n",
      "[[1.05399417e+47]\n",
      " [2.10798834e+47]]\n",
      "[[-1.05399417e+47]\n",
      " [-2.10798834e+47]]\n",
      "[[-0.]\n",
      " [-0.]]\n",
      "[[0.]\n",
      " [0.]]\n",
      "[[-0.]\n",
      " [-0.]]\n",
      "[[0.]\n",
      " [0.]]\n",
      "[[-2.73348059e+48]\n",
      " [-7.62125003e+48]]\n",
      "[[2.73348059e+48]\n",
      " [7.62125003e+48]]\n",
      "Epoch 14: MSE = 1.6063410119869003e+99\n",
      "[[6.82439193e+49]\n",
      " [2.72975677e+50]]\n",
      "[[-6.82439193e+49]\n",
      " [-2.72975677e+50]]\n",
      "[[-0.]\n",
      " [-0.]]\n",
      "[[0.]\n",
      " [0.]]\n",
      "[[-0.]\n",
      " [-0.]]\n",
      "[[0.]\n",
      " [0.]]\n",
      "[[-6.18927165e+51]\n",
      " [-1.33955075e+52]]\n",
      "[[6.18927165e+51]\n",
      " [1.33955075e+52]]\n",
      "Epoch 15: MSE = 5.355346634083324e+105\n",
      "[[5.98686268e+53]\n",
      " [1.19737254e+54]]\n",
      "[[-5.98686268e+53]\n",
      " [-1.19737254e+54]]\n",
      "[[-0.]\n",
      " [-0.]]\n",
      "[[0.]\n",
      " [0.]]\n",
      "[[-0.]\n",
      " [-0.]]\n",
      "[[0.]\n",
      " [0.]]\n",
      "[[-1.55273226e+55]\n",
      " [-4.32921113e+55]]\n",
      "[[1.55273226e+55]\n",
      " [4.32921113e+55]]\n",
      "Epoch 16: MSE = 5.183260168210197e+112\n",
      "[[2.19224083e+56]\n",
      " [4.38448166e+56]]\n",
      "[[-2.19224083e+56]\n",
      " [-4.38448166e+56]]\n",
      "[[-0.]\n",
      " [-0.]]\n",
      "[[0.]\n",
      " [0.]]\n",
      "[[-0.]\n",
      " [-0.]]\n",
      "[[0.]\n",
      " [0.]]\n",
      "[[-1.11970102e+58]\n",
      " [-2.67912662e+58]]\n",
      "[[1.11970102e+58]\n",
      " [2.67912662e+58]]\n",
      "Epoch 17: MSE = 2.082999391104761e+118\n",
      "[[1.17802225e+60]\n",
      " [2.35604449e+60]]\n",
      "[[-1.17802225e+60]\n",
      " [-2.35604449e+60]]\n",
      "[[-0.]\n",
      " [-0.]]\n",
      "[[0.]\n",
      " [0.]]\n",
      "[[-0.]\n",
      " [-0.]]\n",
      "[[0.]\n",
      " [0.]]\n",
      "[[-3.05515395e+61]\n",
      " [-8.51808235e+61]]\n",
      "[[3.05515395e+61]\n",
      " [8.51808235e+61]]\n",
      "Epoch 18: MSE = 2.0066408749966197e+125\n",
      "[[7.62746132e+62]\n",
      " [3.05098453e+63]]\n",
      "[[-7.62746132e+62]\n",
      " [-3.05098453e+63]]\n",
      "[[-0.]\n",
      " [-0.]]\n",
      "[[0.]\n",
      " [0.]]\n",
      "[[-0.]\n",
      " [-0.]]\n",
      "[[0.]\n",
      " [0.]]\n",
      "[[-6.91760246e+64]\n",
      " [-1.49718417e+65]]\n",
      "[[6.91760246e+64]\n",
      " [1.49718417e+65]]\n",
      "Epoch 19: MSE = 6.689901130226819e+131\n"
     ]
    }
   ],
   "source": [
    "mlp.fit(X, y_true, n_epochs = 20, batch_size=1, initialization_str = \"scaled\", scale = 0.1, error_function_str= \"MSE\", optimizer_str = \"gradient descent\", regularization_function_str= \"no\")"
   ]
  },
  {
   "cell_type": "markdown",
   "metadata": {},
>>>>>>> 582a0f3a715c8c6420d24d2afeb417707758e208
   "source": []
  },
  {
   "cell_type": "code",
<<<<<<< HEAD
   "execution_count": 8,
   "metadata": {},
   "outputs": [
    {
     "name": "stdout",
     "output_type": "stream",
     "text": [
      "[[1. 0. 0.]\n",
      " [0. 0. 0.]\n",
      " [0. 0. 0.]\n",
      " [0. 0. 0.]]\n"
     ]
    }
   ],
   "source": [
    "import numpy as np\n",
    "X = np.zeros((4,3))\n",
    "\n",
    "X[0][0] =1\n",
    "print(X)"
   ]
  },
  {
   "cell_type": "code",
   "execution_count": 10,
   "metadata": {},
   "outputs": [
    {
     "ename": "UnboundLocalError",
     "evalue": "local variable 'scale' referenced before assignment",
     "output_type": "error",
     "traceback": [
      "\u001b[0;31m---------------------------------------------------------------------------\u001b[0m",
      "\u001b[0;31mUnboundLocalError\u001b[0m                         Traceback (most recent call last)",
      "Cell \u001b[0;32mIn[10], line 1\u001b[0m\n\u001b[0;32m----> 1\u001b[0m mlp\u001b[39m.\u001b[39;49mfit(X, X[:,\u001b[39m1\u001b[39;49m:], batch_size\u001b[39m=\u001b[39;49m\u001b[39m2\u001b[39;49m, initialization_str \u001b[39m=\u001b[39;49m \u001b[39m\"\u001b[39;49m\u001b[39mScaled\u001b[39;49m\u001b[39m\"\u001b[39;49m, scale \u001b[39m=\u001b[39;49m \u001b[39m0.1\u001b[39;49m, error_function_str\u001b[39m=\u001b[39;49m \u001b[39m\"\u001b[39;49m\u001b[39mMSE\u001b[39;49m\u001b[39m\"\u001b[39;49m, optimizer_str \u001b[39m=\u001b[39;49m \u001b[39m\"\u001b[39;49m\u001b[39mgradient_descent\u001b[39;49m\u001b[39m\"\u001b[39;49m, regularization_function_str\u001b[39m=\u001b[39;49m \u001b[39m\"\u001b[39;49m\u001b[39mL1\u001b[39;49m\u001b[39m\"\u001b[39;49m, )\n",
      "File \u001b[0;32m~/Desktop/GitRepo/DreRnc/MLx2/src/MLP.py:80\u001b[0m, in \u001b[0;36mMLP.fit\u001b[0;34m(self, X, y_true, batch_size, initialization_str, scale, error_function_str, optimizer_str, regularization_function_str)\u001b[0m\n\u001b[1;32m     77\u001b[0m n_batches \u001b[39m=\u001b[39m math\u001b[39m.\u001b[39mceil(n_samples\u001b[39m/\u001b[39mbatch_size)\n\u001b[1;32m     79\u001b[0m \u001b[39mfor\u001b[39;00m layer \u001b[39min\u001b[39;00m \u001b[39mself\u001b[39m\u001b[39m.\u001b[39mlayers:\n\u001b[0;32m---> 80\u001b[0m     layer\u001b[39m.\u001b[39;49minitialize(initialization_str, scale, optimizer_str, regularization_function_str)\n\u001b[1;32m     82\u001b[0m error_function \u001b[39m=\u001b[39m get_metric_instance(error_function_str)\n\u001b[1;32m     84\u001b[0m \u001b[39mfor\u001b[39;00m batch \u001b[39min\u001b[39;00m \u001b[39mrange\u001b[39m(n_batches):\n",
      "File \u001b[0;32m~/Desktop/GitRepo/DreRnc/MLx2/src/Layers.py:315\u001b[0m, in \u001b[0;36mDense.initialize\u001b[0;34m(self, optimizer, regularization, weights_initialization, weights_scale)\u001b[0m\n\u001b[1;32m    299\u001b[0m \u001b[39mdef\u001b[39;00m \u001b[39minitialize\u001b[39m(\u001b[39mself\u001b[39m, optimizer, regularization, weights_initialization \u001b[39m=\u001b[39m \u001b[39m'\u001b[39m\u001b[39mscaled\u001b[39m\u001b[39m'\u001b[39m, weights_scale \u001b[39m=\u001b[39m \u001b[39m0.01\u001b[39m):\n\u001b[1;32m    301\u001b[0m     \u001b[39m\"\"\"\u001b[39;00m\n\u001b[1;32m    302\u001b[0m \u001b[39m    \u001b[39;00m\n\u001b[1;32m    303\u001b[0m \u001b[39m    Initialize properties of the FCL and AL which are specific for each fit.\u001b[39;00m\n\u001b[0;32m   (...)\u001b[0m\n\u001b[1;32m    312\u001b[0m \n\u001b[1;32m    313\u001b[0m \u001b[39m    \"\"\"\u001b[39;00m\n\u001b[0;32m--> 315\u001b[0m     \u001b[39mself\u001b[39;49m\u001b[39m.\u001b[39;49m_fully_connected_layer\u001b[39m.\u001b[39;49minitialize(weights_initialization, optimizer, regularization)\n",
      "File \u001b[0;32m~/Desktop/GitRepo/DreRnc/MLx2/src/Layers.py:112\u001b[0m, in \u001b[0;36mFullyConnectedLayer.initialize\u001b[0;34m(self, optimizer, regularization_function, weights_initialization, weights_scale)\u001b[0m\n\u001b[1;32m    110\u001b[0m \u001b[39melif\u001b[39;00m weights_initialization \u001b[39m==\u001b[39m \u001b[39m\"\u001b[39m\u001b[39mhe\u001b[39m\u001b[39m\"\u001b[39m:\n\u001b[1;32m    111\u001b[0m     scale \u001b[39m=\u001b[39m \u001b[39m2\u001b[39m \u001b[39m/\u001b[39m \u001b[39mself\u001b[39m\u001b[39m.\u001b[39mn_input\n\u001b[0;32m--> 112\u001b[0m \u001b[39mself\u001b[39m\u001b[39m.\u001b[39m_weights \u001b[39m=\u001b[39m np\u001b[39m.\u001b[39mrandom\u001b[39m.\u001b[39mnormal(loc \u001b[39m=\u001b[39m \u001b[39m0.0\u001b[39m, scale \u001b[39m=\u001b[39m scale, size \u001b[39m=\u001b[39m (\u001b[39mself\u001b[39m\u001b[39m.\u001b[39mn_inputs_per_unit, \u001b[39mself\u001b[39m\u001b[39m.\u001b[39mn_units))\n\u001b[1;32m    113\u001b[0m \u001b[39mself\u001b[39m\u001b[39m.\u001b[39m_biases \u001b[39m=\u001b[39m np\u001b[39m.\u001b[39mzeros(\u001b[39m1\u001b[39m, \u001b[39mself\u001b[39m\u001b[39m.\u001b[39mn_units)\n\u001b[1;32m    115\u001b[0m \u001b[39m# Optimizer initialization\u001b[39;00m\n",
      "\u001b[0;31mUnboundLocalError\u001b[0m: local variable 'scale' referenced before assignment"
     ]
    }
   ],
   "source": [
    "mlp.fit(X, X[:,1:], batch_size=2, initialization_str = \"scaled\", scale = 0.1, error_function_str= \"MSE\", optimizer_str = \"gradient_descent\", regularization_function_str= \"L1\", )\n"
   ]
  },
  {
   "cell_type": "code",
   "execution_count": 3,
=======
   "execution_count": null,
>>>>>>> 582a0f3a715c8c6420d24d2afeb417707758e208
   "metadata": {},
   "outputs": [],
   "source": []
  },
  {
   "cell_type": "code",
   "execution_count": null,
   "metadata": {},
   "outputs": [],
   "source": []
  },
  {
   "cell_type": "code",
   "execution_count": null,
   "metadata": {},
   "outputs": [],
   "source": []
  }
 ],
 "metadata": {
  "kernelspec": {
   "display_name": "env",
   "language": "python",
   "name": "python3"
  },
  "language_info": {
   "codemirror_mode": {
    "name": "ipython",
    "version": 3
   },
   "file_extension": ".py",
   "mimetype": "text/x-python",
   "name": "python",
   "nbconvert_exporter": "python",
   "pygments_lexer": "ipython3",
   "version": "3.10.8"
  },
  "orig_nbformat": 4,
  "vscode": {
   "interpreter": {
    "hash": "ecafe31874b13fdca45e8be90649c8372936be0fe801619fa05b54ce935940bd"
   }
  }
 },
 "nbformat": 4,
 "nbformat_minor": 2
}
