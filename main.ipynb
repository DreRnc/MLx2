{
 "cells": [
  {
   "cell_type": "code",
   "execution_count": 1,
   "metadata": {},
   "outputs": [
    {
     "name": "stdout",
     "output_type": "stream",
     "text": [
      "3.10.8 (v3.10.8:aaaf517424, Oct 11 2022, 10:14:40) [Clang 13.0.0 (clang-1300.0.29.30)]\n"
     ]
    }
   ],
   "source": [
    "import sys;print(sys.version)"
   ]
  },
  {
   "cell_type": "code",
   "execution_count": 2,
   "metadata": {},
   "outputs": [
    {
     "data": {
      "text/plain": [
       "'/Users/dre/Desktop/GitRepo/DreRnc/MLx2'"
      ]
     },
     "execution_count": 2,
     "metadata": {},
     "output_type": "execute_result"
    }
   ],
   "source": [
    "os.getcwd() "
   ]
  },
  {
   "cell_type": "code",
   "execution_count": 3,
   "metadata": {},
   "outputs": [],
   "source": [
    "os.chdir('src')"
   ]
  },
  {
   "cell_type": "code",
   "execution_count": 4,
   "metadata": {},
   "outputs": [],
   "source": [
    "from MLP import MLP "
   ]
  },
  {
   "cell_type": "code",
   "execution_count": 5,
   "metadata": {},
   "outputs": [
    {
     "name": "stdout",
     "output_type": "stream",
     "text": [
      "4\n",
      "5\n",
      "9\n",
      "4\n",
      "7\n",
      "2\n"
     ]
    }
   ],
   "source": [
    "mlp = MLP([4, 5, 9, 4, 7], 3, 2, \"Sigm\")\n"
   ]
  },
  {
   "cell_type": "code",
   "execution_count": 6,
   "metadata": {},
   "outputs": [
    {
     "data": {
      "text/plain": [
       "[<Layers.Dense at 0x110444af0>,\n",
       " <Layers.Dense at 0x107bd30a0>,\n",
       " <Layers.Dense at 0x107ba7460>,\n",
       " <Layers.Dense at 0x110444760>,\n",
       " <Layers.Dense at 0x1104479d0>,\n",
       " <Layers.FullyConnectedLayer at 0x110447850>]"
      ]
     },
     "execution_count": 6,
     "metadata": {},
     "output_type": "execute_result"
    }
   ],
   "source": [
    "mlp.layers"
   ]
  },
  {
   "cell_type": "code",
   "execution_count": 7,
   "metadata": {},
   "outputs": [
    {
     "name": "stdout",
     "output_type": "stream",
     "text": [
      "4\n"
     ]
    }
   ],
   "source": [
    "print(range(1,5)[3])"
   ]
  },
  {
   "cell_type": "code",
   "execution_count": null,
   "metadata": {},
   "outputs": [],
   "source": []
  },
  {
   "cell_type": "code",
   "execution_count": 8,
   "metadata": {},
   "outputs": [
    {
     "name": "stdout",
     "output_type": "stream",
     "text": [
      "[[1. 0. 0.]\n",
      " [0. 0. 0.]\n",
      " [0. 0. 0.]\n",
      " [0. 0. 0.]]\n"
     ]
    }
   ],
   "source": [
    "import numpy as np\n",
    "X = np.zeros((4,3))\n",
    "\n",
    "X[0][0] =1\n",
    "print(X)"
   ]
  },
  {
   "cell_type": "code",
   "execution_count": 10,
   "metadata": {},
   "outputs": [
    {
     "ename": "UnboundLocalError",
     "evalue": "local variable 'scale' referenced before assignment",
     "output_type": "error",
     "traceback": [
      "\u001b[0;31m---------------------------------------------------------------------------\u001b[0m",
      "\u001b[0;31mUnboundLocalError\u001b[0m                         Traceback (most recent call last)",
      "Cell \u001b[0;32mIn[10], line 1\u001b[0m\n\u001b[0;32m----> 1\u001b[0m mlp\u001b[39m.\u001b[39;49mfit(X, X[:,\u001b[39m1\u001b[39;49m:], batch_size\u001b[39m=\u001b[39;49m\u001b[39m2\u001b[39;49m, initialization_str \u001b[39m=\u001b[39;49m \u001b[39m\"\u001b[39;49m\u001b[39mScaled\u001b[39;49m\u001b[39m\"\u001b[39;49m, scale \u001b[39m=\u001b[39;49m \u001b[39m0.1\u001b[39;49m, error_function_str\u001b[39m=\u001b[39;49m \u001b[39m\"\u001b[39;49m\u001b[39mMSE\u001b[39;49m\u001b[39m\"\u001b[39;49m, optimizer_str \u001b[39m=\u001b[39;49m \u001b[39m\"\u001b[39;49m\u001b[39mgradient_descent\u001b[39;49m\u001b[39m\"\u001b[39;49m, regularization_function_str\u001b[39m=\u001b[39;49m \u001b[39m\"\u001b[39;49m\u001b[39mL1\u001b[39;49m\u001b[39m\"\u001b[39;49m, )\n",
      "File \u001b[0;32m~/Desktop/GitRepo/DreRnc/MLx2/src/MLP.py:80\u001b[0m, in \u001b[0;36mMLP.fit\u001b[0;34m(self, X, y_true, batch_size, initialization_str, scale, error_function_str, optimizer_str, regularization_function_str)\u001b[0m\n\u001b[1;32m     77\u001b[0m n_batches \u001b[39m=\u001b[39m math\u001b[39m.\u001b[39mceil(n_samples\u001b[39m/\u001b[39mbatch_size)\n\u001b[1;32m     79\u001b[0m \u001b[39mfor\u001b[39;00m layer \u001b[39min\u001b[39;00m \u001b[39mself\u001b[39m\u001b[39m.\u001b[39mlayers:\n\u001b[0;32m---> 80\u001b[0m     layer\u001b[39m.\u001b[39;49minitialize(initialization_str, scale, optimizer_str, regularization_function_str)\n\u001b[1;32m     82\u001b[0m error_function \u001b[39m=\u001b[39m get_metric_instance(error_function_str)\n\u001b[1;32m     84\u001b[0m \u001b[39mfor\u001b[39;00m batch \u001b[39min\u001b[39;00m \u001b[39mrange\u001b[39m(n_batches):\n",
      "File \u001b[0;32m~/Desktop/GitRepo/DreRnc/MLx2/src/Layers.py:315\u001b[0m, in \u001b[0;36mDense.initialize\u001b[0;34m(self, optimizer, regularization, weights_initialization, weights_scale)\u001b[0m\n\u001b[1;32m    299\u001b[0m \u001b[39mdef\u001b[39;00m \u001b[39minitialize\u001b[39m(\u001b[39mself\u001b[39m, optimizer, regularization, weights_initialization \u001b[39m=\u001b[39m \u001b[39m'\u001b[39m\u001b[39mscaled\u001b[39m\u001b[39m'\u001b[39m, weights_scale \u001b[39m=\u001b[39m \u001b[39m0.01\u001b[39m):\n\u001b[1;32m    301\u001b[0m     \u001b[39m\"\"\"\u001b[39;00m\n\u001b[1;32m    302\u001b[0m \u001b[39m    \u001b[39;00m\n\u001b[1;32m    303\u001b[0m \u001b[39m    Initialize properties of the FCL and AL which are specific for each fit.\u001b[39;00m\n\u001b[0;32m   (...)\u001b[0m\n\u001b[1;32m    312\u001b[0m \n\u001b[1;32m    313\u001b[0m \u001b[39m    \"\"\"\u001b[39;00m\n\u001b[0;32m--> 315\u001b[0m     \u001b[39mself\u001b[39;49m\u001b[39m.\u001b[39;49m_fully_connected_layer\u001b[39m.\u001b[39;49minitialize(weights_initialization, optimizer, regularization)\n",
      "File \u001b[0;32m~/Desktop/GitRepo/DreRnc/MLx2/src/Layers.py:112\u001b[0m, in \u001b[0;36mFullyConnectedLayer.initialize\u001b[0;34m(self, optimizer, regularization_function, weights_initialization, weights_scale)\u001b[0m\n\u001b[1;32m    110\u001b[0m \u001b[39melif\u001b[39;00m weights_initialization \u001b[39m==\u001b[39m \u001b[39m\"\u001b[39m\u001b[39mhe\u001b[39m\u001b[39m\"\u001b[39m:\n\u001b[1;32m    111\u001b[0m     scale \u001b[39m=\u001b[39m \u001b[39m2\u001b[39m \u001b[39m/\u001b[39m \u001b[39mself\u001b[39m\u001b[39m.\u001b[39mn_input\n\u001b[0;32m--> 112\u001b[0m \u001b[39mself\u001b[39m\u001b[39m.\u001b[39m_weights \u001b[39m=\u001b[39m np\u001b[39m.\u001b[39mrandom\u001b[39m.\u001b[39mnormal(loc \u001b[39m=\u001b[39m \u001b[39m0.0\u001b[39m, scale \u001b[39m=\u001b[39m scale, size \u001b[39m=\u001b[39m (\u001b[39mself\u001b[39m\u001b[39m.\u001b[39mn_inputs_per_unit, \u001b[39mself\u001b[39m\u001b[39m.\u001b[39mn_units))\n\u001b[1;32m    113\u001b[0m \u001b[39mself\u001b[39m\u001b[39m.\u001b[39m_biases \u001b[39m=\u001b[39m np\u001b[39m.\u001b[39mzeros(\u001b[39m1\u001b[39m, \u001b[39mself\u001b[39m\u001b[39m.\u001b[39mn_units)\n\u001b[1;32m    115\u001b[0m \u001b[39m# Optimizer initialization\u001b[39;00m\n",
      "\u001b[0;31mUnboundLocalError\u001b[0m: local variable 'scale' referenced before assignment"
     ]
    }
   ],
   "source": [
    "mlp.fit(X, X[:,1:], batch_size=2, initialization_str = \"scaled\", scale = 0.1, error_function_str= \"MSE\", optimizer_str = \"gradient_descent\", regularization_function_str= \"L1\", )\n"
   ]
  },
  {
   "cell_type": "code",
   "execution_count": 3,
   "metadata": {},
   "outputs": [],
   "source": [
    "from RegularizationFunctions import get_regularization_instance\n"
   ]
  },
  {
   "cell_type": "code",
   "execution_count": 5,
   "metadata": {},
   "outputs": [],
   "source": [
    "L = get_regularization_instance(\"L1\")"
   ]
  },
  {
   "cell_type": "code",
   "execution_count": 6,
   "metadata": {},
   "outputs": [],
   "source": [
    "a = L.derivative(1)"
   ]
  }
 ],
 "metadata": {
  "kernelspec": {
   "display_name": "env",
   "language": "python",
   "name": "python3"
  },
  "language_info": {
   "codemirror_mode": {
    "name": "ipython",
    "version": 3
   },
   "file_extension": ".py",
   "mimetype": "text/x-python",
   "name": "python",
   "nbconvert_exporter": "python",
   "pygments_lexer": "ipython3",
   "version": "3.10.8"
  },
  "orig_nbformat": 4,
  "vscode": {
   "interpreter": {
    "hash": "ecafe31874b13fdca45e8be90649c8372936be0fe801619fa05b54ce935940bd"
   }
  }
 },
 "nbformat": 4,
 "nbformat_minor": 2
}
