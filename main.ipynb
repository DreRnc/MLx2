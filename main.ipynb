{
 "cells": [
  {
   "cell_type": "code",
   "execution_count": 1,
   "metadata": {},
   "outputs": [
    {
     "data": {
      "text/plain": [
       "'/Users/biancaziliotto/Desktop/GitRepo/MLx2'"
      ]
     },
     "execution_count": 1,
     "metadata": {},
     "output_type": "execute_result"
    }
   ],
   "source": [
    "os.getcwd() "
   ]
  },
  {
   "cell_type": "code",
   "execution_count": 2,
   "metadata": {},
   "outputs": [],
   "source": [
    "os.chdir('src')"
   ]
  },
  {
   "cell_type": "code",
   "execution_count": 3,
   "metadata": {},
   "outputs": [],
   "source": [
    "from MLP import MLP "
   ]
  },
  {
   "cell_type": "code",
   "execution_count": 4,
   "metadata": {},
   "outputs": [
    {
     "name": "stdout",
     "output_type": "stream",
     "text": [
      "4\n",
      "5\n",
      "9\n",
      "4\n",
      "7\n",
      "2\n"
     ]
    }
   ],
   "source": [
    "mlp = MLP([4, 5, 9, 4, 7], 3, 2, \"Sigm\")\n"
   ]
  },
  {
   "cell_type": "code",
   "execution_count": 5,
   "metadata": {},
   "outputs": [
    {
     "data": {
      "text/plain": [
       "[<Layers.Dense at 0x10dd86dd0>,\n",
       " <Layers.Dense at 0x10dd86f80>,\n",
       " <Layers.Dense at 0x10dd867a0>,\n",
       " <Layers.Dense at 0x10dd86650>,\n",
       " <Layers.Dense at 0x10dd86500>,\n",
       " <Layers.FullyConnectedLayer at 0x10dd863b0>]"
      ]
     },
     "execution_count": 5,
     "metadata": {},
     "output_type": "execute_result"
    }
   ],
   "source": [
    "mlp.layers"
   ]
  },
  {
   "cell_type": "code",
   "execution_count": 6,
   "metadata": {},
   "outputs": [
    {
     "name": "stdout",
     "output_type": "stream",
     "text": [
      "[[1. 0. 0.]\n",
      " [0. 0. 0.]\n",
      " [0. 0. 0.]\n",
      " [0. 0. 0.]]\n",
      "[[0. 0.]\n",
      " [0. 0.]\n",
      " [0. 0.]\n",
      " [0. 0.]]\n"
     ]
    }
   ],
   "source": [
    "import numpy as np\n",
    "X = np.zeros((4,3))\n",
    "y_true  = X[:,1:]\n",
    "X[0][0] =1\n",
    "print(X)\n",
    "print(y_true)"
   ]
  },
  {
   "cell_type": "code",
   "execution_count": 7,
   "metadata": {},
   "outputs": [
    {
     "name": "stdout",
     "output_type": "stream",
     "text": [
      "MSE = 0.028597683789413526\n",
      "[[ 0.06328951 -0.23062916]\n",
      " [ 0.06328953 -0.23062914]]\n",
      "[[0. 0. 0. 0.]]\n"
     ]
    },
    {
     "ename": "ValueError",
     "evalue": "operands could not be broadcast together with shapes (2,2) (1,4) ",
     "output_type": "error",
     "traceback": [
      "\u001b[0;31m---------------------------------------------------------------------------\u001b[0m",
      "\u001b[0;31mValueError\u001b[0m                                Traceback (most recent call last)",
      "Cell \u001b[0;32mIn[7], line 1\u001b[0m\n\u001b[0;32m----> 1\u001b[0m mlp\u001b[39m.\u001b[39;49mfit(X, y_true, batch_size\u001b[39m=\u001b[39;49m\u001b[39m2\u001b[39;49m, initialization_str \u001b[39m=\u001b[39;49m \u001b[39m\"\u001b[39;49m\u001b[39mscaled\u001b[39;49m\u001b[39m\"\u001b[39;49m, scale \u001b[39m=\u001b[39;49m \u001b[39m0.1\u001b[39;49m, error_function_str\u001b[39m=\u001b[39;49m \u001b[39m\"\u001b[39;49m\u001b[39mMSE\u001b[39;49m\u001b[39m\"\u001b[39;49m, optimizer_str \u001b[39m=\u001b[39;49m \u001b[39m\"\u001b[39;49m\u001b[39mgradient_descent\u001b[39;49m\u001b[39m\"\u001b[39;49m, regularization_function_str\u001b[39m=\u001b[39;49m \u001b[39m\"\u001b[39;49m\u001b[39mL1\u001b[39;49m\u001b[39m\"\u001b[39;49m)\n",
      "File \u001b[0;32m~/Desktop/GitRepo/MLx2/src/MLP.py:99\u001b[0m, in \u001b[0;36mMLP.fit\u001b[0;34m(self, X, y_true, batch_size, initialization_str, scale, error_function_str, optimizer_str, regularization_function_str)\u001b[0m\n\u001b[1;32m     95\u001b[0m grad_outputs \u001b[39m=\u001b[39m error_function\u001b[39m.\u001b[39mderivative(y_true_batch, y_pred_batch)\n\u001b[1;32m     97\u001b[0m \u001b[39mfor\u001b[39;00m layer \u001b[39min\u001b[39;00m \u001b[39mself\u001b[39m\u001b[39m.\u001b[39mlayers:\n\u001b[0;32m---> 99\u001b[0m     grad_inputs \u001b[39m=\u001b[39m layer\u001b[39m.\u001b[39;49mbackprop(grad_outputs)\n",
      "File \u001b[0;32m~/Desktop/GitRepo/MLx2/src/Layers.py:397\u001b[0m, in \u001b[0;36mDense.backprop\u001b[0;34m(self, grad_output)\u001b[0m\n\u001b[1;32m    378\u001b[0m \u001b[39mdef\u001b[39;00m \u001b[39mbackprop\u001b[39m (\u001b[39mself\u001b[39m, grad_output):\n\u001b[1;32m    380\u001b[0m     \u001b[39m\"\"\"\u001b[39;00m\n\u001b[1;32m    381\u001b[0m \u001b[39m    \u001b[39;00m\n\u001b[1;32m    382\u001b[0m \u001b[39m    Performs backpropagation, combining backprop of both FCL and AL.\u001b[39;00m\n\u001b[0;32m   (...)\u001b[0m\n\u001b[1;32m    394\u001b[0m \n\u001b[1;32m    395\u001b[0m \u001b[39m    \"\"\"\u001b[39;00m\n\u001b[0;32m--> 397\u001b[0m     grad_output_FCL \u001b[39m=\u001b[39m \u001b[39mself\u001b[39;49m\u001b[39m.\u001b[39;49m_activation_layer\u001b[39m.\u001b[39;49mbackprop(grad_output)\n\u001b[1;32m    398\u001b[0m     \u001b[39mreturn\u001b[39;00m \u001b[39mself\u001b[39m\u001b[39m.\u001b[39m_fully_connected_layer\u001b[39m.\u001b[39mbackprop(grad_output_FCL)\n",
      "File \u001b[0;32m~/Desktop/GitRepo/MLx2/src/Layers.py:277\u001b[0m, in \u001b[0;36mActivationLayer.backprop\u001b[0;34m(self, grad_output)\u001b[0m\n\u001b[1;32m    274\u001b[0m \u001b[39mprint\u001b[39m(grad_output)\n\u001b[1;32m    275\u001b[0m \u001b[39mprint\u001b[39m(\u001b[39mself\u001b[39m\u001b[39m.\u001b[39m_input)\n\u001b[0;32m--> 277\u001b[0m \u001b[39mreturn\u001b[39;00m grad_output \u001b[39m*\u001b[39;49m \u001b[39mself\u001b[39;49m\u001b[39m.\u001b[39;49mactivation\u001b[39m.\u001b[39;49mderivative(\u001b[39mself\u001b[39;49m\u001b[39m.\u001b[39;49m_input)\n",
      "\u001b[0;31mValueError\u001b[0m: operands could not be broadcast together with shapes (2,2) (1,4) "
     ]
    }
   ],
   "source": [
    "mlp.fit(X, y_true, batch_size=2, initialization_str = \"scaled\", scale = 0.1, error_function_str= \"MSE\", optimizer_str = \"gradient_descent\", regularization_function_str= \"L1\")"
   ]
  },
  {
   "cell_type": "code",
   "execution_count": null,
   "metadata": {},
   "outputs": [
    {
     "data": {
      "text/plain": [
       "array([[0., 0.],\n",
       "       [0., 0.],\n",
       "       [0., 0.],\n",
       "       [0., 0.]])"
      ]
     },
     "execution_count": 10,
     "metadata": {},
     "output_type": "execute_result"
    }
   ],
   "source": []
  },
  {
   "cell_type": "code",
   "execution_count": null,
   "metadata": {},
   "outputs": [],
   "source": []
  },
  {
   "cell_type": "code",
   "execution_count": null,
   "metadata": {},
   "outputs": [],
   "source": []
  }
 ],
 "metadata": {
  "kernelspec": {
   "display_name": "Python 3",
   "language": "python",
   "name": "python3"
  },
  "language_info": {
   "codemirror_mode": {
    "name": "ipython",
    "version": 3
   },
   "file_extension": ".py",
   "mimetype": "text/x-python",
   "name": "python",
   "nbconvert_exporter": "python",
   "pygments_lexer": "ipython3",
   "version": "3.10.8"
  },
  "orig_nbformat": 4,
  "vscode": {
   "interpreter": {
    "hash": "aee8b7b246df8f9039afb4144a1f6fd8d2ca17a180786b69acc140d282b71a49"
   }
  }
 },
 "nbformat": 4,
 "nbformat_minor": 2
}
